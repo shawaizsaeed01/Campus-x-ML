{
 "cells": [
  {
   "cell_type": "code",
   "execution_count": 1,
   "id": "7d9f7038",
   "metadata": {},
   "outputs": [],
   "source": [
    "import numpy as np\n",
    "import pandas as pd"
   ]
  },
  {
   "cell_type": "code",
   "execution_count": 2,
   "id": "ea0fb798",
   "metadata": {},
   "outputs": [],
   "source": [
    "df = pd.read_csv(\"/home/shawaiz/Desktop/Data_sets/placement.csv\")"
   ]
  },
  {
   "cell_type": "code",
   "execution_count": 3,
   "id": "71b6dbd7",
   "metadata": {},
   "outputs": [
    {
     "data": {
      "text/html": [
       "<div>\n",
       "<style scoped>\n",
       "    .dataframe tbody tr th:only-of-type {\n",
       "        vertical-align: middle;\n",
       "    }\n",
       "\n",
       "    .dataframe tbody tr th {\n",
       "        vertical-align: top;\n",
       "    }\n",
       "\n",
       "    .dataframe thead th {\n",
       "        text-align: right;\n",
       "    }\n",
       "</style>\n",
       "<table border=\"1\" class=\"dataframe\">\n",
       "  <thead>\n",
       "    <tr style=\"text-align: right;\">\n",
       "      <th></th>\n",
       "      <th>Unnamed: 0</th>\n",
       "      <th>cgpa</th>\n",
       "      <th>iq</th>\n",
       "      <th>placement</th>\n",
       "    </tr>\n",
       "  </thead>\n",
       "  <tbody>\n",
       "    <tr>\n",
       "      <th>0</th>\n",
       "      <td>0</td>\n",
       "      <td>6.8</td>\n",
       "      <td>123.0</td>\n",
       "      <td>1</td>\n",
       "    </tr>\n",
       "    <tr>\n",
       "      <th>1</th>\n",
       "      <td>1</td>\n",
       "      <td>5.9</td>\n",
       "      <td>106.0</td>\n",
       "      <td>0</td>\n",
       "    </tr>\n",
       "    <tr>\n",
       "      <th>2</th>\n",
       "      <td>2</td>\n",
       "      <td>5.3</td>\n",
       "      <td>121.0</td>\n",
       "      <td>0</td>\n",
       "    </tr>\n",
       "    <tr>\n",
       "      <th>3</th>\n",
       "      <td>3</td>\n",
       "      <td>7.4</td>\n",
       "      <td>132.0</td>\n",
       "      <td>1</td>\n",
       "    </tr>\n",
       "    <tr>\n",
       "      <th>4</th>\n",
       "      <td>4</td>\n",
       "      <td>5.8</td>\n",
       "      <td>142.0</td>\n",
       "      <td>0</td>\n",
       "    </tr>\n",
       "  </tbody>\n",
       "</table>\n",
       "</div>"
      ],
      "text/plain": [
       "   Unnamed: 0  cgpa     iq  placement\n",
       "0           0   6.8  123.0          1\n",
       "1           1   5.9  106.0          0\n",
       "2           2   5.3  121.0          0\n",
       "3           3   7.4  132.0          1\n",
       "4           4   5.8  142.0          0"
      ]
     },
     "execution_count": 3,
     "metadata": {},
     "output_type": "execute_result"
    }
   ],
   "source": [
    "df.head()"
   ]
  },
  {
   "cell_type": "code",
   "execution_count": 4,
   "id": "a68a8817",
   "metadata": {},
   "outputs": [
    {
     "data": {
      "text/plain": [
       "(100, 4)"
      ]
     },
     "execution_count": 4,
     "metadata": {},
     "output_type": "execute_result"
    }
   ],
   "source": [
    "df.shape"
   ]
  },
  {
   "cell_type": "code",
   "execution_count": 5,
   "id": "7712e05d",
   "metadata": {},
   "outputs": [],
   "source": [
    "### removing unnecessary column\n",
    "df = df.iloc[:,1:]"
   ]
  },
  {
   "cell_type": "code",
   "execution_count": 6,
   "id": "a0947573",
   "metadata": {},
   "outputs": [
    {
     "data": {
      "text/html": [
       "<div>\n",
       "<style scoped>\n",
       "    .dataframe tbody tr th:only-of-type {\n",
       "        vertical-align: middle;\n",
       "    }\n",
       "\n",
       "    .dataframe tbody tr th {\n",
       "        vertical-align: top;\n",
       "    }\n",
       "\n",
       "    .dataframe thead th {\n",
       "        text-align: right;\n",
       "    }\n",
       "</style>\n",
       "<table border=\"1\" class=\"dataframe\">\n",
       "  <thead>\n",
       "    <tr style=\"text-align: right;\">\n",
       "      <th></th>\n",
       "      <th>cgpa</th>\n",
       "      <th>iq</th>\n",
       "      <th>placement</th>\n",
       "    </tr>\n",
       "  </thead>\n",
       "  <tbody>\n",
       "    <tr>\n",
       "      <th>0</th>\n",
       "      <td>6.8</td>\n",
       "      <td>123.0</td>\n",
       "      <td>1</td>\n",
       "    </tr>\n",
       "    <tr>\n",
       "      <th>1</th>\n",
       "      <td>5.9</td>\n",
       "      <td>106.0</td>\n",
       "      <td>0</td>\n",
       "    </tr>\n",
       "    <tr>\n",
       "      <th>2</th>\n",
       "      <td>5.3</td>\n",
       "      <td>121.0</td>\n",
       "      <td>0</td>\n",
       "    </tr>\n",
       "    <tr>\n",
       "      <th>3</th>\n",
       "      <td>7.4</td>\n",
       "      <td>132.0</td>\n",
       "      <td>1</td>\n",
       "    </tr>\n",
       "    <tr>\n",
       "      <th>4</th>\n",
       "      <td>5.8</td>\n",
       "      <td>142.0</td>\n",
       "      <td>0</td>\n",
       "    </tr>\n",
       "  </tbody>\n",
       "</table>\n",
       "</div>"
      ],
      "text/plain": [
       "   cgpa     iq  placement\n",
       "0   6.8  123.0          1\n",
       "1   5.9  106.0          0\n",
       "2   5.3  121.0          0\n",
       "3   7.4  132.0          1\n",
       "4   5.8  142.0          0"
      ]
     },
     "execution_count": 6,
     "metadata": {},
     "output_type": "execute_result"
    }
   ],
   "source": [
    "df.head()"
   ]
  },
  {
   "cell_type": "markdown",
   "id": "f1f87085",
   "metadata": {},
   "source": [
    "# Steps \n",
    "\n",
    "- 1. Preprocess[ Feature Engineering ] + EDA + Feature Selection\n",
    "- 2. Extract input & output columns\n",
    "- 3. Scale the Values\n",
    "- 4. Train Test Split => Cross Validation\n",
    "- 5. Train the Model\n",
    "- 6. Evaluate the Model / Model Selection\n",
    "- 7. Deploy the Model"
   ]
  },
  {
   "cell_type": "code",
   "execution_count": 7,
   "id": "cd7b705e",
   "metadata": {},
   "outputs": [],
   "source": [
    "import matplotlib.pyplot as plt"
   ]
  },
  {
   "cell_type": "code",
   "execution_count": 8,
   "id": "e6c7099e",
   "metadata": {},
   "outputs": [
    {
     "data": {
      "text/plain": [
       "Text(0, 0.5, 'iq')"
      ]
     },
     "execution_count": 8,
     "metadata": {},
     "output_type": "execute_result"
    },
    {
     "data": {
      "image/png": "[encoded data removed]",
      "text/plain": [
       "<Figure size 432x288 with 1 Axes>"
      ]
     },
     "metadata": {
      "needs_background": "light"
     },
     "output_type": "display_data"
    }
   ],
   "source": [
    "plt.scatter(df['cgpa'],df['iq'])\n",
    "plt.xlabel('cgpa', size=20)\n",
    "plt.ylabel('iq', size=20)"
   ]
  },
  {
   "cell_type": "code",
   "execution_count": 9,
   "id": "4a318f60",
   "metadata": {},
   "outputs": [
    {
     "data": {
      "text/plain": [
       "Text(0, 0.5, 'iq')"
      ]
     },
     "execution_count": 9,
     "metadata": {},
     "output_type": "execute_result"
    },
    {
     "data": {
      "image/png": "[encoded data removed]",
      "text/plain": [
       "<Figure size 432x288 with 1 Axes>"
      ]
     },
     "metadata": {
      "needs_background": "light"
     },
     "output_type": "display_data"
    }
   ],
   "source": [
    "plt.scatter(df['cgpa'],df['iq'], c=df['placement'])       ################################\n",
    "plt.xlabel('cgpa', size=20)                               ### yellow ki placement done ###\n",
    "plt.ylabel('iq', size=20)                                 ################################"
   ]
  },
  {
   "cell_type": "code",
   "execution_count": 10,
   "id": "a99fbce3",
   "metadata": {},
   "outputs": [],
   "source": [
    "X = df.iloc[:,0:2]\n",
    "y = df.iloc[:,-1]"
   ]
  },
  {
   "cell_type": "markdown",
   "id": "7856c6ac",
   "metadata": {},
   "source": [
    "# Train Test Split => Cross Validation"
   ]
  },
  {
   "cell_type": "code",
   "execution_count": 11,
   "id": "0e2b4944",
   "metadata": {},
   "outputs": [],
   "source": [
    "from sklearn.model_selection import train_test_split"
   ]
  },
  {
   "cell_type": "code",
   "execution_count": 12,
   "id": "bf3f72f8",
   "metadata": {},
   "outputs": [
    {
     "data": {
      "text/plain": [
       "[    cgpa     iq\n",
       " 67   5.0  118.0\n",
       " 48   6.6  138.0\n",
       " 78   6.1   81.0\n",
       " 54   6.4  141.0\n",
       " 18   4.0  100.0\n",
       " ..   ...    ...\n",
       " 75   4.8  169.0\n",
       " 4    5.8  142.0\n",
       " 46   5.3  114.0\n",
       " 12   5.4  139.0\n",
       " 80   4.9  196.0\n",
       " \n",
       " [90 rows x 2 columns],\n",
       "     cgpa     iq\n",
       " 73   4.9   61.0\n",
       " 31   3.9  109.0\n",
       " 68   4.0   75.0\n",
       " 63   6.3  128.0\n",
       " 5    7.1   48.0\n",
       " 39   4.6  146.0\n",
       " 43   6.8  141.0\n",
       " 32   7.0  139.0\n",
       " 69   8.5  120.0\n",
       " 27   6.0  124.0,\n",
       " 67    0\n",
       " 48    1\n",
       " 78    0\n",
       " 54    1\n",
       " 18    0\n",
       "      ..\n",
       " 75    0\n",
       " 4     0\n",
       " 46    0\n",
       " 12    0\n",
       " 80    0\n",
       " Name: placement, Length: 90, dtype: int64,\n",
       " 73    0\n",
       " 31    0\n",
       " 68    0\n",
       " 63    1\n",
       " 5     1\n",
       " 39    0\n",
       " 43    1\n",
       " 32    1\n",
       " 69    1\n",
       " 27    1\n",
       " Name: placement, dtype: int64]"
      ]
     },
     "execution_count": 12,
     "metadata": {},
     "output_type": "execute_result"
    }
   ],
   "source": [
    "### train => test\n",
    "train_test_split(X, y, test_size=0.1)"
   ]
  },
  {
   "cell_type": "code",
   "execution_count": 13,
   "id": "01af3267",
   "metadata": {},
   "outputs": [],
   "source": [
    "### giving variables\n",
    "X_train, X_test, y_train, y_test = train_test_split(X, y, test_size=0.1)"
   ]
  },
  {
   "cell_type": "code",
   "execution_count": 14,
   "id": "684ca407",
   "metadata": {},
   "outputs": [
    {
     "data": {
      "text/html": [
       "<div>\n",
       "<style scoped>\n",
       "    .dataframe tbody tr th:only-of-type {\n",
       "        vertical-align: middle;\n",
       "    }\n",
       "\n",
       "    .dataframe tbody tr th {\n",
       "        vertical-align: top;\n",
       "    }\n",
       "\n",
       "    .dataframe thead th {\n",
       "        text-align: right;\n",
       "    }\n",
       "</style>\n",
       "<table border=\"1\" class=\"dataframe\">\n",
       "  <thead>\n",
       "    <tr style=\"text-align: right;\">\n",
       "      <th></th>\n",
       "      <th>cgpa</th>\n",
       "      <th>iq</th>\n",
       "    </tr>\n",
       "  </thead>\n",
       "  <tbody>\n",
       "    <tr>\n",
       "      <th>91</th>\n",
       "      <td>7.5</td>\n",
       "      <td>158.0</td>\n",
       "    </tr>\n",
       "    <tr>\n",
       "      <th>88</th>\n",
       "      <td>4.4</td>\n",
       "      <td>149.0</td>\n",
       "    </tr>\n",
       "    <tr>\n",
       "      <th>75</th>\n",
       "      <td>4.8</td>\n",
       "      <td>169.0</td>\n",
       "    </tr>\n",
       "    <tr>\n",
       "      <th>35</th>\n",
       "      <td>6.8</td>\n",
       "      <td>90.0</td>\n",
       "    </tr>\n",
       "    <tr>\n",
       "      <th>62</th>\n",
       "      <td>6.0</td>\n",
       "      <td>102.0</td>\n",
       "    </tr>\n",
       "    <tr>\n",
       "      <th>...</th>\n",
       "      <td>...</td>\n",
       "      <td>...</td>\n",
       "    </tr>\n",
       "    <tr>\n",
       "      <th>69</th>\n",
       "      <td>8.5</td>\n",
       "      <td>120.0</td>\n",
       "    </tr>\n",
       "    <tr>\n",
       "      <th>7</th>\n",
       "      <td>5.0</td>\n",
       "      <td>63.0</td>\n",
       "    </tr>\n",
       "    <tr>\n",
       "      <th>56</th>\n",
       "      <td>6.1</td>\n",
       "      <td>65.0</td>\n",
       "    </tr>\n",
       "    <tr>\n",
       "      <th>31</th>\n",
       "      <td>3.9</td>\n",
       "      <td>109.0</td>\n",
       "    </tr>\n",
       "    <tr>\n",
       "      <th>74</th>\n",
       "      <td>6.7</td>\n",
       "      <td>154.0</td>\n",
       "    </tr>\n",
       "  </tbody>\n",
       "</table>\n",
       "<p>90 rows × 2 columns</p>\n",
       "</div>"
      ],
      "text/plain": [
       "    cgpa     iq\n",
       "91   7.5  158.0\n",
       "88   4.4  149.0\n",
       "75   4.8  169.0\n",
       "35   6.8   90.0\n",
       "62   6.0  102.0\n",
       "..   ...    ...\n",
       "69   8.5  120.0\n",
       "7    5.0   63.0\n",
       "56   6.1   65.0\n",
       "31   3.9  109.0\n",
       "74   6.7  154.0\n",
       "\n",
       "[90 rows x 2 columns]"
      ]
     },
     "execution_count": 14,
     "metadata": {},
     "output_type": "execute_result"
    }
   ],
   "source": [
    "X_train"
   ]
  },
  {
   "cell_type": "code",
   "execution_count": 15,
   "id": "b10d1e5a",
   "metadata": {},
   "outputs": [
    {
     "data": {
      "text/plain": [
       "91    1\n",
       "88    0\n",
       "75    0\n",
       "35    1\n",
       "62    0\n",
       "     ..\n",
       "69    1\n",
       "7     0\n",
       "56    0\n",
       "31    0\n",
       "74    1\n",
       "Name: placement, Length: 90, dtype: int64"
      ]
     },
     "execution_count": 15,
     "metadata": {},
     "output_type": "execute_result"
    }
   ],
   "source": [
    "y_train"
   ]
  },
  {
   "cell_type": "code",
   "execution_count": 16,
   "id": "d4545461",
   "metadata": {},
   "outputs": [
    {
     "data": {
      "text/html": [
       "<div>\n",
       "<style scoped>\n",
       "    .dataframe tbody tr th:only-of-type {\n",
       "        vertical-align: middle;\n",
       "    }\n",
       "\n",
       "    .dataframe tbody tr th {\n",
       "        vertical-align: top;\n",
       "    }\n",
       "\n",
       "    .dataframe thead th {\n",
       "        text-align: right;\n",
       "    }\n",
       "</style>\n",
       "<table border=\"1\" class=\"dataframe\">\n",
       "  <thead>\n",
       "    <tr style=\"text-align: right;\">\n",
       "      <th></th>\n",
       "      <th>cgpa</th>\n",
       "      <th>iq</th>\n",
       "    </tr>\n",
       "  </thead>\n",
       "  <tbody>\n",
       "    <tr>\n",
       "      <th>59</th>\n",
       "      <td>4.8</td>\n",
       "      <td>112.0</td>\n",
       "    </tr>\n",
       "    <tr>\n",
       "      <th>14</th>\n",
       "      <td>6.1</td>\n",
       "      <td>103.0</td>\n",
       "    </tr>\n",
       "    <tr>\n",
       "      <th>51</th>\n",
       "      <td>4.8</td>\n",
       "      <td>141.0</td>\n",
       "    </tr>\n",
       "    <tr>\n",
       "      <th>1</th>\n",
       "      <td>5.9</td>\n",
       "      <td>106.0</td>\n",
       "    </tr>\n",
       "    <tr>\n",
       "      <th>86</th>\n",
       "      <td>5.1</td>\n",
       "      <td>128.0</td>\n",
       "    </tr>\n",
       "    <tr>\n",
       "      <th>4</th>\n",
       "      <td>5.8</td>\n",
       "      <td>142.0</td>\n",
       "    </tr>\n",
       "    <tr>\n",
       "      <th>26</th>\n",
       "      <td>7.0</td>\n",
       "      <td>199.0</td>\n",
       "    </tr>\n",
       "    <tr>\n",
       "      <th>12</th>\n",
       "      <td>5.4</td>\n",
       "      <td>139.0</td>\n",
       "    </tr>\n",
       "    <tr>\n",
       "      <th>44</th>\n",
       "      <td>7.5</td>\n",
       "      <td>61.0</td>\n",
       "    </tr>\n",
       "    <tr>\n",
       "      <th>8</th>\n",
       "      <td>6.1</td>\n",
       "      <td>156.0</td>\n",
       "    </tr>\n",
       "  </tbody>\n",
       "</table>\n",
       "</div>"
      ],
      "text/plain": [
       "    cgpa     iq\n",
       "59   4.8  112.0\n",
       "14   6.1  103.0\n",
       "51   4.8  141.0\n",
       "1    5.9  106.0\n",
       "86   5.1  128.0\n",
       "4    5.8  142.0\n",
       "26   7.0  199.0\n",
       "12   5.4  139.0\n",
       "44   7.5   61.0\n",
       "8    6.1  156.0"
      ]
     },
     "execution_count": 16,
     "metadata": {},
     "output_type": "execute_result"
    }
   ],
   "source": [
    "X_test"
   ]
  },
  {
   "cell_type": "code",
   "execution_count": 17,
   "id": "97c09458",
   "metadata": {},
   "outputs": [],
   "source": [
    "from sklearn.preprocessing import StandardScaler"
   ]
  },
  {
   "cell_type": "code",
   "execution_count": 18,
   "id": "bc05f6e5",
   "metadata": {},
   "outputs": [],
   "source": [
    "scaler = StandardScaler()"
   ]
  },
  {
   "cell_type": "code",
   "execution_count": 19,
   "id": "92ec16ec",
   "metadata": {},
   "outputs": [],
   "source": [
    "X_train = scaler.fit_transform(X_train)"
   ]
  },
  {
   "cell_type": "code",
   "execution_count": 20,
   "id": "2ae840c1",
   "metadata": {},
   "outputs": [
    {
     "data": {
      "text/plain": [
       "array([[ 1.28201093e+00,  8.70180765e-01],\n",
       "       [-1.37930641e+00,  6.46348939e-01],\n",
       "       [-1.03591062e+00,  1.14375300e+00],\n",
       "       [ 6.81068308e-01, -8.20993030e-01],\n",
       "       [-5.72326309e-03, -5.22550596e-01],\n",
       "       [ 1.19616199e+00,  2.23555490e-01],\n",
       "       [-1.46515535e+00,  1.91472929e+00],\n",
       "       [ 3.37672523e-01,  4.47387316e-01],\n",
       "       [-1.12175957e+00, -5.00167413e-02],\n",
       "       [-8.64212727e-01, -1.24627350e-01],\n",
       "       [ 8.01256833e-02, -1.04482486e+00],\n",
       "       [-5.72326309e-03, -1.41787790e+00],\n",
       "       [ 1.79710461e+00,  1.06914239e+00],\n",
       "       [-5.20816942e-01,  2.98166099e-01],\n",
       "       [-1.12175957e+00, -1.76606074e+00],\n",
       "       [-2.32364482e+00,  1.49193584e+00],\n",
       "       [ 1.71125567e+00, -1.09456526e+00],\n",
       "       [ 1.53955777e+00, -2.24108161e-01],\n",
       "       [-2.63270102e-01,  4.97127722e-01],\n",
       "       [-1.37930641e+00, -2.01476277e+00],\n",
       "       [-5.72326309e-03,  6.46348939e-01],\n",
       "       [-1.03591062e+00,  9.94531779e-01],\n",
       "       [-9.50061674e-01,  2.73295896e-01],\n",
       "       [-6.92514834e-01,  2.51161415e+00],\n",
       "       [-9.50061674e-01,  6.96089345e-01],\n",
       "       [ 1.28201093e+00,  1.73815085e-01],\n",
       "       [ 6.81068308e-01,  4.47387316e-01],\n",
       "       [ 8.01256833e-02,  2.23555490e-01],\n",
       "       [-5.72326309e-03, -1.94015216e+00],\n",
       "       [-6.06665888e-01, -2.24108161e-01],\n",
       "       [ 4.23521469e-01, -8.20993030e-01],\n",
       "       [ 2.51823576e-01,  1.24074679e-01],\n",
       "       [-5.20816942e-01, -2.24108161e-01],\n",
       "       [-7.78363781e-01,  1.31784442e+00],\n",
       "       [ 7.66917255e-01, -6.71771813e-01],\n",
       "       [ 5.09370415e-01,  3.72776708e-01],\n",
       "       [ 6.81068308e-01, -2.73848567e-01],\n",
       "       [ 8.52766201e-01,  3.97646910e-01],\n",
       "       [ 4.23521469e-01,  9.19921171e-01],\n",
       "       [ 9.38615147e-01,  6.96089345e-01],\n",
       "       [-6.92514834e-01,  9.44791374e-01],\n",
       "       [-2.15194692e+00,  2.73544598e+00],\n",
       "       [ 1.96880250e+00,  1.11888279e+00],\n",
       "       [ 7.66917255e-01,  3.72776708e-01],\n",
       "       [ 8.52766201e-01,  1.29297421e+00],\n",
       "       [ 8.52766201e-01, -2.73848567e-01],\n",
       "       [-1.12175957e+00, -8.95603639e-01],\n",
       "       [-5.72326309e-03,  2.45938673e-02],\n",
       "       [ 1.79710461e+00,  6.46348939e-01],\n",
       "       [-1.72270219e+00, -1.19404607e+00],\n",
       "       [ 1.11031304e+00, -1.81580115e+00],\n",
       "       [ 7.66917255e-01,  3.97646910e-01],\n",
       "       [-1.72270219e+00, -5.72291002e-01],\n",
       "       [ 1.11031304e+00, -9.20473842e-01],\n",
       "       [-6.06665888e-01, -5.00167413e-02],\n",
       "       [ 6.81068308e-01, -2.76335587e-04],\n",
       "       [-6.92514834e-01,  2.23555490e-01],\n",
       "       [ 2.51823576e-01, -4.97680393e-01],\n",
       "       [-2.63270102e-01,  2.23555490e-01],\n",
       "       [ 1.65974630e-01, -2.48978364e-01],\n",
       "       [ 1.36785988e+00, -8.45863233e-01],\n",
       "       [ 4.23521469e-01, -2.13911378e+00],\n",
       "       [ 3.37672523e-01, -1.74367756e-01],\n",
       "       [-1.20760851e+00,  5.71738330e-01],\n",
       "       [ 1.11031304e+00,  3.47906505e-01],\n",
       "       [-1.77421156e-01,  1.06914239e+00],\n",
       "       [ 1.36785988e+00,  1.24074679e-01],\n",
       "       [ 5.95219362e-01,  1.46706563e+00],\n",
       "       [-2.63270102e-01,  1.14375300e+00],\n",
       "       [-7.78363781e-01, -1.41787790e+00],\n",
       "       [ 8.52766201e-01, -1.46761831e+00],\n",
       "       [-2.63270102e-01,  4.22517113e-01],\n",
       "       [-5.20816942e-01, -3.98199582e-01],\n",
       "       [-9.50061674e-01, -1.54222891e+00],\n",
       "       [-9.50061674e-01,  1.81524847e+00],\n",
       "       [ 5.09370415e-01, -7.48869442e-02],\n",
       "       [-9.50061674e-01, -7.48869442e-02],\n",
       "       [-9.50061674e-01,  7.95570156e-01],\n",
       "       [ 2.51823576e-01,  9.92044759e-02],\n",
       "       [-8.64212727e-01, -7.96122828e-01],\n",
       "       [-6.92514834e-01, -8.20993030e-01],\n",
       "       [-6.92514834e-01, -3.23588973e-01],\n",
       "       [ 9.38615147e-01, -1.86554155e+00],\n",
       "       [ 1.11031304e+00, -1.74367756e-01],\n",
       "       [ 4.23521469e-01,  1.73815085e-01],\n",
       "       [ 2.14050040e+00, -7.48869442e-02],\n",
       "       [-8.64212727e-01, -1.49248851e+00],\n",
       "       [ 8.01256833e-02, -1.44274810e+00],\n",
       "       [-1.80855114e+00, -3.48459176e-01],\n",
       "       [ 5.95219362e-01,  7.70699953e-01]])"
      ]
     },
     "execution_count": 20,
     "metadata": {},
     "output_type": "execute_result"
    }
   ],
   "source": [
    "X_train"
   ]
  },
  {
   "cell_type": "code",
   "execution_count": 21,
   "id": "2bf57216",
   "metadata": {
    "scrolled": true
   },
   "outputs": [
    {
     "data": {
      "text/html": [
       "<div>\n",
       "<style scoped>\n",
       "    .dataframe tbody tr th:only-of-type {\n",
       "        vertical-align: middle;\n",
       "    }\n",
       "\n",
       "    .dataframe tbody tr th {\n",
       "        vertical-align: top;\n",
       "    }\n",
       "\n",
       "    .dataframe thead th {\n",
       "        text-align: right;\n",
       "    }\n",
       "</style>\n",
       "<table border=\"1\" class=\"dataframe\">\n",
       "  <thead>\n",
       "    <tr style=\"text-align: right;\">\n",
       "      <th></th>\n",
       "      <th>0</th>\n",
       "      <th>1</th>\n",
       "    </tr>\n",
       "  </thead>\n",
       "  <tbody>\n",
       "    <tr>\n",
       "      <th>0</th>\n",
       "      <td>1.282011</td>\n",
       "      <td>0.870181</td>\n",
       "    </tr>\n",
       "    <tr>\n",
       "      <th>1</th>\n",
       "      <td>-1.379306</td>\n",
       "      <td>0.646349</td>\n",
       "    </tr>\n",
       "    <tr>\n",
       "      <th>2</th>\n",
       "      <td>-1.035911</td>\n",
       "      <td>1.143753</td>\n",
       "    </tr>\n",
       "    <tr>\n",
       "      <th>3</th>\n",
       "      <td>0.681068</td>\n",
       "      <td>-0.820993</td>\n",
       "    </tr>\n",
       "    <tr>\n",
       "      <th>4</th>\n",
       "      <td>-0.005723</td>\n",
       "      <td>-0.522551</td>\n",
       "    </tr>\n",
       "    <tr>\n",
       "      <th>...</th>\n",
       "      <td>...</td>\n",
       "      <td>...</td>\n",
       "    </tr>\n",
       "    <tr>\n",
       "      <th>85</th>\n",
       "      <td>2.140500</td>\n",
       "      <td>-0.074887</td>\n",
       "    </tr>\n",
       "    <tr>\n",
       "      <th>86</th>\n",
       "      <td>-0.864213</td>\n",
       "      <td>-1.492489</td>\n",
       "    </tr>\n",
       "    <tr>\n",
       "      <th>87</th>\n",
       "      <td>0.080126</td>\n",
       "      <td>-1.442748</td>\n",
       "    </tr>\n",
       "    <tr>\n",
       "      <th>88</th>\n",
       "      <td>-1.808551</td>\n",
       "      <td>-0.348459</td>\n",
       "    </tr>\n",
       "    <tr>\n",
       "      <th>89</th>\n",
       "      <td>0.595219</td>\n",
       "      <td>0.770700</td>\n",
       "    </tr>\n",
       "  </tbody>\n",
       "</table>\n",
       "<p>90 rows × 2 columns</p>\n",
       "</div>"
      ],
      "text/plain": [
       "           0         1\n",
       "0   1.282011  0.870181\n",
       "1  -1.379306  0.646349\n",
       "2  -1.035911  1.143753\n",
       "3   0.681068 -0.820993\n",
       "4  -0.005723 -0.522551\n",
       "..       ...       ...\n",
       "85  2.140500 -0.074887\n",
       "86 -0.864213 -1.492489\n",
       "87  0.080126 -1.442748\n",
       "88 -1.808551 -0.348459\n",
       "89  0.595219  0.770700\n",
       "\n",
       "[90 rows x 2 columns]"
      ]
     },
     "execution_count": 21,
     "metadata": {},
     "output_type": "execute_result"
    }
   ],
   "source": [
    "pd.DataFrame(X_train)"
   ]
  },
  {
   "cell_type": "code",
   "execution_count": 22,
   "id": "f8275818",
   "metadata": {},
   "outputs": [],
   "source": [
    "X_test = scaler.transform(X_test)"
   ]
  },
  {
   "cell_type": "code",
   "execution_count": 23,
   "id": "cb5f670f",
   "metadata": {},
   "outputs": [
    {
     "data": {
      "text/plain": [
       "array([[-1.03591062, -0.27384857],\n",
       "       [ 0.08012568, -0.49768039],\n",
       "       [-1.03591062,  0.44738732],\n",
       "       [-0.09157221, -0.42306978],\n",
       "       [-0.77836378,  0.12407468],\n",
       "       [-0.17742116,  0.47225752],\n",
       "       [ 0.8527662 ,  1.88985908],\n",
       "       [-0.52081694,  0.39764691],\n",
       "       [ 1.28201093, -1.54222891],\n",
       "       [ 0.08012568,  0.82044036]])"
      ]
     },
     "execution_count": 23,
     "metadata": {},
     "output_type": "execute_result"
    }
   ],
   "source": [
    "X_test"
   ]
  },
  {
   "cell_type": "markdown",
   "id": "77f5e747",
   "metadata": {},
   "source": [
    "# Train the Model / Model Training"
   ]
  },
  {
   "cell_type": "code",
   "execution_count": 24,
   "id": "37e45f68",
   "metadata": {},
   "outputs": [],
   "source": [
    "from sklearn.linear_model import LogisticRegression"
   ]
  },
  {
   "cell_type": "code",
   "execution_count": 25,
   "id": "b2831a38",
   "metadata": {},
   "outputs": [],
   "source": [
    "clf = LogisticRegression()"
   ]
  },
  {
   "cell_type": "code",
   "execution_count": 26,
   "id": "c3309e38",
   "metadata": {},
   "outputs": [
    {
     "data": {
      "text/plain": [
       "LogisticRegression()"
      ]
     },
     "execution_count": 26,
     "metadata": {},
     "output_type": "execute_result"
    }
   ],
   "source": [
    "### In LogisticticRegression we use [\"fit\" func()] is used to \"train\" the model by providing training data\n",
    "clf.fit(X_train,y_train)"
   ]
  },
  {
   "cell_type": "markdown",
   "id": "fd0ee512",
   "metadata": {},
   "source": [
    "# Evaluate the Model / Model Evaluation"
   ]
  },
  {
   "cell_type": "code",
   "execution_count": 27,
   "id": "235c8c1f",
   "metadata": {},
   "outputs": [],
   "source": [
    "### getting-out accuracy by giving \"test\" data\n",
    "y_pred = clf.predict(X_test)"
   ]
  },
  {
   "cell_type": "code",
   "execution_count": 28,
   "id": "cfc4701d",
   "metadata": {},
   "outputs": [
    {
     "data": {
      "text/plain": [
       "array([0, 1, 0, 1, 0, 0, 1, 0, 1, 1])"
      ]
     },
     "execution_count": 28,
     "metadata": {},
     "output_type": "execute_result"
    }
   ],
   "source": [
    "y_pred"
   ]
  },
  {
   "cell_type": "code",
   "execution_count": 29,
   "id": "35757677",
   "metadata": {},
   "outputs": [
    {
     "data": {
      "text/plain": [
       "59    0\n",
       "14    0\n",
       "51    0\n",
       "1     0\n",
       "86    0\n",
       "4     0\n",
       "26    1\n",
       "12    0\n",
       "44    1\n",
       "8     0\n",
       "Name: placement, dtype: int64"
      ]
     },
     "execution_count": 29,
     "metadata": {},
     "output_type": "execute_result"
    }
   ],
   "source": [
    "y_test"
   ]
  },
  {
   "cell_type": "code",
   "execution_count": 30,
   "id": "5c575000",
   "metadata": {},
   "outputs": [],
   "source": [
    "from sklearn.metrics import accuracy_score"
   ]
  },
  {
   "cell_type": "code",
   "execution_count": 31,
   "id": "3e256d17",
   "metadata": {},
   "outputs": [
    {
     "data": {
      "text/plain": [
       "70.0"
      ]
     },
     "execution_count": 31,
     "metadata": {},
     "output_type": "execute_result"
    }
   ],
   "source": [
    "### by giving [{(\"original_data & predicted-data\" )}]\n",
    "accuracy_score(y_test, y_pred)*100"
   ]
  },
  {
   "cell_type": "code",
   "execution_count": 32,
   "id": "98522ff3",
   "metadata": {},
   "outputs": [],
   "source": [
    "from mlxtend.plotting import plot_decision_regions"
   ]
  },
  {
   "cell_type": "code",
   "execution_count": 34,
   "id": "04229bf5",
   "metadata": {},
   "outputs": [
    {
     "ename": "TypeError",
     "evalue": "axis() got an unexpected keyword argument 'y_min'",
     "output_type": "error",
     "traceback": [
      "\u001b[0;31m---------------------------------------------------------------------------\u001b[0m",
      "\u001b[0;31mTypeError\u001b[0m                                 Traceback (most recent call last)",
      "\u001b[0;32m<ipython-input-34-a711ea26ff1d>\u001b[0m in \u001b[0;36m<module>\u001b[0;34m\u001b[0m\n\u001b[0;32m----> 1\u001b[0;31m \u001b[0mplot_decision_regions\u001b[0m\u001b[0;34m(\u001b[0m\u001b[0mX_train\u001b[0m\u001b[0;34m,\u001b[0m \u001b[0my_train\u001b[0m\u001b[0;34m.\u001b[0m\u001b[0mvalues\u001b[0m\u001b[0;34m,\u001b[0m \u001b[0mclf\u001b[0m\u001b[0;34m=\u001b[0m\u001b[0mclf\u001b[0m\u001b[0;34m,\u001b[0m \u001b[0mlegend\u001b[0m\u001b[0;34m=\u001b[0m\u001b[0;36m2\u001b[0m\u001b[0;34m)\u001b[0m\u001b[0;34m\u001b[0m\u001b[0;34m\u001b[0m\u001b[0m\n\u001b[0m",
      "\u001b[0;32m~/anaconda3/lib/python3.8/site-packages/mlxtend/plotting/decision_regions.py\u001b[0m in \u001b[0;36mplot_decision_regions\u001b[0;34m(X, y, clf, feature_index, filler_feature_values, filler_feature_ranges, ax, X_highlight, res, zoom_factor, legend, hide_spines, markers, colors, scatter_kwargs, contourf_kwargs, scatter_highlight_kwargs)\u001b[0m\n\u001b[1;32m    247\u001b[0m                antialiased=True)\n\u001b[1;32m    248\u001b[0m \u001b[0;34m\u001b[0m\u001b[0m\n\u001b[0;32m--> 249\u001b[0;31m     \u001b[0max\u001b[0m\u001b[0;34m.\u001b[0m\u001b[0maxis\u001b[0m\u001b[0;34m(\u001b[0m\u001b[0mxmin\u001b[0m\u001b[0;34m=\u001b[0m\u001b[0mxx\u001b[0m\u001b[0;34m.\u001b[0m\u001b[0mmin\u001b[0m\u001b[0;34m(\u001b[0m\u001b[0;34m)\u001b[0m\u001b[0;34m,\u001b[0m \u001b[0mxmax\u001b[0m\u001b[0;34m=\u001b[0m\u001b[0mxx\u001b[0m\u001b[0;34m.\u001b[0m\u001b[0mmax\u001b[0m\u001b[0;34m(\u001b[0m\u001b[0;34m)\u001b[0m\u001b[0;34m,\u001b[0m \u001b[0my_min\u001b[0m\u001b[0;34m=\u001b[0m\u001b[0myy\u001b[0m\u001b[0;34m.\u001b[0m\u001b[0mmin\u001b[0m\u001b[0;34m(\u001b[0m\u001b[0;34m)\u001b[0m\u001b[0;34m,\u001b[0m \u001b[0my_max\u001b[0m\u001b[0;34m=\u001b[0m\u001b[0myy\u001b[0m\u001b[0;34m.\u001b[0m\u001b[0mmax\u001b[0m\u001b[0;34m(\u001b[0m\u001b[0;34m)\u001b[0m\u001b[0;34m)\u001b[0m\u001b[0;34m\u001b[0m\u001b[0;34m\u001b[0m\u001b[0m\n\u001b[0m\u001b[1;32m    250\u001b[0m \u001b[0;34m\u001b[0m\u001b[0m\n\u001b[1;32m    251\u001b[0m     \u001b[0;31m# Scatter training data samples\u001b[0m\u001b[0;34m\u001b[0m\u001b[0;34m\u001b[0m\u001b[0;34m\u001b[0m\u001b[0m\n",
      "\u001b[0;32m~/anaconda3/lib/python3.8/site-packages/matplotlib/axes/_base.py\u001b[0m in \u001b[0;36maxis\u001b[0;34m(self, emit, *args, **kwargs)\u001b[0m\n\u001b[1;32m   1811\u001b[0m             \u001b[0mself\u001b[0m\u001b[0;34m.\u001b[0m\u001b[0mset_ylim\u001b[0m\u001b[0;34m(\u001b[0m\u001b[0mymin\u001b[0m\u001b[0;34m,\u001b[0m \u001b[0mymax\u001b[0m\u001b[0;34m,\u001b[0m \u001b[0memit\u001b[0m\u001b[0;34m=\u001b[0m\u001b[0memit\u001b[0m\u001b[0;34m,\u001b[0m \u001b[0mauto\u001b[0m\u001b[0;34m=\u001b[0m\u001b[0myauto\u001b[0m\u001b[0;34m)\u001b[0m\u001b[0;34m\u001b[0m\u001b[0;34m\u001b[0m\u001b[0m\n\u001b[1;32m   1812\u001b[0m         \u001b[0;32mif\u001b[0m \u001b[0mkwargs\u001b[0m\u001b[0;34m:\u001b[0m\u001b[0;34m\u001b[0m\u001b[0;34m\u001b[0m\u001b[0m\n\u001b[0;32m-> 1813\u001b[0;31m             raise TypeError(f\"axis() got an unexpected keyword argument \"\n\u001b[0m\u001b[1;32m   1814\u001b[0m                             f\"'{next(iter(kwargs))}'\")\n\u001b[1;32m   1815\u001b[0m         \u001b[0;32mreturn\u001b[0m \u001b[0;34m(\u001b[0m\u001b[0;34m*\u001b[0m\u001b[0mself\u001b[0m\u001b[0;34m.\u001b[0m\u001b[0mget_xlim\u001b[0m\u001b[0;34m(\u001b[0m\u001b[0;34m)\u001b[0m\u001b[0;34m,\u001b[0m \u001b[0;34m*\u001b[0m\u001b[0mself\u001b[0m\u001b[0;34m.\u001b[0m\u001b[0mget_ylim\u001b[0m\u001b[0;34m(\u001b[0m\u001b[0;34m)\u001b[0m\u001b[0;34m)\u001b[0m\u001b[0;34m\u001b[0m\u001b[0;34m\u001b[0m\u001b[0m\n",
      "\u001b[0;31mTypeError\u001b[0m: axis() got an unexpected keyword argument 'y_min'"
     ]
    },
    {
     "data": {
      "image/png": "[encoded data removed]",
      "text/plain": [
       "<Figure size 432x288 with 1 Axes>"
      ]
     },
     "metadata": {
      "needs_background": "light"
     },
     "output_type": "display_data"
    }
   ],
   "source": [
    "plot_decision_regions(X_train, y_train.values, clf=clf, legend=2)"
   ]
  },
  {
   "cell_type": "code",
   "execution_count": null,
   "id": "58b3f06e",
   "metadata": {},
   "outputs": [],
   "source": []
  }
 ],
 "metadata": {
  "kernelspec": {
   "display_name": "Python 3",
   "language": "python",
   "name": "python3"
  },
  "language_info": {
   "codemirror_mode": {
    "name": "ipython",
    "version": 3
   },
   "file_extension": ".py",
   "mimetype": "text/x-python",
   "name": "python",
   "nbconvert_exporter": "python",
   "pygments_lexer": "ipython3",
   "version": "3.8.8"
  }
 },
 "nbformat": 4,
 "nbformat_minor": 5
}
