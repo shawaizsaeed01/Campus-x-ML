{
 "cells": [
  {
   "cell_type": "markdown",
   "id": "6a8a81b2",
   "metadata": {},
   "source": [
    "# Feature Engineering"
   ]
  },
  {
   "cell_type": "markdown",
   "id": "2b92f687",
   "metadata": {},
   "source": [
    "### 1. Feature Transformation\n",
    " - Missing Values Imputation\n",
    " - Handling Categorical Features\n",
    " - Outlier Detection\n",
    " - Feature Scaling\n",
    "\n",
    "### 2. Feature Constraction\n",
    "\n",
    "### 3. Feature Selection\n",
    "\n",
    "### 4. Feature Extraction\n",
    "This step is mostly use when we deal with the high dimenssional data.\n",
    "\n",
    "#### Most important or useful algorithms in Feature Engineering(FE)\n",
    " - PCA (Principle Component Analysis)\n",
    " - LDA (Linear Discrement Analysis)\n",
    " - t-SNE (t-Distributed Stochastic Neighbour Embedding)"
   ]
  },
  {
   "cell_type": "code",
   "execution_count": null,
   "id": "7fb5bfe8",
   "metadata": {},
   "outputs": [],
   "source": []
  }
 ],
 "metadata": {
  "kernelspec": {
   "display_name": "Python 3",
   "language": "python",
   "name": "python3"
  },
  "language_info": {
   "codemirror_mode": {
    "name": "ipython",
    "version": 3
   },
   "file_extension": ".py",
   "mimetype": "text/x-python",
   "name": "python",
   "nbconvert_exporter": "python",
   "pygments_lexer": "ipython3",
   "version": "3.8.8"
  }
 },
 "nbformat": 4,
 "nbformat_minor": 5
}
