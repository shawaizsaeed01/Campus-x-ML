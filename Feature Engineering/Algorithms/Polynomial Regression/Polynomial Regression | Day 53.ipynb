{
 "cells": [
  {
   "cell_type": "code",
   "execution_count": 1,
   "id": "0c383c95",
   "metadata": {},
   "outputs": [],
   "source": [
    "import numpy as np\n",
    "import pandas as pd\n",
    "import matplotlib.pyplot as plt\n",
    "%matplotlib inline\n",
    "import seaborn as sns\n",
    "from sklearn.model_selection import train_test_split\n",
    "from sklearn.linear_model import LinearRegression,SGDRegressor\n",
    "from sklearn.preprocessing import PolynomialFeatures,StandardScaler\n",
    "from sklearn.metrics import r2_score\n",
    "from sklearn.pipeline import Pipeline\n",
    "\n",
    "import warnings\n",
    "warnings.filterwarnings(\"ignore\")"
   ]
  },
  {
   "cell_type": "code",
   "execution_count": 2,
   "id": "12e49fbb",
   "metadata": {},
   "outputs": [],
   "source": [
    "X = 6 * np.random.rand(200, 1) - 3\n",
    "y = 0.8 * X**2 + 0.9 * X + 2 + np.random.randn(200, 1)\n",
    "\n",
    "# y = 0.8x^2 + 0.9x + 2"
   ]
  },
  {
   "cell_type": "code",
   "execution_count": 3,
   "id": "e1e230bb",
   "metadata": {},
   "outputs": [
    {
     "data": {
      "image/png": "[encoded data removed]",
      "text/plain": [
       "<Figure size 432x288 with 1 Axes>"
      ]
     },
     "metadata": {
      "needs_background": "light"
     },
     "output_type": "display_data"
    }
   ],
   "source": [
    "plt.plot(X, y,'b.')\n",
    "plt.xlabel(\"X\")\n",
    "plt.ylabel(\"y\")\n",
    "plt.show()"
   ]
  },
  {
   "cell_type": "code",
   "execution_count": 4,
   "id": "2ff1dd8f",
   "metadata": {},
   "outputs": [],
   "source": [
    "# Train test split\n",
    "X_train,X_test,y_train,y_test = train_test_split(X,y,test_size=0.2,random_state=2)"
   ]
  },
  {
   "cell_type": "code",
   "execution_count": 5,
   "id": "2ceca7ba",
   "metadata": {},
   "outputs": [],
   "source": [
    "# Applying linear regression\n",
    "lr = LinearRegression()"
   ]
  },
  {
   "cell_type": "code",
   "execution_count": 6,
   "id": "262e45dd",
   "metadata": {},
   "outputs": [
    {
     "data": {
      "text/plain": [
       "LinearRegression()"
      ]
     },
     "execution_count": 6,
     "metadata": {},
     "output_type": "execute_result"
    }
   ],
   "source": [
    "lr.fit(X_train,y_train)"
   ]
  },
  {
   "cell_type": "code",
   "execution_count": 7,
   "id": "6e74697a",
   "metadata": {},
   "outputs": [
    {
     "data": {
      "text/plain": [
       "0.21171635974185188"
      ]
     },
     "execution_count": 7,
     "metadata": {},
     "output_type": "execute_result"
    }
   ],
   "source": [
    "y_pred = lr.predict(X_test)\n",
    "r2_score(y_test,y_pred)"
   ]
  },
  {
   "cell_type": "code",
   "execution_count": 8,
   "id": "1f16af35",
   "metadata": {},
   "outputs": [
    {
     "data": {
      "image/png": "[encoded data removed]",
      "text/plain": [
       "<Figure size 432x288 with 1 Axes>"
      ]
     },
     "metadata": {
      "needs_background": "light"
     },
     "output_type": "display_data"
    }
   ],
   "source": [
    "plt.plot(X_train,lr.predict(X_train),color='r')\n",
    "plt.plot(X, y, \"b.\")\n",
    "plt.xlabel(\"X\")\n",
    "plt.ylabel(\"y\")\n",
    "plt.show()"
   ]
  },
  {
   "cell_type": "code",
   "execution_count": 9,
   "id": "344e7433",
   "metadata": {},
   "outputs": [],
   "source": [
    "# Applying Polynomial Linear Regression\n",
    "# degree 2\n",
    "poly = PolynomialFeatures(degree=2,include_bias=True)\n",
    "\n",
    "X_train_trans = poly.fit_transform(X_train)\n",
    "X_test_trans = poly.transform(X_test)"
   ]
  },
  {
   "cell_type": "code",
   "execution_count": 10,
   "id": "f8caf163",
   "metadata": {},
   "outputs": [
    {
     "name": "stdout",
     "output_type": "stream",
     "text": [
      "[2.3256036]\n",
      "[1.         2.3256036  5.40843211]\n"
     ]
    }
   ],
   "source": [
    "print(X_train[0])\n",
    "print(X_train_trans[0])"
   ]
  },
  {
   "cell_type": "code",
   "execution_count": 11,
   "id": "6efb80ce",
   "metadata": {},
   "outputs": [],
   "source": [
    "# include_bias parameter"
   ]
  },
  {
   "cell_type": "code",
   "execution_count": 12,
   "id": "1be91781",
   "metadata": {},
   "outputs": [
    {
     "data": {
      "text/plain": [
       "LinearRegression()"
      ]
     },
     "execution_count": 12,
     "metadata": {},
     "output_type": "execute_result"
    }
   ],
   "source": [
    "lr = LinearRegression()\n",
    "lr.fit(X_train_trans,y_train)"
   ]
  },
  {
   "cell_type": "code",
   "execution_count": 13,
   "id": "ca00557f",
   "metadata": {},
   "outputs": [],
   "source": [
    "y_pred = lr.predict(X_test_trans)"
   ]
  },
  {
   "cell_type": "code",
   "execution_count": 14,
   "id": "d068a111",
   "metadata": {},
   "outputs": [
    {
     "data": {
      "text/plain": [
       "0.8351549462345039"
      ]
     },
     "execution_count": 14,
     "metadata": {},
     "output_type": "execute_result"
    }
   ],
   "source": [
    "r2_score(y_test,y_pred)"
   ]
  },
  {
   "cell_type": "code",
   "execution_count": 15,
   "id": "2fc9f36d",
   "metadata": {},
   "outputs": [
    {
     "name": "stdout",
     "output_type": "stream",
     "text": [
      "[[0.         0.85799198 0.79757506]]\n",
      "[2.04681309]\n"
     ]
    }
   ],
   "source": [
    "print(lr.coef_)\n",
    "print(lr.intercept_)"
   ]
  },
  {
   "cell_type": "code",
   "execution_count": 16,
   "id": "a524473f",
   "metadata": {},
   "outputs": [],
   "source": [
    "X_new=np.linspace(-3, 3, 200).reshape(200, 1)\n",
    "X_new_poly = poly.transform(X_new)\n",
    "y_new = lr.predict(X_new_poly)"
   ]
  },
  {
   "cell_type": "code",
   "execution_count": 17,
   "id": "d53dc650",
   "metadata": {},
   "outputs": [
    {
     "data": {
      "image/png": "[encoded data removed]",
      "text/plain": [
       "<Figure size 432x288 with 1 Axes>"
      ]
     },
     "metadata": {
      "needs_background": "light"
     },
     "output_type": "display_data"
    }
   ],
   "source": [
    "plt.plot(X_new, y_new, \"r-\", linewidth=2, label=\"Predictions\")\n",
    "plt.plot(X_train, y_train, \"b.\",label='Training points')\n",
    "plt.plot(X_test, y_test, \"g.\",label='Testing points')\n",
    "plt.xlabel(\"X\")\n",
    "plt.ylabel(\"y\")\n",
    "plt.legend()\n",
    "plt.show()"
   ]
  },
  {
   "cell_type": "code",
   "execution_count": 18,
   "id": "84c6feb0",
   "metadata": {},
   "outputs": [],
   "source": [
    "def polynomial_regression(degree):\n",
    "    X_new=np.linspace(-3, 3, 100).reshape(100, 1)\n",
    "    X_new_poly = poly.transform(X_new)\n",
    "\n",
    "    polybig_features = PolynomialFeatures(degree=degree, include_bias=False)\n",
    "    std_scaler = StandardScaler()\n",
    "    lin_reg = LinearRegression()\n",
    "    polynomial_regression = Pipeline([\n",
    "            (\"poly_features\", polybig_features),\n",
    "            (\"std_scaler\", std_scaler),\n",
    "            (\"lin_reg\", lin_reg),\n",
    "        ])\n",
    "    polynomial_regression.fit(X, y)\n",
    "    y_newbig = polynomial_regression.predict(X_new)\n",
    "    plt.plot(X_new, y_newbig,'k', label=\"Degree \" + str(degree), linewidth=2)\n",
    "\n",
    "    plt.plot(X_train, y_train, \"b.\", linewidth=3)\n",
    "    plt.plot(X_test, y_test, \"r.\", linewidth=3)\n",
    "    plt.legend(loc=\"upper left\")\n",
    "    plt.xlabel(\"X\")\n",
    "    plt.ylabel(\"y\")\n",
    "    plt.axis([-3, 3, 0, 10])\n",
    "    plt.grid()"
   ]
  },
  {
   "cell_type": "code",
   "execution_count": 19,
   "id": "b5dd993a",
   "metadata": {},
   "outputs": [
    {
     "data": {
      "image/png": "[encoded data removed]",
      "text/plain": [
       "<Figure size 432x288 with 1 Axes>"
      ]
     },
     "metadata": {
      "needs_background": "light"
     },
     "output_type": "display_data"
    }
   ],
   "source": [
    "polynomial_regression(30)"
   ]
  },
  {
   "cell_type": "code",
   "execution_count": 20,
   "id": "4d3ac989",
   "metadata": {},
   "outputs": [
    {
     "data": {
      "text/plain": [
       "array([[0],\n",
       "       [1],\n",
       "       [2]])"
      ]
     },
     "execution_count": 20,
     "metadata": {},
     "output_type": "execute_result"
    }
   ],
   "source": [
    "poly.powers_"
   ]
  },
  {
   "cell_type": "code",
   "execution_count": 21,
   "id": "317b7472",
   "metadata": {},
   "outputs": [
    {
     "data": {
      "image/png": "[encoded data removed]",
      "text/plain": [
       "<Figure size 432x288 with 1 Axes>"
      ]
     },
     "metadata": {
      "needs_background": "light"
     },
     "output_type": "display_data"
    }
   ],
   "source": [
    "# Applying Gradient Descent\n",
    "\n",
    "poly = PolynomialFeatures(degree=2)\n",
    "\n",
    "X_train_trans = poly.fit_transform(X_train)\n",
    "X_test_trans = poly.transform(X_test)\n",
    "\n",
    "sgd = SGDRegressor(max_iter=100)\n",
    "sgd.fit(X_train_trans,y_train)\n",
    "\n",
    "X_new=np.linspace(-2.9, 2.8, 200).reshape(200, 1)\n",
    "X_new_poly = poly.transform(X_new)\n",
    "y_new = sgd.predict(X_new_poly)\n",
    "\n",
    "y_pred = sgd.predict(X_test_trans)\n",
    "\n",
    "plt.plot(X_new, y_new, \"r-\", linewidth=2, label=\"Predictions \" + str(round(r2_score(y_test,y_pred),2)))\n",
    "plt.plot(X_train, y_train, \"b.\",label='Training points')\n",
    "plt.plot(X_test, y_test, \"g.\",label='Testing points')\n",
    "plt.xlabel(\"X\")\n",
    "plt.ylabel(\"y\")\n",
    "plt.legend()\n",
    "plt.grid()"
   ]
  },
  {
   "cell_type": "code",
   "execution_count": 22,
   "id": "1da14ccd",
   "metadata": {},
   "outputs": [],
   "source": [
    "# 3D polynomial regression\n",
    "x = 7 * np.random.rand(100, 1) - 2.8\n",
    "y = 7 * np.random.rand(100, 1) - 2.8\n",
    "\n",
    "z = x**2 + y**2 + 0.2*x + 0.2*y + 0.1*x*y +2 + np.random.randn(100, 1)\n",
    "# z = x^2 + y^2 + 0.2x + 0.2y + 0.1xy + 2"
   ]
  },
  {
   "cell_type": "code",
   "execution_count": 25,
   "id": "bb510cf9",
   "metadata": {},
   "outputs": [
    {
     "data": {
      "application/vnd.plotly.v1+json": {
       "config": {
        "plotlyServerURL": "https://plot.ly"
       },
       "data": [
        {
         "hovertemplate": "x=%{x}<br>y=%{y}<br>z=%{z}<extra></extra>",
         "legendgroup": "",
         "marker": {
          "color": "#636efa",
          "symbol": "circle"
         },
         "mode": "markers",
         "name": "",
         "scene": "scene",
         "showlegend": false,
         "type": "scatter3d",
         "x": [
          1.893431122037371,
          1.5681970484613723,
          -1.254867188426045,
          -2.6225995577259873,
          -2.704871829041259,
          -2.1349512489043074,
          3.2375065201979174,
          2.1596951539521134,
          1.2957900831126503,
          -0.6790253147153136,
          -1.1747146379104187,
          -2.7033174545857563,
          2.2482244854063875,
          0.5549535778973844,
          2.1099192952671517,
          3.9571434045089147,
          -1.9258568057503798,
          2.4740047766337225,
          -2.739379878425118,
          0.2782121148821268,
          0.13592441679229061,
          3.898836947426809,
          -1.9513858610100683,
          0.5658598936399666,
          -0.15604076851214943,
          -1.1836421358324825,
          1.6112436669398855,
          0.30069095892593056,
          2.7225365765078307,
          3.190125116163946,
          0.29169610143848956,
          -0.8099435271995752,
          3.287006725955796,
          0.6939663775656513,
          3.2038861948064703,
          3.4223661974000112,
          4.007980358963083,
          -1.7492425649385401,
          -0.9590712406331208,
          2.099167474744543,
          1.5250047672517715,
          0.3409294489955075,
          3.081627334555203,
          3.3951454768022513,
          -2.3487692270619362,
          0.006022011018664841,
          1.7016259999335803,
          -1.771980471084575,
          0.9051824310171868,
          -1.0753315401045658,
          2.1282077092072598,
          -0.726281933287038,
          2.6010029250043,
          2.763598810798298,
          2.42324322533457,
          -1.9488681637604006,
          1.8895497233872467,
          -1.7225125742285536,
          -1.1537470087350121,
          -1.9048188934022796,
          0.9412517549701729,
          -1.616323935881689,
          1.477905826522445,
          1.0713408945039151,
          -0.2825533039636108,
          2.773044973544354,
          2.484245664076118,
          3.7481747296319172,
          -2.498610637905349,
          1.1148385270542613,
          -2.7580031765194386,
          -1.740797654177503,
          -2.3859210199403322,
          -0.4941800622779766,
          -1.7130987846870762,
          1.0559362014119449,
          -0.44264531589540246,
          -0.9194516371323274,
          -1.7502013548386381,
          3.8284500965882886,
          1.487705270718621,
          -1.862076907247697,
          2.8994130954813935,
          1.9295012623567045,
          -1.9885823733745238,
          -2.3556529529599737,
          3.206375255411408,
          0.21877877276454427,
          2.8533331541275,
          3.8221456307463955,
          -0.644666593566682,
          0.2955168109745756,
          -2.701263454376418,
          -1.5923121340765387,
          1.2710406931360438,
          4.087728351322402,
          -0.5198275523960945,
          -1.4038176138436667,
          -0.49391775651544245,
          0.8392545107788361
         ],
         "y": [
          2.858271299567426,
          -0.2285845790451475,
          -0.41437891219429446,
          0.17533278199937907,
          0.31555172888999694,
          -2.6276887225785686,
          0.030498012588017875,
          -0.9673152290137152,
          -1.1431231974154514,
          -1.3681380510076795,
          1.361275444443847,
          -1.9589554620547607,
          1.0629110309673262,
          1.1718078733300885,
          0.6088915138480062,
          3.5366880466691644,
          -2.1202837426545935,
          2.6233380761732397,
          1.0202317586656378,
          3.567378015173258,
          3.3938351022116313,
          -0.18583000139358363,
          0.011884590145204488,
          -2.614951149595027,
          -2.1637921464884613,
          -1.979165841533602,
          -2.0361527682213074,
          0.394028728248518,
          1.246915707470417,
          2.1456448420680525,
          -2.089983378342406,
          0.299155047998624,
          2.8782264779331825,
          0.4163122184552268,
          -1.4282662470344611,
          -1.3130780529886452,
          0.4574754149711553,
          2.882218299214281,
          3.8806480175931197,
          1.8402042508522785,
          3.2026839660563367,
          3.270923262628658,
          1.5858581889343153,
          1.2174712281082058,
          3.0042795390346555,
          1.540934893094474,
          1.0306629192794103,
          -2.4846120640261584,
          -0.6399171098710017,
          -0.7774140269127336,
          3.498354429320293,
          -2.578556945642705,
          -1.2503195685762243,
          2.292774337769285,
          0.5034993085647379,
          -0.4099694611184983,
          -0.7418986954834672,
          -1.0355055165084137,
          0.8598566215079742,
          3.376725371623551,
          -2.0088467247081785,
          1.7034005945179977,
          -2.5164632616632066,
          -0.46613553936681695,
          -2.5642283069349356,
          0.49285292758577537,
          -2.003805570828026,
          -0.4958263818268578,
          3.5829231721176384,
          1.1225680701635214,
          -2.4679377262588202,
          2.5146063128465084,
          -0.1458918758086778,
          -0.0762729644248692,
          2.355223299622045,
          -1.1235696465309863,
          1.436112936706336,
          -0.8697966903899312,
          0.015634117680358273,
          3.1274000146021574,
          -0.004795861457805195,
          3.5112934781012015,
          -2.4203585978519127,
          2.046013935971998,
          -2.0585277462453853,
          0.5722823567745894,
          2.083473445162613,
          -2.753539523310403,
          3.763573832308748,
          2.376779394151991,
          -2.1217464479893424,
          0.22240076493986916,
          2.2695962895350243,
          -1.5679778530037356,
          3.2336967603973177,
          3.650946290497072,
          0.44706227768841744,
          -2.7594563037765494,
          -1.8007093611353122,
          -1.8804140410536256
         ],
         "z": [
          14.340322902471952,
          6.102132423219861,
          5.195721864242078,
          7.104072665176831,
          8.357316029726508,
          12.172296582001396,
          13.782939429761893,
          8.155354501681346,
          4.963196925782821,
          2.2513392745212526,
          5.710982888729786,
          14.430796791698985,
          11.050743544294033,
          4.580209651843878,
          6.764167635071685,
          32.74443680643798,
          8.520712031448452,
          18.587114607435062,
          7.722444046816655,
          16.37064240699993,
          14.772674209117667,
          15.293844043930562,
          6.177037724633898,
          8.128312538852065,
          6.204195885344919,
          7.108988725845381,
          8.223000822354855,
          1.2569229792133256,
          10.55775086245758,
          19.706841538806465,
          6.706058333561501,
          1.7687686749152096,
          23.593173218336734,
          3.2655787664912994,
          15.132493276385624,
          12.642417747896609,
          19.633000277192053,
          13.877055831056232,
          18.604320864886635,
          10.72471991532183,
          16.43781551204058,
          14.023823641756993,
          14.430018483302408,
          16.754700161346825,
          17.147511843215636,
          6.138873556972304,
          6.600723107643137,
          9.351306527708013,
          3.724045634147857,
          3.7301461198099943,
          20.265842310649198,
          9.325157715579245,
          9.724120723541281,
          16.846381747223905,
          8.139607002404441,
          5.374448065892494,
          6.583410109274485,
          5.876505220450214,
          5.015094691483553,
          16.163502692583837,
          8.119211039590734,
          5.261201616679922,
          9.987514525981675,
          3.425039803228443,
          9.856057344237657,
          9.853747313698886,
          12.09557527507214,
          17.264203187962867,
          20.349683945947437,
          6.67685175881257,
          15.380263950413285,
          12.715341416903147,
          7.914364501918331,
          0.9263210441725416,
          11.895343231583947,
          5.354867288140509,
          3.8980157146585936,
          3.7701415422198163,
          4.617334623189776,
          27.82607348818732,
          5.115044860291125,
          17.556286956773786,
          14.991262719572232,
          10.404703023625018,
          8.857150739031573,
          8.363862462797318,
          18.32040748086945,
          10.94995034281345,
          27.810350648933415,
          24.621971740741724,
          8.026715792965641,
          1.260220346281471,
          13.27119859809963,
          7.038365537488042,
          15.53629223267101,
          34.39663158906246,
          0.6968740454426487,
          10.553433355880129,
          7.031916454402001,
          5.964874884952427
         ]
        }
       ],
       "layout": {
        "legend": {
         "tracegroupgap": 0
        },
        "margin": {
         "t": 60
        },
        "scene": {
         "domain": {
          "x": [
           0,
           1
          ],
          "y": [
           0,
           1
          ]
         },
         "xaxis": {
          "title": {
           "text": "x"
          }
         },
         "yaxis": {
          "title": {
           "text": "y"
          }
         },
         "zaxis": {
          "title": {
           "text": "z"
          }
         }
        },
        "template": {
         "data": {
          "bar": [
           {
            "error_x": {
             "color": "#2a3f5f"
            },
            "error_y": {
             "color": "#2a3f5f"
            },
            "marker": {
             "line": {
              "color": "#E5ECF6",
              "width": 0.5
             }
            },
            "type": "bar"
           }
          ],
          "barpolar": [
           {
            "marker": {
             "line": {
              "color": "#E5ECF6",
              "width": 0.5
             }
            },
            "type": "barpolar"
           }
          ],
          "carpet": [
           {
            "aaxis": {
             "endlinecolor": "#2a3f5f",
             "gridcolor": "white",
             "linecolor": "white",
             "minorgridcolor": "white",
             "startlinecolor": "#2a3f5f"
            },
            "baxis": {
             "endlinecolor": "#2a3f5f",
             "gridcolor": "white",
             "linecolor": "white",
             "minorgridcolor": "white",
             "startlinecolor": "#2a3f5f"
            },
            "type": "carpet"
           }
          ],
          "choropleth": [
           {
            "colorbar": {
             "outlinewidth": 0,
             "ticks": ""
            },
            "type": "choropleth"
           }
          ],
          "contour": [
           {
            "colorbar": {
             "outlinewidth": 0,
             "ticks": ""
            },
            "colorscale": [
             [
              0,
              "#0d0887"
             ],
             [
              0.1111111111111111,
              "#46039f"
             ],
             [
              0.2222222222222222,
              "#7201a8"
             ],
             [
              0.3333333333333333,
              "#9c179e"
             ],
             [
              0.4444444444444444,
              "#bd3786"
             ],
             [
              0.5555555555555556,
              "#d8576b"
             ],
             [
              0.6666666666666666,
              "#ed7953"
             ],
             [
              0.7777777777777778,
              "#fb9f3a"
             ],
             [
              0.8888888888888888,
              "#fdca26"
             ],
             [
              1,
              "#f0f921"
             ]
            ],
            "type": "contour"
           }
          ],
          "contourcarpet": [
           {
            "colorbar": {
             "outlinewidth": 0,
             "ticks": ""
            },
            "type": "contourcarpet"
           }
          ],
          "heatmap": [
           {
            "colorbar": {
             "outlinewidth": 0,
             "ticks": ""
            },
            "colorscale": [
             [
              0,
              "#0d0887"
             ],
             [
              0.1111111111111111,
              "#46039f"
             ],
             [
              0.2222222222222222,
              "#7201a8"
             ],
             [
              0.3333333333333333,
              "#9c179e"
             ],
             [
              0.4444444444444444,
              "#bd3786"
             ],
             [
              0.5555555555555556,
              "#d8576b"
             ],
             [
              0.6666666666666666,
              "#ed7953"
             ],
             [
              0.7777777777777778,
              "#fb9f3a"
             ],
             [
              0.8888888888888888,
              "#fdca26"
             ],
             [
              1,
              "#f0f921"
             ]
            ],
            "type": "heatmap"
           }
          ],
          "heatmapgl": [
           {
            "colorbar": {
             "outlinewidth": 0,
             "ticks": ""
            },
            "colorscale": [
             [
              0,
              "#0d0887"
             ],
             [
              0.1111111111111111,
              "#46039f"
             ],
             [
              0.2222222222222222,
              "#7201a8"
             ],
             [
              0.3333333333333333,
              "#9c179e"
             ],
             [
              0.4444444444444444,
              "#bd3786"
             ],
             [
              0.5555555555555556,
              "#d8576b"
             ],
             [
              0.6666666666666666,
              "#ed7953"
             ],
             [
              0.7777777777777778,
              "#fb9f3a"
             ],
             [
              0.8888888888888888,
              "#fdca26"
             ],
             [
              1,
              "#f0f921"
             ]
            ],
            "type": "heatmapgl"
           }
          ],
          "histogram": [
           {
            "marker": {
             "colorbar": {
              "outlinewidth": 0,
              "ticks": ""
             }
            },
            "type": "histogram"
           }
          ],
          "histogram2d": [
           {
            "colorbar": {
             "outlinewidth": 0,
             "ticks": ""
            },
            "colorscale": [
             [
              0,
              "#0d0887"
             ],
             [
              0.1111111111111111,
              "#46039f"
             ],
             [
              0.2222222222222222,
              "#7201a8"
             ],
             [
              0.3333333333333333,
              "#9c179e"
             ],
             [
              0.4444444444444444,
              "#bd3786"
             ],
             [
              0.5555555555555556,
              "#d8576b"
             ],
             [
              0.6666666666666666,
              "#ed7953"
             ],
             [
              0.7777777777777778,
              "#fb9f3a"
             ],
             [
              0.8888888888888888,
              "#fdca26"
             ],
             [
              1,
              "#f0f921"
             ]
            ],
            "type": "histogram2d"
           }
          ],
          "histogram2dcontour": [
           {
            "colorbar": {
             "outlinewidth": 0,
             "ticks": ""
            },
            "colorscale": [
             [
              0,
              "#0d0887"
             ],
             [
              0.1111111111111111,
              "#46039f"
             ],
             [
              0.2222222222222222,
              "#7201a8"
             ],
             [
              0.3333333333333333,
              "#9c179e"
             ],
             [
              0.4444444444444444,
              "#bd3786"
             ],
             [
              0.5555555555555556,
              "#d8576b"
             ],
             [
              0.6666666666666666,
              "#ed7953"
             ],
             [
              0.7777777777777778,
              "#fb9f3a"
             ],
             [
              0.8888888888888888,
              "#fdca26"
             ],
             [
              1,
              "#f0f921"
             ]
            ],
            "type": "histogram2dcontour"
           }
          ],
          "mesh3d": [
           {
            "colorbar": {
             "outlinewidth": 0,
             "ticks": ""
            },
            "type": "mesh3d"
           }
          ],
          "parcoords": [
           {
            "line": {
             "colorbar": {
              "outlinewidth": 0,
              "ticks": ""
             }
            },
            "type": "parcoords"
           }
          ],
          "pie": [
           {
            "automargin": true,
            "type": "pie"
           }
          ],
          "scatter": [
           {
            "marker": {
             "colorbar": {
              "outlinewidth": 0,
              "ticks": ""
             }
            },
            "type": "scatter"
           }
          ],
          "scatter3d": [
           {
            "line": {
             "colorbar": {
              "outlinewidth": 0,
              "ticks": ""
             }
            },
            "marker": {
             "colorbar": {
              "outlinewidth": 0,
              "ticks": ""
             }
            },
            "type": "scatter3d"
           }
          ],
          "scattercarpet": [
           {
            "marker": {
             "colorbar": {
              "outlinewidth": 0,
              "ticks": ""
             }
            },
            "type": "scattercarpet"
           }
          ],
          "scattergeo": [
           {
            "marker": {
             "colorbar": {
              "outlinewidth": 0,
              "ticks": ""
             }
            },
            "type": "scattergeo"
           }
          ],
          "scattergl": [
           {
            "marker": {
             "colorbar": {
              "outlinewidth": 0,
              "ticks": ""
             }
            },
            "type": "scattergl"
           }
          ],
          "scattermapbox": [
           {
            "marker": {
             "colorbar": {
              "outlinewidth": 0,
              "ticks": ""
             }
            },
            "type": "scattermapbox"
           }
          ],
          "scatterpolar": [
           {
            "marker": {
             "colorbar": {
              "outlinewidth": 0,
              "ticks": ""
             }
            },
            "type": "scatterpolar"
           }
          ],
          "scatterpolargl": [
           {
            "marker": {
             "colorbar": {
              "outlinewidth": 0,
              "ticks": ""
             }
            },
            "type": "scatterpolargl"
           }
          ],
          "scatterternary": [
           {
            "marker": {
             "colorbar": {
              "outlinewidth": 0,
              "ticks": ""
             }
            },
            "type": "scatterternary"
           }
          ],
          "surface": [
           {
            "colorbar": {
             "outlinewidth": 0,
             "ticks": ""
            },
            "colorscale": [
             [
              0,
              "#0d0887"
             ],
             [
              0.1111111111111111,
              "#46039f"
             ],
             [
              0.2222222222222222,
              "#7201a8"
             ],
             [
              0.3333333333333333,
              "#9c179e"
             ],
             [
              0.4444444444444444,
              "#bd3786"
             ],
             [
              0.5555555555555556,
              "#d8576b"
             ],
             [
              0.6666666666666666,
              "#ed7953"
             ],
             [
              0.7777777777777778,
              "#fb9f3a"
             ],
             [
              0.8888888888888888,
              "#fdca26"
             ],
             [
              1,
              "#f0f921"
             ]
            ],
            "type": "surface"
           }
          ],
          "table": [
           {
            "cells": {
             "fill": {
              "color": "#EBF0F8"
             },
             "line": {
              "color": "white"
             }
            },
            "header": {
             "fill": {
              "color": "#C8D4E3"
             },
             "line": {
              "color": "white"
             }
            },
            "type": "table"
           }
          ]
         },
         "layout": {
          "annotationdefaults": {
           "arrowcolor": "#2a3f5f",
           "arrowhead": 0,
           "arrowwidth": 1
          },
          "autotypenumbers": "strict",
          "coloraxis": {
           "colorbar": {
            "outlinewidth": 0,
            "ticks": ""
           }
          },
          "colorscale": {
           "diverging": [
            [
             0,
             "#8e0152"
            ],
            [
             0.1,
             "#c51b7d"
            ],
            [
             0.2,
             "#de77ae"
            ],
            [
             0.3,
             "#f1b6da"
            ],
            [
             0.4,
             "#fde0ef"
            ],
            [
             0.5,
             "#f7f7f7"
            ],
            [
             0.6,
             "#e6f5d0"
            ],
            [
             0.7,
             "#b8e186"
            ],
            [
             0.8,
             "#7fbc41"
            ],
            [
             0.9,
             "#4d9221"
            ],
            [
             1,
             "#276419"
            ]
           ],
           "sequential": [
            [
             0,
             "#0d0887"
            ],
            [
             0.1111111111111111,
             "#46039f"
            ],
            [
             0.2222222222222222,
             "#7201a8"
            ],
            [
             0.3333333333333333,
             "#9c179e"
            ],
            [
             0.4444444444444444,
             "#bd3786"
            ],
            [
             0.5555555555555556,
             "#d8576b"
            ],
            [
             0.6666666666666666,
             "#ed7953"
            ],
            [
             0.7777777777777778,
             "#fb9f3a"
            ],
            [
             0.8888888888888888,
             "#fdca26"
            ],
            [
             1,
             "#f0f921"
            ]
           ],
           "sequentialminus": [
            [
             0,
             "#0d0887"
            ],
            [
             0.1111111111111111,
             "#46039f"
            ],
            [
             0.2222222222222222,
             "#7201a8"
            ],
            [
             0.3333333333333333,
             "#9c179e"
            ],
            [
             0.4444444444444444,
             "#bd3786"
            ],
            [
             0.5555555555555556,
             "#d8576b"
            ],
            [
             0.6666666666666666,
             "#ed7953"
            ],
            [
             0.7777777777777778,
             "#fb9f3a"
            ],
            [
             0.8888888888888888,
             "#fdca26"
            ],
            [
             1,
             "#f0f921"
            ]
           ]
          },
          "colorway": [
           "#636efa",
           "#EF553B",
           "#00cc96",
           "#ab63fa",
           "#FFA15A",
           "#19d3f3",
           "#FF6692",
           "#B6E880",
           "#FF97FF",
           "#FECB52"
          ],
          "font": {
           "color": "#2a3f5f"
          },
          "geo": {
           "bgcolor": "white",
           "lakecolor": "white",
           "landcolor": "#E5ECF6",
           "showlakes": true,
           "showland": true,
           "subunitcolor": "white"
          },
          "hoverlabel": {
           "align": "left"
          },
          "hovermode": "closest",
          "mapbox": {
           "style": "light"
          },
          "paper_bgcolor": "white",
          "plot_bgcolor": "#E5ECF6",
          "polar": {
           "angularaxis": {
            "gridcolor": "white",
            "linecolor": "white",
            "ticks": ""
           },
           "bgcolor": "#E5ECF6",
           "radialaxis": {
            "gridcolor": "white",
            "linecolor": "white",
            "ticks": ""
           }
          },
          "scene": {
           "xaxis": {
            "backgroundcolor": "#E5ECF6",
            "gridcolor": "white",
            "gridwidth": 2,
            "linecolor": "white",
            "showbackground": true,
            "ticks": "",
            "zerolinecolor": "white"
           },
           "yaxis": {
            "backgroundcolor": "#E5ECF6",
            "gridcolor": "white",
            "gridwidth": 2,
            "linecolor": "white",
            "showbackground": true,
            "ticks": "",
            "zerolinecolor": "white"
           },
           "zaxis": {
            "backgroundcolor": "#E5ECF6",
            "gridcolor": "white",
            "gridwidth": 2,
            "linecolor": "white",
            "showbackground": true,
            "ticks": "",
            "zerolinecolor": "white"
           }
          },
          "shapedefaults": {
           "line": {
            "color": "#2a3f5f"
           }
          },
          "ternary": {
           "aaxis": {
            "gridcolor": "white",
            "linecolor": "white",
            "ticks": ""
           },
           "baxis": {
            "gridcolor": "white",
            "linecolor": "white",
            "ticks": ""
           },
           "bgcolor": "#E5ECF6",
           "caxis": {
            "gridcolor": "white",
            "linecolor": "white",
            "ticks": ""
           }
          },
          "title": {
           "x": 0.05
          },
          "xaxis": {
           "automargin": true,
           "gridcolor": "white",
           "linecolor": "white",
           "ticks": "",
           "title": {
            "standoff": 15
           },
           "zerolinecolor": "white",
           "zerolinewidth": 2
          },
          "yaxis": {
           "automargin": true,
           "gridcolor": "white",
           "linecolor": "white",
           "ticks": "",
           "title": {
            "standoff": 15
           },
           "zerolinecolor": "white",
           "zerolinewidth": 2
          }
         }
        }
       }
      },
      "text/html": [
       "<div>                            <div id=\"c67f3098-13cc-4a9e-b817-ef4da8cba8b3\" class=\"plotly-graph-div\" style=\"height:525px; width:100%;\"></div>            <script type=\"text/javascript\">                require([\"plotly\"], function(Plotly) {                    window.PLOTLYENV=window.PLOTLYENV || {};                                    if (document.getElementById(\"c67f3098-13cc-4a9e-b817-ef4da8cba8b3\")) {                    Plotly.newPlot(                        \"c67f3098-13cc-4a9e-b817-ef4da8cba8b3\",                        [{\"hovertemplate\": \"x=%{x}<br>y=%{y}<br>z=%{z}<extra></extra>\", \"legendgroup\": \"\", \"marker\": {\"color\": \"#636efa\", \"symbol\": \"circle\"}, \"mode\": \"markers\", \"name\": \"\", \"scene\": \"scene\", \"showlegend\": false, \"type\": \"scatter3d\", \"x\": [1.893431122037371, 1.5681970484613723, -1.254867188426045, -2.6225995577259873, -2.704871829041259, -2.1349512489043074, 3.2375065201979174, 2.1596951539521134, 1.2957900831126503, -0.6790253147153136, -1.1747146379104187, -2.7033174545857563, 2.2482244854063875, 0.5549535778973844, 2.1099192952671517, 3.9571434045089147, -1.9258568057503798, 2.4740047766337225, -2.739379878425118, 0.2782121148821268, 0.13592441679229061, 3.898836947426809, -1.9513858610100683, 0.5658598936399666, -0.15604076851214943, -1.1836421358324825, 1.6112436669398855, 0.30069095892593056, 2.7225365765078307, 3.190125116163946, 0.29169610143848956, -0.8099435271995752, 3.287006725955796, 0.6939663775656513, 3.2038861948064703, 3.4223661974000112, 4.007980358963083, -1.7492425649385401, -0.9590712406331208, 2.099167474744543, 1.5250047672517715, 0.3409294489955075, 3.081627334555203, 3.3951454768022513, -2.3487692270619362, 0.006022011018664841, 1.7016259999335803, -1.771980471084575, 0.9051824310171868, -1.0753315401045658, 2.1282077092072598, -0.726281933287038, 2.6010029250043, 2.763598810798298, 2.42324322533457, -1.9488681637604006, 1.8895497233872467, -1.7225125742285536, -1.1537470087350121, -1.9048188934022796, 0.9412517549701729, -1.616323935881689, 1.477905826522445, 1.0713408945039151, -0.2825533039636108, 2.773044973544354, 2.484245664076118, 3.7481747296319172, -2.498610637905349, 1.1148385270542613, -2.7580031765194386, -1.740797654177503, -2.3859210199403322, -0.4941800622779766, -1.7130987846870762, 1.0559362014119449, -0.44264531589540246, -0.9194516371323274, -1.7502013548386381, 3.8284500965882886, 1.487705270718621, -1.862076907247697, 2.8994130954813935, 1.9295012623567045, -1.9885823733745238, -2.3556529529599737, 3.206375255411408, 0.21877877276454427, 2.8533331541275, 3.8221456307463955, -0.644666593566682, 0.2955168109745756, -2.701263454376418, -1.5923121340765387, 1.2710406931360438, 4.087728351322402, -0.5198275523960945, -1.4038176138436667, -0.49391775651544245, 0.8392545107788361], \"y\": [2.858271299567426, -0.2285845790451475, -0.41437891219429446, 0.17533278199937907, 0.31555172888999694, -2.6276887225785686, 0.030498012588017875, -0.9673152290137152, -1.1431231974154514, -1.3681380510076795, 1.361275444443847, -1.9589554620547607, 1.0629110309673262, 1.1718078733300885, 0.6088915138480062, 3.5366880466691644, -2.1202837426545935, 2.6233380761732397, 1.0202317586656378, 3.567378015173258, 3.3938351022116313, -0.18583000139358363, 0.011884590145204488, -2.614951149595027, -2.1637921464884613, -1.979165841533602, -2.0361527682213074, 0.394028728248518, 1.246915707470417, 2.1456448420680525, -2.089983378342406, 0.299155047998624, 2.8782264779331825, 0.4163122184552268, -1.4282662470344611, -1.3130780529886452, 0.4574754149711553, 2.882218299214281, 3.8806480175931197, 1.8402042508522785, 3.2026839660563367, 3.270923262628658, 1.5858581889343153, 1.2174712281082058, 3.0042795390346555, 1.540934893094474, 1.0306629192794103, -2.4846120640261584, -0.6399171098710017, -0.7774140269127336, 3.498354429320293, -2.578556945642705, -1.2503195685762243, 2.292774337769285, 0.5034993085647379, -0.4099694611184983, -0.7418986954834672, -1.0355055165084137, 0.8598566215079742, 3.376725371623551, -2.0088467247081785, 1.7034005945179977, -2.5164632616632066, -0.46613553936681695, -2.5642283069349356, 0.49285292758577537, -2.003805570828026, -0.4958263818268578, 3.5829231721176384, 1.1225680701635214, -2.4679377262588202, 2.5146063128465084, -0.1458918758086778, -0.0762729644248692, 2.355223299622045, -1.1235696465309863, 1.436112936706336, -0.8697966903899312, 0.015634117680358273, 3.1274000146021574, -0.004795861457805195, 3.5112934781012015, -2.4203585978519127, 2.046013935971998, -2.0585277462453853, 0.5722823567745894, 2.083473445162613, -2.753539523310403, 3.763573832308748, 2.376779394151991, -2.1217464479893424, 0.22240076493986916, 2.2695962895350243, -1.5679778530037356, 3.2336967603973177, 3.650946290497072, 0.44706227768841744, -2.7594563037765494, -1.8007093611353122, -1.8804140410536256], \"z\": [14.340322902471952, 6.102132423219861, 5.195721864242078, 7.104072665176831, 8.357316029726508, 12.172296582001396, 13.782939429761893, 8.155354501681346, 4.963196925782821, 2.2513392745212526, 5.710982888729786, 14.430796791698985, 11.050743544294033, 4.580209651843878, 6.764167635071685, 32.74443680643798, 8.520712031448452, 18.587114607435062, 7.722444046816655, 16.37064240699993, 14.772674209117667, 15.293844043930562, 6.177037724633898, 8.128312538852065, 6.204195885344919, 7.108988725845381, 8.223000822354855, 1.2569229792133256, 10.55775086245758, 19.706841538806465, 6.706058333561501, 1.7687686749152096, 23.593173218336734, 3.2655787664912994, 15.132493276385624, 12.642417747896609, 19.633000277192053, 13.877055831056232, 18.604320864886635, 10.72471991532183, 16.43781551204058, 14.023823641756993, 14.430018483302408, 16.754700161346825, 17.147511843215636, 6.138873556972304, 6.600723107643137, 9.351306527708013, 3.724045634147857, 3.7301461198099943, 20.265842310649198, 9.325157715579245, 9.724120723541281, 16.846381747223905, 8.139607002404441, 5.374448065892494, 6.583410109274485, 5.876505220450214, 5.015094691483553, 16.163502692583837, 8.119211039590734, 5.261201616679922, 9.987514525981675, 3.425039803228443, 9.856057344237657, 9.853747313698886, 12.09557527507214, 17.264203187962867, 20.349683945947437, 6.67685175881257, 15.380263950413285, 12.715341416903147, 7.914364501918331, 0.9263210441725416, 11.895343231583947, 5.354867288140509, 3.8980157146585936, 3.7701415422198163, 4.617334623189776, 27.82607348818732, 5.115044860291125, 17.556286956773786, 14.991262719572232, 10.404703023625018, 8.857150739031573, 8.363862462797318, 18.32040748086945, 10.94995034281345, 27.810350648933415, 24.621971740741724, 8.026715792965641, 1.260220346281471, 13.27119859809963, 7.038365537488042, 15.53629223267101, 34.39663158906246, 0.6968740454426487, 10.553433355880129, 7.031916454402001, 5.964874884952427]}],                        {\"legend\": {\"tracegroupgap\": 0}, \"margin\": {\"t\": 60}, \"scene\": {\"domain\": {\"x\": [0.0, 1.0], \"y\": [0.0, 1.0]}, \"xaxis\": {\"title\": {\"text\": \"x\"}}, \"yaxis\": {\"title\": {\"text\": \"y\"}}, \"zaxis\": {\"title\": {\"text\": \"z\"}}}, \"template\": {\"data\": {\"bar\": [{\"error_x\": {\"color\": \"#2a3f5f\"}, \"error_y\": {\"color\": \"#2a3f5f\"}, \"marker\": {\"line\": {\"color\": \"#E5ECF6\", \"width\": 0.5}}, \"type\": \"bar\"}], \"barpolar\": [{\"marker\": {\"line\": {\"color\": \"#E5ECF6\", \"width\": 0.5}}, \"type\": \"barpolar\"}], \"carpet\": [{\"aaxis\": {\"endlinecolor\": \"#2a3f5f\", \"gridcolor\": \"white\", \"linecolor\": \"white\", \"minorgridcolor\": \"white\", \"startlinecolor\": \"#2a3f5f\"}, \"baxis\": {\"endlinecolor\": \"#2a3f5f\", \"gridcolor\": \"white\", \"linecolor\": \"white\", \"minorgridcolor\": \"white\", \"startlinecolor\": \"#2a3f5f\"}, \"type\": \"carpet\"}], \"choropleth\": [{\"colorbar\": {\"outlinewidth\": 0, \"ticks\": \"\"}, \"type\": \"choropleth\"}], \"contour\": [{\"colorbar\": {\"outlinewidth\": 0, \"ticks\": \"\"}, \"colorscale\": [[0.0, \"#0d0887\"], [0.1111111111111111, \"#46039f\"], [0.2222222222222222, \"#7201a8\"], [0.3333333333333333, \"#9c179e\"], [0.4444444444444444, \"#bd3786\"], [0.5555555555555556, \"#d8576b\"], [0.6666666666666666, \"#ed7953\"], [0.7777777777777778, \"#fb9f3a\"], [0.8888888888888888, \"#fdca26\"], [1.0, \"#f0f921\"]], \"type\": \"contour\"}], \"contourcarpet\": [{\"colorbar\": {\"outlinewidth\": 0, \"ticks\": \"\"}, \"type\": \"contourcarpet\"}], \"heatmap\": [{\"colorbar\": {\"outlinewidth\": 0, \"ticks\": \"\"}, \"colorscale\": [[0.0, \"#0d0887\"], [0.1111111111111111, \"#46039f\"], [0.2222222222222222, \"#7201a8\"], [0.3333333333333333, \"#9c179e\"], [0.4444444444444444, \"#bd3786\"], [0.5555555555555556, \"#d8576b\"], [0.6666666666666666, \"#ed7953\"], [0.7777777777777778, \"#fb9f3a\"], [0.8888888888888888, \"#fdca26\"], [1.0, \"#f0f921\"]], \"type\": \"heatmap\"}], \"heatmapgl\": [{\"colorbar\": {\"outlinewidth\": 0, \"ticks\": \"\"}, \"colorscale\": [[0.0, \"#0d0887\"], [0.1111111111111111, \"#46039f\"], [0.2222222222222222, \"#7201a8\"], [0.3333333333333333, \"#9c179e\"], [0.4444444444444444, \"#bd3786\"], [0.5555555555555556, \"#d8576b\"], [0.6666666666666666, \"#ed7953\"], [0.7777777777777778, \"#fb9f3a\"], [0.8888888888888888, \"#fdca26\"], [1.0, \"#f0f921\"]], \"type\": \"heatmapgl\"}], \"histogram\": [{\"marker\": {\"colorbar\": {\"outlinewidth\": 0, \"ticks\": \"\"}}, \"type\": \"histogram\"}], \"histogram2d\": [{\"colorbar\": {\"outlinewidth\": 0, \"ticks\": \"\"}, \"colorscale\": [[0.0, \"#0d0887\"], [0.1111111111111111, \"#46039f\"], [0.2222222222222222, \"#7201a8\"], [0.3333333333333333, \"#9c179e\"], [0.4444444444444444, \"#bd3786\"], [0.5555555555555556, \"#d8576b\"], [0.6666666666666666, \"#ed7953\"], [0.7777777777777778, \"#fb9f3a\"], [0.8888888888888888, \"#fdca26\"], [1.0, \"#f0f921\"]], \"type\": \"histogram2d\"}], \"histogram2dcontour\": [{\"colorbar\": {\"outlinewidth\": 0, \"ticks\": \"\"}, \"colorscale\": [[0.0, \"#0d0887\"], [0.1111111111111111, \"#46039f\"], [0.2222222222222222, \"#7201a8\"], [0.3333333333333333, \"#9c179e\"], [0.4444444444444444, \"#bd3786\"], [0.5555555555555556, \"#d8576b\"], [0.6666666666666666, \"#ed7953\"], [0.7777777777777778, \"#fb9f3a\"], [0.8888888888888888, \"#fdca26\"], [1.0, \"#f0f921\"]], \"type\": \"histogram2dcontour\"}], \"mesh3d\": [{\"colorbar\": {\"outlinewidth\": 0, \"ticks\": \"\"}, \"type\": \"mesh3d\"}], \"parcoords\": [{\"line\": {\"colorbar\": {\"outlinewidth\": 0, \"ticks\": \"\"}}, \"type\": \"parcoords\"}], \"pie\": [{\"automargin\": true, \"type\": \"pie\"}], \"scatter\": [{\"marker\": {\"colorbar\": {\"outlinewidth\": 0, \"ticks\": \"\"}}, \"type\": \"scatter\"}], \"scatter3d\": [{\"line\": {\"colorbar\": {\"outlinewidth\": 0, \"ticks\": \"\"}}, \"marker\": {\"colorbar\": {\"outlinewidth\": 0, \"ticks\": \"\"}}, \"type\": \"scatter3d\"}], \"scattercarpet\": [{\"marker\": {\"colorbar\": {\"outlinewidth\": 0, \"ticks\": \"\"}}, \"type\": \"scattercarpet\"}], \"scattergeo\": [{\"marker\": {\"colorbar\": {\"outlinewidth\": 0, \"ticks\": \"\"}}, \"type\": \"scattergeo\"}], \"scattergl\": [{\"marker\": {\"colorbar\": {\"outlinewidth\": 0, \"ticks\": \"\"}}, \"type\": \"scattergl\"}], \"scattermapbox\": [{\"marker\": {\"colorbar\": {\"outlinewidth\": 0, \"ticks\": \"\"}}, \"type\": \"scattermapbox\"}], \"scatterpolar\": [{\"marker\": {\"colorbar\": {\"outlinewidth\": 0, \"ticks\": \"\"}}, \"type\": \"scatterpolar\"}], \"scatterpolargl\": [{\"marker\": {\"colorbar\": {\"outlinewidth\": 0, \"ticks\": \"\"}}, \"type\": \"scatterpolargl\"}], \"scatterternary\": [{\"marker\": {\"colorbar\": {\"outlinewidth\": 0, \"ticks\": \"\"}}, \"type\": \"scatterternary\"}], \"surface\": [{\"colorbar\": {\"outlinewidth\": 0, \"ticks\": \"\"}, \"colorscale\": [[0.0, \"#0d0887\"], [0.1111111111111111, \"#46039f\"], [0.2222222222222222, \"#7201a8\"], [0.3333333333333333, \"#9c179e\"], [0.4444444444444444, \"#bd3786\"], [0.5555555555555556, \"#d8576b\"], [0.6666666666666666, \"#ed7953\"], [0.7777777777777778, \"#fb9f3a\"], [0.8888888888888888, \"#fdca26\"], [1.0, \"#f0f921\"]], \"type\": \"surface\"}], \"table\": [{\"cells\": {\"fill\": {\"color\": \"#EBF0F8\"}, \"line\": {\"color\": \"white\"}}, \"header\": {\"fill\": {\"color\": \"#C8D4E3\"}, \"line\": {\"color\": \"white\"}}, \"type\": \"table\"}]}, \"layout\": {\"annotationdefaults\": {\"arrowcolor\": \"#2a3f5f\", \"arrowhead\": 0, \"arrowwidth\": 1}, \"autotypenumbers\": \"strict\", \"coloraxis\": {\"colorbar\": {\"outlinewidth\": 0, \"ticks\": \"\"}}, \"colorscale\": {\"diverging\": [[0, \"#8e0152\"], [0.1, \"#c51b7d\"], [0.2, \"#de77ae\"], [0.3, \"#f1b6da\"], [0.4, \"#fde0ef\"], [0.5, \"#f7f7f7\"], [0.6, \"#e6f5d0\"], [0.7, \"#b8e186\"], [0.8, \"#7fbc41\"], [0.9, \"#4d9221\"], [1, \"#276419\"]], \"sequential\": [[0.0, \"#0d0887\"], [0.1111111111111111, \"#46039f\"], [0.2222222222222222, \"#7201a8\"], [0.3333333333333333, \"#9c179e\"], [0.4444444444444444, \"#bd3786\"], [0.5555555555555556, \"#d8576b\"], [0.6666666666666666, \"#ed7953\"], [0.7777777777777778, \"#fb9f3a\"], [0.8888888888888888, \"#fdca26\"], [1.0, \"#f0f921\"]], \"sequentialminus\": [[0.0, \"#0d0887\"], [0.1111111111111111, \"#46039f\"], [0.2222222222222222, \"#7201a8\"], [0.3333333333333333, \"#9c179e\"], [0.4444444444444444, \"#bd3786\"], [0.5555555555555556, \"#d8576b\"], [0.6666666666666666, \"#ed7953\"], [0.7777777777777778, \"#fb9f3a\"], [0.8888888888888888, \"#fdca26\"], [1.0, \"#f0f921\"]]}, \"colorway\": [\"#636efa\", \"#EF553B\", \"#00cc96\", \"#ab63fa\", \"#FFA15A\", \"#19d3f3\", \"#FF6692\", \"#B6E880\", \"#FF97FF\", \"#FECB52\"], \"font\": {\"color\": \"#2a3f5f\"}, \"geo\": {\"bgcolor\": \"white\", \"lakecolor\": \"white\", \"landcolor\": \"#E5ECF6\", \"showlakes\": true, \"showland\": true, \"subunitcolor\": \"white\"}, \"hoverlabel\": {\"align\": \"left\"}, \"hovermode\": \"closest\", \"mapbox\": {\"style\": \"light\"}, \"paper_bgcolor\": \"white\", \"plot_bgcolor\": \"#E5ECF6\", \"polar\": {\"angularaxis\": {\"gridcolor\": \"white\", \"linecolor\": \"white\", \"ticks\": \"\"}, \"bgcolor\": \"#E5ECF6\", \"radialaxis\": {\"gridcolor\": \"white\", \"linecolor\": \"white\", \"ticks\": \"\"}}, \"scene\": {\"xaxis\": {\"backgroundcolor\": \"#E5ECF6\", \"gridcolor\": \"white\", \"gridwidth\": 2, \"linecolor\": \"white\", \"showbackground\": true, \"ticks\": \"\", \"zerolinecolor\": \"white\"}, \"yaxis\": {\"backgroundcolor\": \"#E5ECF6\", \"gridcolor\": \"white\", \"gridwidth\": 2, \"linecolor\": \"white\", \"showbackground\": true, \"ticks\": \"\", \"zerolinecolor\": \"white\"}, \"zaxis\": {\"backgroundcolor\": \"#E5ECF6\", \"gridcolor\": \"white\", \"gridwidth\": 2, \"linecolor\": \"white\", \"showbackground\": true, \"ticks\": \"\", \"zerolinecolor\": \"white\"}}, \"shapedefaults\": {\"line\": {\"color\": \"#2a3f5f\"}}, \"ternary\": {\"aaxis\": {\"gridcolor\": \"white\", \"linecolor\": \"white\", \"ticks\": \"\"}, \"baxis\": {\"gridcolor\": \"white\", \"linecolor\": \"white\", \"ticks\": \"\"}, \"bgcolor\": \"#E5ECF6\", \"caxis\": {\"gridcolor\": \"white\", \"linecolor\": \"white\", \"ticks\": \"\"}}, \"title\": {\"x\": 0.05}, \"xaxis\": {\"automargin\": true, \"gridcolor\": \"white\", \"linecolor\": \"white\", \"ticks\": \"\", \"title\": {\"standoff\": 15}, \"zerolinecolor\": \"white\", \"zerolinewidth\": 2}, \"yaxis\": {\"automargin\": true, \"gridcolor\": \"white\", \"linecolor\": \"white\", \"ticks\": \"\", \"title\": {\"standoff\": 15}, \"zerolinecolor\": \"white\", \"zerolinewidth\": 2}}}},                        {\"responsive\": true}                    ).then(function(){\n",
       "                            \n",
       "var gd = document.getElementById('c67f3098-13cc-4a9e-b817-ef4da8cba8b3');\n",
       "var x = new MutationObserver(function (mutations, observer) {{\n",
       "        var display = window.getComputedStyle(gd).display;\n",
       "        if (!display || display === 'none') {{\n",
       "            console.log([gd, 'removed!']);\n",
       "            Plotly.purge(gd);\n",
       "            observer.disconnect();\n",
       "        }}\n",
       "}});\n",
       "\n",
       "// Listen for the removal of the full notebook cells\n",
       "var notebookContainer = gd.closest('#notebook-container');\n",
       "if (notebookContainer) {{\n",
       "    x.observe(notebookContainer, {childList: true});\n",
       "}}\n",
       "\n",
       "// Listen for the clearing of the current output cell\n",
       "var outputEl = gd.closest('.output');\n",
       "if (outputEl) {{\n",
       "    x.observe(outputEl, {childList: true});\n",
       "}}\n",
       "\n",
       "                        })                };                });            </script>        </div>"
      ]
     },
     "metadata": {},
     "output_type": "display_data"
    }
   ],
   "source": [
    "import plotly.express as px\n",
    "df = px.data.iris()\n",
    "fig = px.scatter_3d(df, x=x.ravel(), y=y.ravel(), z=z.ravel())\n",
    "fig.show()"
   ]
  },
  {
   "cell_type": "code",
   "execution_count": 26,
   "id": "b44a5d93",
   "metadata": {},
   "outputs": [],
   "source": [
    "lr = LinearRegression()\n",
    "lr.fit(np.array([x,y]).reshape(100,2),z)\n",
    "\n",
    "x_input = np.linspace(x.min(), x.max(), 10)\n",
    "y_input = np.linspace(y.min(), y.max(), 10)\n",
    "xGrid, yGrid = np.meshgrid(x_input,y_input)\n",
    "\n",
    "final = np.vstack((xGrid.ravel().reshape(1,100),yGrid.ravel().reshape(1,100))).T\n",
    "\n",
    "z_final = lr.predict(final).reshape(10,10)"
   ]
  },
  {
   "cell_type": "code",
   "execution_count": 27,
   "id": "b19a384f",
   "metadata": {},
   "outputs": [
    {
     "data": {
      "application/vnd.plotly.v1+json": {
       "config": {
        "plotlyServerURL": "https://plot.ly"
       },
       "data": [
        {
         "hovertemplate": "x=%{x}<br>y=%{y}<br>z=%{z}<extra></extra>",
         "legendgroup": "",
         "marker": {
          "color": "#636efa",
          "symbol": "circle"
         },
         "mode": "markers",
         "name": "",
         "scene": "scene",
         "showlegend": false,
         "type": "scatter3d",
         "x": [
          1.893431122037371,
          1.5681970484613723,
          -1.254867188426045,
          -2.6225995577259873,
          -2.704871829041259,
          -2.1349512489043074,
          3.2375065201979174,
          2.1596951539521134,
          1.2957900831126503,
          -0.6790253147153136,
          -1.1747146379104187,
          -2.7033174545857563,
          2.2482244854063875,
          0.5549535778973844,
          2.1099192952671517,
          3.9571434045089147,
          -1.9258568057503798,
          2.4740047766337225,
          -2.739379878425118,
          0.2782121148821268,
          0.13592441679229061,
          3.898836947426809,
          -1.9513858610100683,
          0.5658598936399666,
          -0.15604076851214943,
          -1.1836421358324825,
          1.6112436669398855,
          0.30069095892593056,
          2.7225365765078307,
          3.190125116163946,
          0.29169610143848956,
          -0.8099435271995752,
          3.287006725955796,
          0.6939663775656513,
          3.2038861948064703,
          3.4223661974000112,
          4.007980358963083,
          -1.7492425649385401,
          -0.9590712406331208,
          2.099167474744543,
          1.5250047672517715,
          0.3409294489955075,
          3.081627334555203,
          3.3951454768022513,
          -2.3487692270619362,
          0.006022011018664841,
          1.7016259999335803,
          -1.771980471084575,
          0.9051824310171868,
          -1.0753315401045658,
          2.1282077092072598,
          -0.726281933287038,
          2.6010029250043,
          2.763598810798298,
          2.42324322533457,
          -1.9488681637604006,
          1.8895497233872467,
          -1.7225125742285536,
          -1.1537470087350121,
          -1.9048188934022796,
          0.9412517549701729,
          -1.616323935881689,
          1.477905826522445,
          1.0713408945039151,
          -0.2825533039636108,
          2.773044973544354,
          2.484245664076118,
          3.7481747296319172,
          -2.498610637905349,
          1.1148385270542613,
          -2.7580031765194386,
          -1.740797654177503,
          -2.3859210199403322,
          -0.4941800622779766,
          -1.7130987846870762,
          1.0559362014119449,
          -0.44264531589540246,
          -0.9194516371323274,
          -1.7502013548386381,
          3.8284500965882886,
          1.487705270718621,
          -1.862076907247697,
          2.8994130954813935,
          1.9295012623567045,
          -1.9885823733745238,
          -2.3556529529599737,
          3.206375255411408,
          0.21877877276454427,
          2.8533331541275,
          3.8221456307463955,
          -0.644666593566682,
          0.2955168109745756,
          -2.701263454376418,
          -1.5923121340765387,
          1.2710406931360438,
          4.087728351322402,
          -0.5198275523960945,
          -1.4038176138436667,
          -0.49391775651544245,
          0.8392545107788361
         ],
         "y": [
          2.858271299567426,
          -0.2285845790451475,
          -0.41437891219429446,
          0.17533278199937907,
          0.31555172888999694,
          -2.6276887225785686,
          0.030498012588017875,
          -0.9673152290137152,
          -1.1431231974154514,
          -1.3681380510076795,
          1.361275444443847,
          -1.9589554620547607,
          1.0629110309673262,
          1.1718078733300885,
          0.6088915138480062,
          3.5366880466691644,
          -2.1202837426545935,
          2.6233380761732397,
          1.0202317586656378,
          3.567378015173258,
          3.3938351022116313,
          -0.18583000139358363,
          0.011884590145204488,
          -2.614951149595027,
          -2.1637921464884613,
          -1.979165841533602,
          -2.0361527682213074,
          0.394028728248518,
          1.246915707470417,
          2.1456448420680525,
          -2.089983378342406,
          0.299155047998624,
          2.8782264779331825,
          0.4163122184552268,
          -1.4282662470344611,
          -1.3130780529886452,
          0.4574754149711553,
          2.882218299214281,
          3.8806480175931197,
          1.8402042508522785,
          3.2026839660563367,
          3.270923262628658,
          1.5858581889343153,
          1.2174712281082058,
          3.0042795390346555,
          1.540934893094474,
          1.0306629192794103,
          -2.4846120640261584,
          -0.6399171098710017,
          -0.7774140269127336,
          3.498354429320293,
          -2.578556945642705,
          -1.2503195685762243,
          2.292774337769285,
          0.5034993085647379,
          -0.4099694611184983,
          -0.7418986954834672,
          -1.0355055165084137,
          0.8598566215079742,
          3.376725371623551,
          -2.0088467247081785,
          1.7034005945179977,
          -2.5164632616632066,
          -0.46613553936681695,
          -2.5642283069349356,
          0.49285292758577537,
          -2.003805570828026,
          -0.4958263818268578,
          3.5829231721176384,
          1.1225680701635214,
          -2.4679377262588202,
          2.5146063128465084,
          -0.1458918758086778,
          -0.0762729644248692,
          2.355223299622045,
          -1.1235696465309863,
          1.436112936706336,
          -0.8697966903899312,
          0.015634117680358273,
          3.1274000146021574,
          -0.004795861457805195,
          3.5112934781012015,
          -2.4203585978519127,
          2.046013935971998,
          -2.0585277462453853,
          0.5722823567745894,
          2.083473445162613,
          -2.753539523310403,
          3.763573832308748,
          2.376779394151991,
          -2.1217464479893424,
          0.22240076493986916,
          2.2695962895350243,
          -1.5679778530037356,
          3.2336967603973177,
          3.650946290497072,
          0.44706227768841744,
          -2.7594563037765494,
          -1.8007093611353122,
          -1.8804140410536256
         ],
         "z": [
          14.340322902471952,
          6.102132423219861,
          5.195721864242078,
          7.104072665176831,
          8.357316029726508,
          12.172296582001396,
          13.782939429761893,
          8.155354501681346,
          4.963196925782821,
          2.2513392745212526,
          5.710982888729786,
          14.430796791698985,
          11.050743544294033,
          4.580209651843878,
          6.764167635071685,
          32.74443680643798,
          8.520712031448452,
          18.587114607435062,
          7.722444046816655,
          16.37064240699993,
          14.772674209117667,
          15.293844043930562,
          6.177037724633898,
          8.128312538852065,
          6.204195885344919,
          7.108988725845381,
          8.223000822354855,
          1.2569229792133256,
          10.55775086245758,
          19.706841538806465,
          6.706058333561501,
          1.7687686749152096,
          23.593173218336734,
          3.2655787664912994,
          15.132493276385624,
          12.642417747896609,
          19.633000277192053,
          13.877055831056232,
          18.604320864886635,
          10.72471991532183,
          16.43781551204058,
          14.023823641756993,
          14.430018483302408,
          16.754700161346825,
          17.147511843215636,
          6.138873556972304,
          6.600723107643137,
          9.351306527708013,
          3.724045634147857,
          3.7301461198099943,
          20.265842310649198,
          9.325157715579245,
          9.724120723541281,
          16.846381747223905,
          8.139607002404441,
          5.374448065892494,
          6.583410109274485,
          5.876505220450214,
          5.015094691483553,
          16.163502692583837,
          8.119211039590734,
          5.261201616679922,
          9.987514525981675,
          3.425039803228443,
          9.856057344237657,
          9.853747313698886,
          12.09557527507214,
          17.264203187962867,
          20.349683945947437,
          6.67685175881257,
          15.380263950413285,
          12.715341416903147,
          7.914364501918331,
          0.9263210441725416,
          11.895343231583947,
          5.354867288140509,
          3.8980157146585936,
          3.7701415422198163,
          4.617334623189776,
          27.82607348818732,
          5.115044860291125,
          17.556286956773786,
          14.991262719572232,
          10.404703023625018,
          8.857150739031573,
          8.363862462797318,
          18.32040748086945,
          10.94995034281345,
          27.810350648933415,
          24.621971740741724,
          8.026715792965641,
          1.260220346281471,
          13.27119859809963,
          7.038365537488042,
          15.53629223267101,
          34.39663158906246,
          0.6968740454426487,
          10.553433355880129,
          7.031916454402001,
          5.964874884952427
         ]
        },
        {
         "type": "surface",
         "x": [
          -2.7580031765194386,
          -1.9973663400925674,
          -1.2367295036656962,
          -0.47609266723882504,
          0.28454416918804615,
          1.0451810056149173,
          1.8058178420417885,
          2.56645467846866,
          3.327091514895531,
          4.087728351322402
         ],
         "y": [
          -2.7594563037765494,
          -2.021666934735475,
          -1.2838775656944006,
          -0.5460881966533262,
          0.1917011723877482,
          0.9294905414288226,
          1.667279910469897,
          2.4050692795109714,
          3.1428586485520458,
          3.8806480175931197
         ],
         "z": [
          [
           9.958177027960938,
           9.838644752960217,
           9.719112477959499,
           9.599580202958778,
           9.480047927958058,
           9.36051565295734,
           9.240983377956619,
           9.121451102955898,
           9.00191882795518,
           8.88238655295446
          ],
          [
           10.296021083315152,
           10.176488808314433,
           10.056956533313713,
           9.937424258312994,
           9.817891983312274,
           9.698359708311553,
           9.578827433310835,
           9.459295158310114,
           9.339762883309394,
           9.220230608308675
          ],
          [
           10.633865138669368,
           10.514332863668647,
           10.394800588667929,
           10.275268313667208,
           10.155736038666488,
           10.03620376366577,
           9.916671488665049,
           9.797139213664328,
           9.67760693866361,
           9.55807466366289
          ],
          [
           10.971709194023582,
           10.852176919022863,
           10.732644644022143,
           10.613112369021422,
           10.493580094020704,
           10.374047819019983,
           10.254515544019263,
           10.134983269018544,
           10.015450994017824,
           9.895918719017105
          ],
          [
           11.309553249377798,
           11.190020974377077,
           11.070488699376357,
           10.950956424375638,
           10.831424149374918,
           10.711891874374198,
           10.592359599373479,
           10.472827324372759,
           10.35329504937204,
           10.23376277437132
          ],
          [
           11.647397304732012,
           11.527865029731291,
           11.408332754730573,
           11.288800479729852,
           11.169268204729132,
           11.049735929728413,
           10.930203654727693,
           10.810671379726973,
           10.691139104726254,
           10.571606829725534
          ],
          [
           11.985241360086226,
           11.865709085085507,
           11.746176810084787,
           11.626644535084067,
           11.507112260083348,
           11.387579985082628,
           11.268047710081909,
           11.148515435081189,
           11.028983160080468,
           10.90945088507975
          ],
          [
           12.323085415440442,
           12.203553140439722,
           12.084020865439001,
           11.964488590438283,
           11.844956315437562,
           11.725424040436843,
           11.605891765436123,
           11.486359490435403,
           11.366827215434684,
           11.247294940433964
          ],
          [
           12.660929470794656,
           12.541397195793937,
           12.421864920793217,
           12.302332645792497,
           12.182800370791778,
           12.063268095791058,
           11.943735820790337,
           11.824203545789619,
           11.704671270788898,
           11.585138995788178
          ],
          [
           12.99877352614887,
           12.879241251148152,
           12.759708976147431,
           12.64017670114671,
           12.520644426145992,
           12.401112151145272,
           12.281579876144553,
           12.162047601143833,
           12.042515326143112,
           11.922983051142394
          ]
         ]
        }
       ],
       "layout": {
        "legend": {
         "tracegroupgap": 0
        },
        "margin": {
         "t": 60
        },
        "scene": {
         "domain": {
          "x": [
           0,
           1
          ],
          "y": [
           0,
           1
          ]
         },
         "xaxis": {
          "title": {
           "text": "x"
          }
         },
         "yaxis": {
          "title": {
           "text": "y"
          }
         },
         "zaxis": {
          "title": {
           "text": "z"
          }
         }
        },
        "template": {
         "data": {
          "bar": [
           {
            "error_x": {
             "color": "#2a3f5f"
            },
            "error_y": {
             "color": "#2a3f5f"
            },
            "marker": {
             "line": {
              "color": "#E5ECF6",
              "width": 0.5
             }
            },
            "type": "bar"
           }
          ],
          "barpolar": [
           {
            "marker": {
             "line": {
              "color": "#E5ECF6",
              "width": 0.5
             }
            },
            "type": "barpolar"
           }
          ],
          "carpet": [
           {
            "aaxis": {
             "endlinecolor": "#2a3f5f",
             "gridcolor": "white",
             "linecolor": "white",
             "minorgridcolor": "white",
             "startlinecolor": "#2a3f5f"
            },
            "baxis": {
             "endlinecolor": "#2a3f5f",
             "gridcolor": "white",
             "linecolor": "white",
             "minorgridcolor": "white",
             "startlinecolor": "#2a3f5f"
            },
            "type": "carpet"
           }
          ],
          "choropleth": [
           {
            "colorbar": {
             "outlinewidth": 0,
             "ticks": ""
            },
            "type": "choropleth"
           }
          ],
          "contour": [
           {
            "colorbar": {
             "outlinewidth": 0,
             "ticks": ""
            },
            "colorscale": [
             [
              0,
              "#0d0887"
             ],
             [
              0.1111111111111111,
              "#46039f"
             ],
             [
              0.2222222222222222,
              "#7201a8"
             ],
             [
              0.3333333333333333,
              "#9c179e"
             ],
             [
              0.4444444444444444,
              "#bd3786"
             ],
             [
              0.5555555555555556,
              "#d8576b"
             ],
             [
              0.6666666666666666,
              "#ed7953"
             ],
             [
              0.7777777777777778,
              "#fb9f3a"
             ],
             [
              0.8888888888888888,
              "#fdca26"
             ],
             [
              1,
              "#f0f921"
             ]
            ],
            "type": "contour"
           }
          ],
          "contourcarpet": [
           {
            "colorbar": {
             "outlinewidth": 0,
             "ticks": ""
            },
            "type": "contourcarpet"
           }
          ],
          "heatmap": [
           {
            "colorbar": {
             "outlinewidth": 0,
             "ticks": ""
            },
            "colorscale": [
             [
              0,
              "#0d0887"
             ],
             [
              0.1111111111111111,
              "#46039f"
             ],
             [
              0.2222222222222222,
              "#7201a8"
             ],
             [
              0.3333333333333333,
              "#9c179e"
             ],
             [
              0.4444444444444444,
              "#bd3786"
             ],
             [
              0.5555555555555556,
              "#d8576b"
             ],
             [
              0.6666666666666666,
              "#ed7953"
             ],
             [
              0.7777777777777778,
              "#fb9f3a"
             ],
             [
              0.8888888888888888,
              "#fdca26"
             ],
             [
              1,
              "#f0f921"
             ]
            ],
            "type": "heatmap"
           }
          ],
          "heatmapgl": [
           {
            "colorbar": {
             "outlinewidth": 0,
             "ticks": ""
            },
            "colorscale": [
             [
              0,
              "#0d0887"
             ],
             [
              0.1111111111111111,
              "#46039f"
             ],
             [
              0.2222222222222222,
              "#7201a8"
             ],
             [
              0.3333333333333333,
              "#9c179e"
             ],
             [
              0.4444444444444444,
              "#bd3786"
             ],
             [
              0.5555555555555556,
              "#d8576b"
             ],
             [
              0.6666666666666666,
              "#ed7953"
             ],
             [
              0.7777777777777778,
              "#fb9f3a"
             ],
             [
              0.8888888888888888,
              "#fdca26"
             ],
             [
              1,
              "#f0f921"
             ]
            ],
            "type": "heatmapgl"
           }
          ],
          "histogram": [
           {
            "marker": {
             "colorbar": {
              "outlinewidth": 0,
              "ticks": ""
             }
            },
            "type": "histogram"
           }
          ],
          "histogram2d": [
           {
            "colorbar": {
             "outlinewidth": 0,
             "ticks": ""
            },
            "colorscale": [
             [
              0,
              "#0d0887"
             ],
             [
              0.1111111111111111,
              "#46039f"
             ],
             [
              0.2222222222222222,
              "#7201a8"
             ],
             [
              0.3333333333333333,
              "#9c179e"
             ],
             [
              0.4444444444444444,
              "#bd3786"
             ],
             [
              0.5555555555555556,
              "#d8576b"
             ],
             [
              0.6666666666666666,
              "#ed7953"
             ],
             [
              0.7777777777777778,
              "#fb9f3a"
             ],
             [
              0.8888888888888888,
              "#fdca26"
             ],
             [
              1,
              "#f0f921"
             ]
            ],
            "type": "histogram2d"
           }
          ],
          "histogram2dcontour": [
           {
            "colorbar": {
             "outlinewidth": 0,
             "ticks": ""
            },
            "colorscale": [
             [
              0,
              "#0d0887"
             ],
             [
              0.1111111111111111,
              "#46039f"
             ],
             [
              0.2222222222222222,
              "#7201a8"
             ],
             [
              0.3333333333333333,
              "#9c179e"
             ],
             [
              0.4444444444444444,
              "#bd3786"
             ],
             [
              0.5555555555555556,
              "#d8576b"
             ],
             [
              0.6666666666666666,
              "#ed7953"
             ],
             [
              0.7777777777777778,
              "#fb9f3a"
             ],
             [
              0.8888888888888888,
              "#fdca26"
             ],
             [
              1,
              "#f0f921"
             ]
            ],
            "type": "histogram2dcontour"
           }
          ],
          "mesh3d": [
           {
            "colorbar": {
             "outlinewidth": 0,
             "ticks": ""
            },
            "type": "mesh3d"
           }
          ],
          "parcoords": [
           {
            "line": {
             "colorbar": {
              "outlinewidth": 0,
              "ticks": ""
             }
            },
            "type": "parcoords"
           }
          ],
          "pie": [
           {
            "automargin": true,
            "type": "pie"
           }
          ],
          "scatter": [
           {
            "marker": {
             "colorbar": {
              "outlinewidth": 0,
              "ticks": ""
             }
            },
            "type": "scatter"
           }
          ],
          "scatter3d": [
           {
            "line": {
             "colorbar": {
              "outlinewidth": 0,
              "ticks": ""
             }
            },
            "marker": {
             "colorbar": {
              "outlinewidth": 0,
              "ticks": ""
             }
            },
            "type": "scatter3d"
           }
          ],
          "scattercarpet": [
           {
            "marker": {
             "colorbar": {
              "outlinewidth": 0,
              "ticks": ""
             }
            },
            "type": "scattercarpet"
           }
          ],
          "scattergeo": [
           {
            "marker": {
             "colorbar": {
              "outlinewidth": 0,
              "ticks": ""
             }
            },
            "type": "scattergeo"
           }
          ],
          "scattergl": [
           {
            "marker": {
             "colorbar": {
              "outlinewidth": 0,
              "ticks": ""
             }
            },
            "type": "scattergl"
           }
          ],
          "scattermapbox": [
           {
            "marker": {
             "colorbar": {
              "outlinewidth": 0,
              "ticks": ""
             }
            },
            "type": "scattermapbox"
           }
          ],
          "scatterpolar": [
           {
            "marker": {
             "colorbar": {
              "outlinewidth": 0,
              "ticks": ""
             }
            },
            "type": "scatterpolar"
           }
          ],
          "scatterpolargl": [
           {
            "marker": {
             "colorbar": {
              "outlinewidth": 0,
              "ticks": ""
             }
            },
            "type": "scatterpolargl"
           }
          ],
          "scatterternary": [
           {
            "marker": {
             "colorbar": {
              "outlinewidth": 0,
              "ticks": ""
             }
            },
            "type": "scatterternary"
           }
          ],
          "surface": [
           {
            "colorbar": {
             "outlinewidth": 0,
             "ticks": ""
            },
            "colorscale": [
             [
              0,
              "#0d0887"
             ],
             [
              0.1111111111111111,
              "#46039f"
             ],
             [
              0.2222222222222222,
              "#7201a8"
             ],
             [
              0.3333333333333333,
              "#9c179e"
             ],
             [
              0.4444444444444444,
              "#bd3786"
             ],
             [
              0.5555555555555556,
              "#d8576b"
             ],
             [
              0.6666666666666666,
              "#ed7953"
             ],
             [
              0.7777777777777778,
              "#fb9f3a"
             ],
             [
              0.8888888888888888,
              "#fdca26"
             ],
             [
              1,
              "#f0f921"
             ]
            ],
            "type": "surface"
           }
          ],
          "table": [
           {
            "cells": {
             "fill": {
              "color": "#EBF0F8"
             },
             "line": {
              "color": "white"
             }
            },
            "header": {
             "fill": {
              "color": "#C8D4E3"
             },
             "line": {
              "color": "white"
             }
            },
            "type": "table"
           }
          ]
         },
         "layout": {
          "annotationdefaults": {
           "arrowcolor": "#2a3f5f",
           "arrowhead": 0,
           "arrowwidth": 1
          },
          "autotypenumbers": "strict",
          "coloraxis": {
           "colorbar": {
            "outlinewidth": 0,
            "ticks": ""
           }
          },
          "colorscale": {
           "diverging": [
            [
             0,
             "#8e0152"
            ],
            [
             0.1,
             "#c51b7d"
            ],
            [
             0.2,
             "#de77ae"
            ],
            [
             0.3,
             "#f1b6da"
            ],
            [
             0.4,
             "#fde0ef"
            ],
            [
             0.5,
             "#f7f7f7"
            ],
            [
             0.6,
             "#e6f5d0"
            ],
            [
             0.7,
             "#b8e186"
            ],
            [
             0.8,
             "#7fbc41"
            ],
            [
             0.9,
             "#4d9221"
            ],
            [
             1,
             "#276419"
            ]
           ],
           "sequential": [
            [
             0,
             "#0d0887"
            ],
            [
             0.1111111111111111,
             "#46039f"
            ],
            [
             0.2222222222222222,
             "#7201a8"
            ],
            [
             0.3333333333333333,
             "#9c179e"
            ],
            [
             0.4444444444444444,
             "#bd3786"
            ],
            [
             0.5555555555555556,
             "#d8576b"
            ],
            [
             0.6666666666666666,
             "#ed7953"
            ],
            [
             0.7777777777777778,
             "#fb9f3a"
            ],
            [
             0.8888888888888888,
             "#fdca26"
            ],
            [
             1,
             "#f0f921"
            ]
           ],
           "sequentialminus": [
            [
             0,
             "#0d0887"
            ],
            [
             0.1111111111111111,
             "#46039f"
            ],
            [
             0.2222222222222222,
             "#7201a8"
            ],
            [
             0.3333333333333333,
             "#9c179e"
            ],
            [
             0.4444444444444444,
             "#bd3786"
            ],
            [
             0.5555555555555556,
             "#d8576b"
            ],
            [
             0.6666666666666666,
             "#ed7953"
            ],
            [
             0.7777777777777778,
             "#fb9f3a"
            ],
            [
             0.8888888888888888,
             "#fdca26"
            ],
            [
             1,
             "#f0f921"
            ]
           ]
          },
          "colorway": [
           "#636efa",
           "#EF553B",
           "#00cc96",
           "#ab63fa",
           "#FFA15A",
           "#19d3f3",
           "#FF6692",
           "#B6E880",
           "#FF97FF",
           "#FECB52"
          ],
          "font": {
           "color": "#2a3f5f"
          },
          "geo": {
           "bgcolor": "white",
           "lakecolor": "white",
           "landcolor": "#E5ECF6",
           "showlakes": true,
           "showland": true,
           "subunitcolor": "white"
          },
          "hoverlabel": {
           "align": "left"
          },
          "hovermode": "closest",
          "mapbox": {
           "style": "light"
          },
          "paper_bgcolor": "white",
          "plot_bgcolor": "#E5ECF6",
          "polar": {
           "angularaxis": {
            "gridcolor": "white",
            "linecolor": "white",
            "ticks": ""
           },
           "bgcolor": "#E5ECF6",
           "radialaxis": {
            "gridcolor": "white",
            "linecolor": "white",
            "ticks": ""
           }
          },
          "scene": {
           "xaxis": {
            "backgroundcolor": "#E5ECF6",
            "gridcolor": "white",
            "gridwidth": 2,
            "linecolor": "white",
            "showbackground": true,
            "ticks": "",
            "zerolinecolor": "white"
           },
           "yaxis": {
            "backgroundcolor": "#E5ECF6",
            "gridcolor": "white",
            "gridwidth": 2,
            "linecolor": "white",
            "showbackground": true,
            "ticks": "",
            "zerolinecolor": "white"
           },
           "zaxis": {
            "backgroundcolor": "#E5ECF6",
            "gridcolor": "white",
            "gridwidth": 2,
            "linecolor": "white",
            "showbackground": true,
            "ticks": "",
            "zerolinecolor": "white"
           }
          },
          "shapedefaults": {
           "line": {
            "color": "#2a3f5f"
           }
          },
          "ternary": {
           "aaxis": {
            "gridcolor": "white",
            "linecolor": "white",
            "ticks": ""
           },
           "baxis": {
            "gridcolor": "white",
            "linecolor": "white",
            "ticks": ""
           },
           "bgcolor": "#E5ECF6",
           "caxis": {
            "gridcolor": "white",
            "linecolor": "white",
            "ticks": ""
           }
          },
          "title": {
           "x": 0.05
          },
          "xaxis": {
           "automargin": true,
           "gridcolor": "white",
           "linecolor": "white",
           "ticks": "",
           "title": {
            "standoff": 15
           },
           "zerolinecolor": "white",
           "zerolinewidth": 2
          },
          "yaxis": {
           "automargin": true,
           "gridcolor": "white",
           "linecolor": "white",
           "ticks": "",
           "title": {
            "standoff": 15
           },
           "zerolinecolor": "white",
           "zerolinewidth": 2
          }
         }
        }
       }
      },
      "text/html": [
       "<div>                            <div id=\"f6c63ea7-a985-4b54-ab1d-c8a6180c275b\" class=\"plotly-graph-div\" style=\"height:525px; width:100%;\"></div>            <script type=\"text/javascript\">                require([\"plotly\"], function(Plotly) {                    window.PLOTLYENV=window.PLOTLYENV || {};                                    if (document.getElementById(\"f6c63ea7-a985-4b54-ab1d-c8a6180c275b\")) {                    Plotly.newPlot(                        \"f6c63ea7-a985-4b54-ab1d-c8a6180c275b\",                        [{\"hovertemplate\": \"x=%{x}<br>y=%{y}<br>z=%{z}<extra></extra>\", \"legendgroup\": \"\", \"marker\": {\"color\": \"#636efa\", \"symbol\": \"circle\"}, \"mode\": \"markers\", \"name\": \"\", \"scene\": \"scene\", \"showlegend\": false, \"type\": \"scatter3d\", \"x\": [1.893431122037371, 1.5681970484613723, -1.254867188426045, -2.6225995577259873, -2.704871829041259, -2.1349512489043074, 3.2375065201979174, 2.1596951539521134, 1.2957900831126503, -0.6790253147153136, -1.1747146379104187, -2.7033174545857563, 2.2482244854063875, 0.5549535778973844, 2.1099192952671517, 3.9571434045089147, -1.9258568057503798, 2.4740047766337225, -2.739379878425118, 0.2782121148821268, 0.13592441679229061, 3.898836947426809, -1.9513858610100683, 0.5658598936399666, -0.15604076851214943, -1.1836421358324825, 1.6112436669398855, 0.30069095892593056, 2.7225365765078307, 3.190125116163946, 0.29169610143848956, -0.8099435271995752, 3.287006725955796, 0.6939663775656513, 3.2038861948064703, 3.4223661974000112, 4.007980358963083, -1.7492425649385401, -0.9590712406331208, 2.099167474744543, 1.5250047672517715, 0.3409294489955075, 3.081627334555203, 3.3951454768022513, -2.3487692270619362, 0.006022011018664841, 1.7016259999335803, -1.771980471084575, 0.9051824310171868, -1.0753315401045658, 2.1282077092072598, -0.726281933287038, 2.6010029250043, 2.763598810798298, 2.42324322533457, -1.9488681637604006, 1.8895497233872467, -1.7225125742285536, -1.1537470087350121, -1.9048188934022796, 0.9412517549701729, -1.616323935881689, 1.477905826522445, 1.0713408945039151, -0.2825533039636108, 2.773044973544354, 2.484245664076118, 3.7481747296319172, -2.498610637905349, 1.1148385270542613, -2.7580031765194386, -1.740797654177503, -2.3859210199403322, -0.4941800622779766, -1.7130987846870762, 1.0559362014119449, -0.44264531589540246, -0.9194516371323274, -1.7502013548386381, 3.8284500965882886, 1.487705270718621, -1.862076907247697, 2.8994130954813935, 1.9295012623567045, -1.9885823733745238, -2.3556529529599737, 3.206375255411408, 0.21877877276454427, 2.8533331541275, 3.8221456307463955, -0.644666593566682, 0.2955168109745756, -2.701263454376418, -1.5923121340765387, 1.2710406931360438, 4.087728351322402, -0.5198275523960945, -1.4038176138436667, -0.49391775651544245, 0.8392545107788361], \"y\": [2.858271299567426, -0.2285845790451475, -0.41437891219429446, 0.17533278199937907, 0.31555172888999694, -2.6276887225785686, 0.030498012588017875, -0.9673152290137152, -1.1431231974154514, -1.3681380510076795, 1.361275444443847, -1.9589554620547607, 1.0629110309673262, 1.1718078733300885, 0.6088915138480062, 3.5366880466691644, -2.1202837426545935, 2.6233380761732397, 1.0202317586656378, 3.567378015173258, 3.3938351022116313, -0.18583000139358363, 0.011884590145204488, -2.614951149595027, -2.1637921464884613, -1.979165841533602, -2.0361527682213074, 0.394028728248518, 1.246915707470417, 2.1456448420680525, -2.089983378342406, 0.299155047998624, 2.8782264779331825, 0.4163122184552268, -1.4282662470344611, -1.3130780529886452, 0.4574754149711553, 2.882218299214281, 3.8806480175931197, 1.8402042508522785, 3.2026839660563367, 3.270923262628658, 1.5858581889343153, 1.2174712281082058, 3.0042795390346555, 1.540934893094474, 1.0306629192794103, -2.4846120640261584, -0.6399171098710017, -0.7774140269127336, 3.498354429320293, -2.578556945642705, -1.2503195685762243, 2.292774337769285, 0.5034993085647379, -0.4099694611184983, -0.7418986954834672, -1.0355055165084137, 0.8598566215079742, 3.376725371623551, -2.0088467247081785, 1.7034005945179977, -2.5164632616632066, -0.46613553936681695, -2.5642283069349356, 0.49285292758577537, -2.003805570828026, -0.4958263818268578, 3.5829231721176384, 1.1225680701635214, -2.4679377262588202, 2.5146063128465084, -0.1458918758086778, -0.0762729644248692, 2.355223299622045, -1.1235696465309863, 1.436112936706336, -0.8697966903899312, 0.015634117680358273, 3.1274000146021574, -0.004795861457805195, 3.5112934781012015, -2.4203585978519127, 2.046013935971998, -2.0585277462453853, 0.5722823567745894, 2.083473445162613, -2.753539523310403, 3.763573832308748, 2.376779394151991, -2.1217464479893424, 0.22240076493986916, 2.2695962895350243, -1.5679778530037356, 3.2336967603973177, 3.650946290497072, 0.44706227768841744, -2.7594563037765494, -1.8007093611353122, -1.8804140410536256], \"z\": [14.340322902471952, 6.102132423219861, 5.195721864242078, 7.104072665176831, 8.357316029726508, 12.172296582001396, 13.782939429761893, 8.155354501681346, 4.963196925782821, 2.2513392745212526, 5.710982888729786, 14.430796791698985, 11.050743544294033, 4.580209651843878, 6.764167635071685, 32.74443680643798, 8.520712031448452, 18.587114607435062, 7.722444046816655, 16.37064240699993, 14.772674209117667, 15.293844043930562, 6.177037724633898, 8.128312538852065, 6.204195885344919, 7.108988725845381, 8.223000822354855, 1.2569229792133256, 10.55775086245758, 19.706841538806465, 6.706058333561501, 1.7687686749152096, 23.593173218336734, 3.2655787664912994, 15.132493276385624, 12.642417747896609, 19.633000277192053, 13.877055831056232, 18.604320864886635, 10.72471991532183, 16.43781551204058, 14.023823641756993, 14.430018483302408, 16.754700161346825, 17.147511843215636, 6.138873556972304, 6.600723107643137, 9.351306527708013, 3.724045634147857, 3.7301461198099943, 20.265842310649198, 9.325157715579245, 9.724120723541281, 16.846381747223905, 8.139607002404441, 5.374448065892494, 6.583410109274485, 5.876505220450214, 5.015094691483553, 16.163502692583837, 8.119211039590734, 5.261201616679922, 9.987514525981675, 3.425039803228443, 9.856057344237657, 9.853747313698886, 12.09557527507214, 17.264203187962867, 20.349683945947437, 6.67685175881257, 15.380263950413285, 12.715341416903147, 7.914364501918331, 0.9263210441725416, 11.895343231583947, 5.354867288140509, 3.8980157146585936, 3.7701415422198163, 4.617334623189776, 27.82607348818732, 5.115044860291125, 17.556286956773786, 14.991262719572232, 10.404703023625018, 8.857150739031573, 8.363862462797318, 18.32040748086945, 10.94995034281345, 27.810350648933415, 24.621971740741724, 8.026715792965641, 1.260220346281471, 13.27119859809963, 7.038365537488042, 15.53629223267101, 34.39663158906246, 0.6968740454426487, 10.553433355880129, 7.031916454402001, 5.964874884952427]}, {\"type\": \"surface\", \"x\": [-2.7580031765194386, -1.9973663400925674, -1.2367295036656962, -0.47609266723882504, 0.28454416918804615, 1.0451810056149173, 1.8058178420417885, 2.56645467846866, 3.327091514895531, 4.087728351322402], \"y\": [-2.7594563037765494, -2.021666934735475, -1.2838775656944006, -0.5460881966533262, 0.1917011723877482, 0.9294905414288226, 1.667279910469897, 2.4050692795109714, 3.1428586485520458, 3.8806480175931197], \"z\": [[9.958177027960938, 9.838644752960217, 9.719112477959499, 9.599580202958778, 9.480047927958058, 9.36051565295734, 9.240983377956619, 9.121451102955898, 9.00191882795518, 8.88238655295446], [10.296021083315152, 10.176488808314433, 10.056956533313713, 9.937424258312994, 9.817891983312274, 9.698359708311553, 9.578827433310835, 9.459295158310114, 9.339762883309394, 9.220230608308675], [10.633865138669368, 10.514332863668647, 10.394800588667929, 10.275268313667208, 10.155736038666488, 10.03620376366577, 9.916671488665049, 9.797139213664328, 9.67760693866361, 9.55807466366289], [10.971709194023582, 10.852176919022863, 10.732644644022143, 10.613112369021422, 10.493580094020704, 10.374047819019983, 10.254515544019263, 10.134983269018544, 10.015450994017824, 9.895918719017105], [11.309553249377798, 11.190020974377077, 11.070488699376357, 10.950956424375638, 10.831424149374918, 10.711891874374198, 10.592359599373479, 10.472827324372759, 10.35329504937204, 10.23376277437132], [11.647397304732012, 11.527865029731291, 11.408332754730573, 11.288800479729852, 11.169268204729132, 11.049735929728413, 10.930203654727693, 10.810671379726973, 10.691139104726254, 10.571606829725534], [11.985241360086226, 11.865709085085507, 11.746176810084787, 11.626644535084067, 11.507112260083348, 11.387579985082628, 11.268047710081909, 11.148515435081189, 11.028983160080468, 10.90945088507975], [12.323085415440442, 12.203553140439722, 12.084020865439001, 11.964488590438283, 11.844956315437562, 11.725424040436843, 11.605891765436123, 11.486359490435403, 11.366827215434684, 11.247294940433964], [12.660929470794656, 12.541397195793937, 12.421864920793217, 12.302332645792497, 12.182800370791778, 12.063268095791058, 11.943735820790337, 11.824203545789619, 11.704671270788898, 11.585138995788178], [12.99877352614887, 12.879241251148152, 12.759708976147431, 12.64017670114671, 12.520644426145992, 12.401112151145272, 12.281579876144553, 12.162047601143833, 12.042515326143112, 11.922983051142394]]}],                        {\"legend\": {\"tracegroupgap\": 0}, \"margin\": {\"t\": 60}, \"scene\": {\"domain\": {\"x\": [0.0, 1.0], \"y\": [0.0, 1.0]}, \"xaxis\": {\"title\": {\"text\": \"x\"}}, \"yaxis\": {\"title\": {\"text\": \"y\"}}, \"zaxis\": {\"title\": {\"text\": \"z\"}}}, \"template\": {\"data\": {\"bar\": [{\"error_x\": {\"color\": \"#2a3f5f\"}, \"error_y\": {\"color\": \"#2a3f5f\"}, \"marker\": {\"line\": {\"color\": \"#E5ECF6\", \"width\": 0.5}}, \"type\": \"bar\"}], \"barpolar\": [{\"marker\": {\"line\": {\"color\": \"#E5ECF6\", \"width\": 0.5}}, \"type\": \"barpolar\"}], \"carpet\": [{\"aaxis\": {\"endlinecolor\": \"#2a3f5f\", \"gridcolor\": \"white\", \"linecolor\": \"white\", \"minorgridcolor\": \"white\", \"startlinecolor\": \"#2a3f5f\"}, \"baxis\": {\"endlinecolor\": \"#2a3f5f\", \"gridcolor\": \"white\", \"linecolor\": \"white\", \"minorgridcolor\": \"white\", \"startlinecolor\": \"#2a3f5f\"}, \"type\": \"carpet\"}], \"choropleth\": [{\"colorbar\": {\"outlinewidth\": 0, \"ticks\": \"\"}, \"type\": \"choropleth\"}], \"contour\": [{\"colorbar\": {\"outlinewidth\": 0, \"ticks\": \"\"}, \"colorscale\": [[0.0, \"#0d0887\"], [0.1111111111111111, \"#46039f\"], [0.2222222222222222, \"#7201a8\"], [0.3333333333333333, \"#9c179e\"], [0.4444444444444444, \"#bd3786\"], [0.5555555555555556, \"#d8576b\"], [0.6666666666666666, \"#ed7953\"], [0.7777777777777778, \"#fb9f3a\"], [0.8888888888888888, \"#fdca26\"], [1.0, \"#f0f921\"]], \"type\": \"contour\"}], \"contourcarpet\": [{\"colorbar\": {\"outlinewidth\": 0, \"ticks\": \"\"}, \"type\": \"contourcarpet\"}], \"heatmap\": [{\"colorbar\": {\"outlinewidth\": 0, \"ticks\": \"\"}, \"colorscale\": [[0.0, \"#0d0887\"], [0.1111111111111111, \"#46039f\"], [0.2222222222222222, \"#7201a8\"], [0.3333333333333333, \"#9c179e\"], [0.4444444444444444, \"#bd3786\"], [0.5555555555555556, \"#d8576b\"], [0.6666666666666666, \"#ed7953\"], [0.7777777777777778, \"#fb9f3a\"], [0.8888888888888888, \"#fdca26\"], [1.0, \"#f0f921\"]], \"type\": \"heatmap\"}], \"heatmapgl\": [{\"colorbar\": {\"outlinewidth\": 0, \"ticks\": \"\"}, \"colorscale\": [[0.0, \"#0d0887\"], [0.1111111111111111, \"#46039f\"], [0.2222222222222222, \"#7201a8\"], [0.3333333333333333, \"#9c179e\"], [0.4444444444444444, \"#bd3786\"], [0.5555555555555556, \"#d8576b\"], [0.6666666666666666, \"#ed7953\"], [0.7777777777777778, \"#fb9f3a\"], [0.8888888888888888, \"#fdca26\"], [1.0, \"#f0f921\"]], \"type\": \"heatmapgl\"}], \"histogram\": [{\"marker\": {\"colorbar\": {\"outlinewidth\": 0, \"ticks\": \"\"}}, \"type\": \"histogram\"}], \"histogram2d\": [{\"colorbar\": {\"outlinewidth\": 0, \"ticks\": \"\"}, \"colorscale\": [[0.0, \"#0d0887\"], [0.1111111111111111, \"#46039f\"], [0.2222222222222222, \"#7201a8\"], [0.3333333333333333, \"#9c179e\"], [0.4444444444444444, \"#bd3786\"], [0.5555555555555556, \"#d8576b\"], [0.6666666666666666, \"#ed7953\"], [0.7777777777777778, \"#fb9f3a\"], [0.8888888888888888, \"#fdca26\"], [1.0, \"#f0f921\"]], \"type\": \"histogram2d\"}], \"histogram2dcontour\": [{\"colorbar\": {\"outlinewidth\": 0, \"ticks\": \"\"}, \"colorscale\": [[0.0, \"#0d0887\"], [0.1111111111111111, \"#46039f\"], [0.2222222222222222, \"#7201a8\"], [0.3333333333333333, \"#9c179e\"], [0.4444444444444444, \"#bd3786\"], [0.5555555555555556, \"#d8576b\"], [0.6666666666666666, \"#ed7953\"], [0.7777777777777778, \"#fb9f3a\"], [0.8888888888888888, \"#fdca26\"], [1.0, \"#f0f921\"]], \"type\": \"histogram2dcontour\"}], \"mesh3d\": [{\"colorbar\": {\"outlinewidth\": 0, \"ticks\": \"\"}, \"type\": \"mesh3d\"}], \"parcoords\": [{\"line\": {\"colorbar\": {\"outlinewidth\": 0, \"ticks\": \"\"}}, \"type\": \"parcoords\"}], \"pie\": [{\"automargin\": true, \"type\": \"pie\"}], \"scatter\": [{\"marker\": {\"colorbar\": {\"outlinewidth\": 0, \"ticks\": \"\"}}, \"type\": \"scatter\"}], \"scatter3d\": [{\"line\": {\"colorbar\": {\"outlinewidth\": 0, \"ticks\": \"\"}}, \"marker\": {\"colorbar\": {\"outlinewidth\": 0, \"ticks\": \"\"}}, \"type\": \"scatter3d\"}], \"scattercarpet\": [{\"marker\": {\"colorbar\": {\"outlinewidth\": 0, \"ticks\": \"\"}}, \"type\": \"scattercarpet\"}], \"scattergeo\": [{\"marker\": {\"colorbar\": {\"outlinewidth\": 0, \"ticks\": \"\"}}, \"type\": \"scattergeo\"}], \"scattergl\": [{\"marker\": {\"colorbar\": {\"outlinewidth\": 0, \"ticks\": \"\"}}, \"type\": \"scattergl\"}], \"scattermapbox\": [{\"marker\": {\"colorbar\": {\"outlinewidth\": 0, \"ticks\": \"\"}}, \"type\": \"scattermapbox\"}], \"scatterpolar\": [{\"marker\": {\"colorbar\": {\"outlinewidth\": 0, \"ticks\": \"\"}}, \"type\": \"scatterpolar\"}], \"scatterpolargl\": [{\"marker\": {\"colorbar\": {\"outlinewidth\": 0, \"ticks\": \"\"}}, \"type\": \"scatterpolargl\"}], \"scatterternary\": [{\"marker\": {\"colorbar\": {\"outlinewidth\": 0, \"ticks\": \"\"}}, \"type\": \"scatterternary\"}], \"surface\": [{\"colorbar\": {\"outlinewidth\": 0, \"ticks\": \"\"}, \"colorscale\": [[0.0, \"#0d0887\"], [0.1111111111111111, \"#46039f\"], [0.2222222222222222, \"#7201a8\"], [0.3333333333333333, \"#9c179e\"], [0.4444444444444444, \"#bd3786\"], [0.5555555555555556, \"#d8576b\"], [0.6666666666666666, \"#ed7953\"], [0.7777777777777778, \"#fb9f3a\"], [0.8888888888888888, \"#fdca26\"], [1.0, \"#f0f921\"]], \"type\": \"surface\"}], \"table\": [{\"cells\": {\"fill\": {\"color\": \"#EBF0F8\"}, \"line\": {\"color\": \"white\"}}, \"header\": {\"fill\": {\"color\": \"#C8D4E3\"}, \"line\": {\"color\": \"white\"}}, \"type\": \"table\"}]}, \"layout\": {\"annotationdefaults\": {\"arrowcolor\": \"#2a3f5f\", \"arrowhead\": 0, \"arrowwidth\": 1}, \"autotypenumbers\": \"strict\", \"coloraxis\": {\"colorbar\": {\"outlinewidth\": 0, \"ticks\": \"\"}}, \"colorscale\": {\"diverging\": [[0, \"#8e0152\"], [0.1, \"#c51b7d\"], [0.2, \"#de77ae\"], [0.3, \"#f1b6da\"], [0.4, \"#fde0ef\"], [0.5, \"#f7f7f7\"], [0.6, \"#e6f5d0\"], [0.7, \"#b8e186\"], [0.8, \"#7fbc41\"], [0.9, \"#4d9221\"], [1, \"#276419\"]], \"sequential\": [[0.0, \"#0d0887\"], [0.1111111111111111, \"#46039f\"], [0.2222222222222222, \"#7201a8\"], [0.3333333333333333, \"#9c179e\"], [0.4444444444444444, \"#bd3786\"], [0.5555555555555556, \"#d8576b\"], [0.6666666666666666, \"#ed7953\"], [0.7777777777777778, \"#fb9f3a\"], [0.8888888888888888, \"#fdca26\"], [1.0, \"#f0f921\"]], \"sequentialminus\": [[0.0, \"#0d0887\"], [0.1111111111111111, \"#46039f\"], [0.2222222222222222, \"#7201a8\"], [0.3333333333333333, \"#9c179e\"], [0.4444444444444444, \"#bd3786\"], [0.5555555555555556, \"#d8576b\"], [0.6666666666666666, \"#ed7953\"], [0.7777777777777778, \"#fb9f3a\"], [0.8888888888888888, \"#fdca26\"], [1.0, \"#f0f921\"]]}, \"colorway\": [\"#636efa\", \"#EF553B\", \"#00cc96\", \"#ab63fa\", \"#FFA15A\", \"#19d3f3\", \"#FF6692\", \"#B6E880\", \"#FF97FF\", \"#FECB52\"], \"font\": {\"color\": \"#2a3f5f\"}, \"geo\": {\"bgcolor\": \"white\", \"lakecolor\": \"white\", \"landcolor\": \"#E5ECF6\", \"showlakes\": true, \"showland\": true, \"subunitcolor\": \"white\"}, \"hoverlabel\": {\"align\": \"left\"}, \"hovermode\": \"closest\", \"mapbox\": {\"style\": \"light\"}, \"paper_bgcolor\": \"white\", \"plot_bgcolor\": \"#E5ECF6\", \"polar\": {\"angularaxis\": {\"gridcolor\": \"white\", \"linecolor\": \"white\", \"ticks\": \"\"}, \"bgcolor\": \"#E5ECF6\", \"radialaxis\": {\"gridcolor\": \"white\", \"linecolor\": \"white\", \"ticks\": \"\"}}, \"scene\": {\"xaxis\": {\"backgroundcolor\": \"#E5ECF6\", \"gridcolor\": \"white\", \"gridwidth\": 2, \"linecolor\": \"white\", \"showbackground\": true, \"ticks\": \"\", \"zerolinecolor\": \"white\"}, \"yaxis\": {\"backgroundcolor\": \"#E5ECF6\", \"gridcolor\": \"white\", \"gridwidth\": 2, \"linecolor\": \"white\", \"showbackground\": true, \"ticks\": \"\", \"zerolinecolor\": \"white\"}, \"zaxis\": {\"backgroundcolor\": \"#E5ECF6\", \"gridcolor\": \"white\", \"gridwidth\": 2, \"linecolor\": \"white\", \"showbackground\": true, \"ticks\": \"\", \"zerolinecolor\": \"white\"}}, \"shapedefaults\": {\"line\": {\"color\": \"#2a3f5f\"}}, \"ternary\": {\"aaxis\": {\"gridcolor\": \"white\", \"linecolor\": \"white\", \"ticks\": \"\"}, \"baxis\": {\"gridcolor\": \"white\", \"linecolor\": \"white\", \"ticks\": \"\"}, \"bgcolor\": \"#E5ECF6\", \"caxis\": {\"gridcolor\": \"white\", \"linecolor\": \"white\", \"ticks\": \"\"}}, \"title\": {\"x\": 0.05}, \"xaxis\": {\"automargin\": true, \"gridcolor\": \"white\", \"linecolor\": \"white\", \"ticks\": \"\", \"title\": {\"standoff\": 15}, \"zerolinecolor\": \"white\", \"zerolinewidth\": 2}, \"yaxis\": {\"automargin\": true, \"gridcolor\": \"white\", \"linecolor\": \"white\", \"ticks\": \"\", \"title\": {\"standoff\": 15}, \"zerolinecolor\": \"white\", \"zerolinewidth\": 2}}}},                        {\"responsive\": true}                    ).then(function(){\n",
       "                            \n",
       "var gd = document.getElementById('f6c63ea7-a985-4b54-ab1d-c8a6180c275b');\n",
       "var x = new MutationObserver(function (mutations, observer) {{\n",
       "        var display = window.getComputedStyle(gd).display;\n",
       "        if (!display || display === 'none') {{\n",
       "            console.log([gd, 'removed!']);\n",
       "            Plotly.purge(gd);\n",
       "            observer.disconnect();\n",
       "        }}\n",
       "}});\n",
       "\n",
       "// Listen for the removal of the full notebook cells\n",
       "var notebookContainer = gd.closest('#notebook-container');\n",
       "if (notebookContainer) {{\n",
       "    x.observe(notebookContainer, {childList: true});\n",
       "}}\n",
       "\n",
       "// Listen for the clearing of the current output cell\n",
       "var outputEl = gd.closest('.output');\n",
       "if (outputEl) {{\n",
       "    x.observe(outputEl, {childList: true});\n",
       "}}\n",
       "\n",
       "                        })                };                });            </script>        </div>"
      ]
     },
     "metadata": {},
     "output_type": "display_data"
    }
   ],
   "source": [
    "import plotly.graph_objects as go\n",
    "\n",
    "fig = px.scatter_3d(df, x=x.ravel(), y=y.ravel(), z=z.ravel())\n",
    "\n",
    "fig.add_trace(go.Surface(x = x_input, y = y_input, z =z_final ))\n",
    "\n",
    "fig.show()"
   ]
  },
  {
   "cell_type": "code",
   "execution_count": 28,
   "id": "098b7f17",
   "metadata": {},
   "outputs": [
    {
     "data": {
      "text/plain": [
       "(100, 2)"
      ]
     },
     "execution_count": 28,
     "metadata": {},
     "output_type": "execute_result"
    }
   ],
   "source": [
    "X_multi = np.array([x,y]).reshape(100,2)\n",
    "X_multi.shape"
   ]
  },
  {
   "cell_type": "code",
   "execution_count": 29,
   "id": "3528c4d9",
   "metadata": {},
   "outputs": [],
   "source": [
    "poly = PolynomialFeatures(degree=30)\n",
    "X_multi_trans = poly.fit_transform(X_multi)"
   ]
  },
  {
   "cell_type": "code",
   "execution_count": 30,
   "id": "82606843",
   "metadata": {},
   "outputs": [
    {
     "name": "stdout",
     "output_type": "stream",
     "text": [
      "Input 2\n",
      "Ouput 496\n",
      "Powers\n",
      " [[ 0  0]\n",
      " [ 1  0]\n",
      " [ 0  1]\n",
      " [ 2  0]\n",
      " [ 1  1]\n",
      " [ 0  2]\n",
      " [ 3  0]\n",
      " [ 2  1]\n",
      " [ 1  2]\n",
      " [ 0  3]\n",
      " [ 4  0]\n",
      " [ 3  1]\n",
      " [ 2  2]\n",
      " [ 1  3]\n",
      " [ 0  4]\n",
      " [ 5  0]\n",
      " [ 4  1]\n",
      " [ 3  2]\n",
      " [ 2  3]\n",
      " [ 1  4]\n",
      " [ 0  5]\n",
      " [ 6  0]\n",
      " [ 5  1]\n",
      " [ 4  2]\n",
      " [ 3  3]\n",
      " [ 2  4]\n",
      " [ 1  5]\n",
      " [ 0  6]\n",
      " [ 7  0]\n",
      " [ 6  1]\n",
      " [ 5  2]\n",
      " [ 4  3]\n",
      " [ 3  4]\n",
      " [ 2  5]\n",
      " [ 1  6]\n",
      " [ 0  7]\n",
      " [ 8  0]\n",
      " [ 7  1]\n",
      " [ 6  2]\n",
      " [ 5  3]\n",
      " [ 4  4]\n",
      " [ 3  5]\n",
      " [ 2  6]\n",
      " [ 1  7]\n",
      " [ 0  8]\n",
      " [ 9  0]\n",
      " [ 8  1]\n",
      " [ 7  2]\n",
      " [ 6  3]\n",
      " [ 5  4]\n",
      " [ 4  5]\n",
      " [ 3  6]\n",
      " [ 2  7]\n",
      " [ 1  8]\n",
      " [ 0  9]\n",
      " [10  0]\n",
      " [ 9  1]\n",
      " [ 8  2]\n",
      " [ 7  3]\n",
      " [ 6  4]\n",
      " [ 5  5]\n",
      " [ 4  6]\n",
      " [ 3  7]\n",
      " [ 2  8]\n",
      " [ 1  9]\n",
      " [ 0 10]\n",
      " [11  0]\n",
      " [10  1]\n",
      " [ 9  2]\n",
      " [ 8  3]\n",
      " [ 7  4]\n",
      " [ 6  5]\n",
      " [ 5  6]\n",
      " [ 4  7]\n",
      " [ 3  8]\n",
      " [ 2  9]\n",
      " [ 1 10]\n",
      " [ 0 11]\n",
      " [12  0]\n",
      " [11  1]\n",
      " [10  2]\n",
      " [ 9  3]\n",
      " [ 8  4]\n",
      " [ 7  5]\n",
      " [ 6  6]\n",
      " [ 5  7]\n",
      " [ 4  8]\n",
      " [ 3  9]\n",
      " [ 2 10]\n",
      " [ 1 11]\n",
      " [ 0 12]\n",
      " [13  0]\n",
      " [12  1]\n",
      " [11  2]\n",
      " [10  3]\n",
      " [ 9  4]\n",
      " [ 8  5]\n",
      " [ 7  6]\n",
      " [ 6  7]\n",
      " [ 5  8]\n",
      " [ 4  9]\n",
      " [ 3 10]\n",
      " [ 2 11]\n",
      " [ 1 12]\n",
      " [ 0 13]\n",
      " [14  0]\n",
      " [13  1]\n",
      " [12  2]\n",
      " [11  3]\n",
      " [10  4]\n",
      " [ 9  5]\n",
      " [ 8  6]\n",
      " [ 7  7]\n",
      " [ 6  8]\n",
      " [ 5  9]\n",
      " [ 4 10]\n",
      " [ 3 11]\n",
      " [ 2 12]\n",
      " [ 1 13]\n",
      " [ 0 14]\n",
      " [15  0]\n",
      " [14  1]\n",
      " [13  2]\n",
      " [12  3]\n",
      " [11  4]\n",
      " [10  5]\n",
      " [ 9  6]\n",
      " [ 8  7]\n",
      " [ 7  8]\n",
      " [ 6  9]\n",
      " [ 5 10]\n",
      " [ 4 11]\n",
      " [ 3 12]\n",
      " [ 2 13]\n",
      " [ 1 14]\n",
      " [ 0 15]\n",
      " [16  0]\n",
      " [15  1]\n",
      " [14  2]\n",
      " [13  3]\n",
      " [12  4]\n",
      " [11  5]\n",
      " [10  6]\n",
      " [ 9  7]\n",
      " [ 8  8]\n",
      " [ 7  9]\n",
      " [ 6 10]\n",
      " [ 5 11]\n",
      " [ 4 12]\n",
      " [ 3 13]\n",
      " [ 2 14]\n",
      " [ 1 15]\n",
      " [ 0 16]\n",
      " [17  0]\n",
      " [16  1]\n",
      " [15  2]\n",
      " [14  3]\n",
      " [13  4]\n",
      " [12  5]\n",
      " [11  6]\n",
      " [10  7]\n",
      " [ 9  8]\n",
      " [ 8  9]\n",
      " [ 7 10]\n",
      " [ 6 11]\n",
      " [ 5 12]\n",
      " [ 4 13]\n",
      " [ 3 14]\n",
      " [ 2 15]\n",
      " [ 1 16]\n",
      " [ 0 17]\n",
      " [18  0]\n",
      " [17  1]\n",
      " [16  2]\n",
      " [15  3]\n",
      " [14  4]\n",
      " [13  5]\n",
      " [12  6]\n",
      " [11  7]\n",
      " [10  8]\n",
      " [ 9  9]\n",
      " [ 8 10]\n",
      " [ 7 11]\n",
      " [ 6 12]\n",
      " [ 5 13]\n",
      " [ 4 14]\n",
      " [ 3 15]\n",
      " [ 2 16]\n",
      " [ 1 17]\n",
      " [ 0 18]\n",
      " [19  0]\n",
      " [18  1]\n",
      " [17  2]\n",
      " [16  3]\n",
      " [15  4]\n",
      " [14  5]\n",
      " [13  6]\n",
      " [12  7]\n",
      " [11  8]\n",
      " [10  9]\n",
      " [ 9 10]\n",
      " [ 8 11]\n",
      " [ 7 12]\n",
      " [ 6 13]\n",
      " [ 5 14]\n",
      " [ 4 15]\n",
      " [ 3 16]\n",
      " [ 2 17]\n",
      " [ 1 18]\n",
      " [ 0 19]\n",
      " [20  0]\n",
      " [19  1]\n",
      " [18  2]\n",
      " [17  3]\n",
      " [16  4]\n",
      " [15  5]\n",
      " [14  6]\n",
      " [13  7]\n",
      " [12  8]\n",
      " [11  9]\n",
      " [10 10]\n",
      " [ 9 11]\n",
      " [ 8 12]\n",
      " [ 7 13]\n",
      " [ 6 14]\n",
      " [ 5 15]\n",
      " [ 4 16]\n",
      " [ 3 17]\n",
      " [ 2 18]\n",
      " [ 1 19]\n",
      " [ 0 20]\n",
      " [21  0]\n",
      " [20  1]\n",
      " [19  2]\n",
      " [18  3]\n",
      " [17  4]\n",
      " [16  5]\n",
      " [15  6]\n",
      " [14  7]\n",
      " [13  8]\n",
      " [12  9]\n",
      " [11 10]\n",
      " [10 11]\n",
      " [ 9 12]\n",
      " [ 8 13]\n",
      " [ 7 14]\n",
      " [ 6 15]\n",
      " [ 5 16]\n",
      " [ 4 17]\n",
      " [ 3 18]\n",
      " [ 2 19]\n",
      " [ 1 20]\n",
      " [ 0 21]\n",
      " [22  0]\n",
      " [21  1]\n",
      " [20  2]\n",
      " [19  3]\n",
      " [18  4]\n",
      " [17  5]\n",
      " [16  6]\n",
      " [15  7]\n",
      " [14  8]\n",
      " [13  9]\n",
      " [12 10]\n",
      " [11 11]\n",
      " [10 12]\n",
      " [ 9 13]\n",
      " [ 8 14]\n",
      " [ 7 15]\n",
      " [ 6 16]\n",
      " [ 5 17]\n",
      " [ 4 18]\n",
      " [ 3 19]\n",
      " [ 2 20]\n",
      " [ 1 21]\n",
      " [ 0 22]\n",
      " [23  0]\n",
      " [22  1]\n",
      " [21  2]\n",
      " [20  3]\n",
      " [19  4]\n",
      " [18  5]\n",
      " [17  6]\n",
      " [16  7]\n",
      " [15  8]\n",
      " [14  9]\n",
      " [13 10]\n",
      " [12 11]\n",
      " [11 12]\n",
      " [10 13]\n",
      " [ 9 14]\n",
      " [ 8 15]\n",
      " [ 7 16]\n",
      " [ 6 17]\n",
      " [ 5 18]\n",
      " [ 4 19]\n",
      " [ 3 20]\n",
      " [ 2 21]\n",
      " [ 1 22]\n",
      " [ 0 23]\n",
      " [24  0]\n",
      " [23  1]\n",
      " [22  2]\n",
      " [21  3]\n",
      " [20  4]\n",
      " [19  5]\n",
      " [18  6]\n",
      " [17  7]\n",
      " [16  8]\n",
      " [15  9]\n",
      " [14 10]\n",
      " [13 11]\n",
      " [12 12]\n",
      " [11 13]\n",
      " [10 14]\n",
      " [ 9 15]\n",
      " [ 8 16]\n",
      " [ 7 17]\n",
      " [ 6 18]\n",
      " [ 5 19]\n",
      " [ 4 20]\n",
      " [ 3 21]\n",
      " [ 2 22]\n",
      " [ 1 23]\n",
      " [ 0 24]\n",
      " [25  0]\n",
      " [24  1]\n",
      " [23  2]\n",
      " [22  3]\n",
      " [21  4]\n",
      " [20  5]\n",
      " [19  6]\n",
      " [18  7]\n",
      " [17  8]\n",
      " [16  9]\n",
      " [15 10]\n",
      " [14 11]\n",
      " [13 12]\n",
      " [12 13]\n",
      " [11 14]\n",
      " [10 15]\n",
      " [ 9 16]\n",
      " [ 8 17]\n",
      " [ 7 18]\n",
      " [ 6 19]\n",
      " [ 5 20]\n",
      " [ 4 21]\n",
      " [ 3 22]\n",
      " [ 2 23]\n",
      " [ 1 24]\n",
      " [ 0 25]\n",
      " [26  0]\n",
      " [25  1]\n",
      " [24  2]\n",
      " [23  3]\n",
      " [22  4]\n",
      " [21  5]\n",
      " [20  6]\n",
      " [19  7]\n",
      " [18  8]\n",
      " [17  9]\n",
      " [16 10]\n",
      " [15 11]\n",
      " [14 12]\n",
      " [13 13]\n",
      " [12 14]\n",
      " [11 15]\n",
      " [10 16]\n",
      " [ 9 17]\n",
      " [ 8 18]\n",
      " [ 7 19]\n",
      " [ 6 20]\n",
      " [ 5 21]\n",
      " [ 4 22]\n",
      " [ 3 23]\n",
      " [ 2 24]\n",
      " [ 1 25]\n",
      " [ 0 26]\n",
      " [27  0]\n",
      " [26  1]\n",
      " [25  2]\n",
      " [24  3]\n",
      " [23  4]\n",
      " [22  5]\n",
      " [21  6]\n",
      " [20  7]\n",
      " [19  8]\n",
      " [18  9]\n",
      " [17 10]\n",
      " [16 11]\n",
      " [15 12]\n",
      " [14 13]\n",
      " [13 14]\n",
      " [12 15]\n",
      " [11 16]\n",
      " [10 17]\n",
      " [ 9 18]\n",
      " [ 8 19]\n",
      " [ 7 20]\n",
      " [ 6 21]\n",
      " [ 5 22]\n",
      " [ 4 23]\n",
      " [ 3 24]\n",
      " [ 2 25]\n",
      " [ 1 26]\n",
      " [ 0 27]\n",
      " [28  0]\n",
      " [27  1]\n",
      " [26  2]\n",
      " [25  3]\n",
      " [24  4]\n",
      " [23  5]\n",
      " [22  6]\n",
      " [21  7]\n",
      " [20  8]\n",
      " [19  9]\n",
      " [18 10]\n",
      " [17 11]\n",
      " [16 12]\n",
      " [15 13]\n",
      " [14 14]\n",
      " [13 15]\n",
      " [12 16]\n",
      " [11 17]\n",
      " [10 18]\n",
      " [ 9 19]\n",
      " [ 8 20]\n",
      " [ 7 21]\n",
      " [ 6 22]\n",
      " [ 5 23]\n",
      " [ 4 24]\n",
      " [ 3 25]\n",
      " [ 2 26]\n",
      " [ 1 27]\n",
      " [ 0 28]\n",
      " [29  0]\n",
      " [28  1]\n",
      " [27  2]\n",
      " [26  3]\n",
      " [25  4]\n",
      " [24  5]\n",
      " [23  6]\n",
      " [22  7]\n",
      " [21  8]\n",
      " [20  9]\n",
      " [19 10]\n",
      " [18 11]\n",
      " [17 12]\n",
      " [16 13]\n",
      " [15 14]\n",
      " [14 15]\n",
      " [13 16]\n",
      " [12 17]\n",
      " [11 18]\n",
      " [10 19]\n",
      " [ 9 20]\n",
      " [ 8 21]\n",
      " [ 7 22]\n",
      " [ 6 23]\n",
      " [ 5 24]\n",
      " [ 4 25]\n",
      " [ 3 26]\n",
      " [ 2 27]\n",
      " [ 1 28]\n",
      " [ 0 29]\n",
      " [30  0]\n",
      " [29  1]\n",
      " [28  2]\n",
      " [27  3]\n",
      " [26  4]\n",
      " [25  5]\n",
      " [24  6]\n",
      " [23  7]\n",
      " [22  8]\n",
      " [21  9]\n",
      " [20 10]\n",
      " [19 11]\n",
      " [18 12]\n",
      " [17 13]\n",
      " [16 14]\n",
      " [15 15]\n",
      " [14 16]\n",
      " [13 17]\n",
      " [12 18]\n",
      " [11 19]\n",
      " [10 20]\n",
      " [ 9 21]\n",
      " [ 8 22]\n",
      " [ 7 23]\n",
      " [ 6 24]\n",
      " [ 5 25]\n",
      " [ 4 26]\n",
      " [ 3 27]\n",
      " [ 2 28]\n",
      " [ 1 29]\n",
      " [ 0 30]]\n"
     ]
    }
   ],
   "source": [
    "print(\"Input\",poly.n_input_features_)\n",
    "print(\"Ouput\",poly.n_output_features_)\n",
    "print(\"Powers\\n\",poly.powers_)"
   ]
  },
  {
   "cell_type": "code",
   "execution_count": 31,
   "id": "ad9be63c",
   "metadata": {},
   "outputs": [
    {
     "data": {
      "text/plain": [
       "(100, 496)"
      ]
     },
     "execution_count": 31,
     "metadata": {},
     "output_type": "execute_result"
    }
   ],
   "source": [
    "X_multi_trans.shape"
   ]
  },
  {
   "cell_type": "code",
   "execution_count": 32,
   "id": "4b5f6412",
   "metadata": {},
   "outputs": [
    {
     "data": {
      "text/plain": [
       "LinearRegression()"
      ]
     },
     "execution_count": 32,
     "metadata": {},
     "output_type": "execute_result"
    }
   ],
   "source": [
    "lr = LinearRegression()\n",
    "lr.fit(X_multi_trans,z)"
   ]
  },
  {
   "cell_type": "code",
   "execution_count": 33,
   "id": "40e5ec78",
   "metadata": {},
   "outputs": [],
   "source": [
    "X_test_multi = poly.transform(final)"
   ]
  },
  {
   "cell_type": "code",
   "execution_count": 34,
   "id": "39a0fc57",
   "metadata": {},
   "outputs": [],
   "source": [
    "z_final = lr.predict(X_multi_trans).reshape(10,10)"
   ]
  },
  {
   "cell_type": "code",
   "execution_count": 35,
   "id": "17f075d2",
   "metadata": {},
   "outputs": [
    {
     "data": {
      "application/vnd.plotly.v1+json": {
       "config": {
        "plotlyServerURL": "https://plot.ly"
       },
       "data": [
        {
         "hovertemplate": "x=%{x}<br>y=%{y}<br>z=%{z}<extra></extra>",
         "legendgroup": "",
         "marker": {
          "color": "#636efa",
          "symbol": "circle"
         },
         "mode": "markers",
         "name": "",
         "scene": "scene",
         "showlegend": false,
         "type": "scatter3d",
         "x": [
          1.893431122037371,
          1.5681970484613723,
          -1.254867188426045,
          -2.6225995577259873,
          -2.704871829041259,
          -2.1349512489043074,
          3.2375065201979174,
          2.1596951539521134,
          1.2957900831126503,
          -0.6790253147153136,
          -1.1747146379104187,
          -2.7033174545857563,
          2.2482244854063875,
          0.5549535778973844,
          2.1099192952671517,
          3.9571434045089147,
          -1.9258568057503798,
          2.4740047766337225,
          -2.739379878425118,
          0.2782121148821268,
          0.13592441679229061,
          3.898836947426809,
          -1.9513858610100683,
          0.5658598936399666,
          -0.15604076851214943,
          -1.1836421358324825,
          1.6112436669398855,
          0.30069095892593056,
          2.7225365765078307,
          3.190125116163946,
          0.29169610143848956,
          -0.8099435271995752,
          3.287006725955796,
          0.6939663775656513,
          3.2038861948064703,
          3.4223661974000112,
          4.007980358963083,
          -1.7492425649385401,
          -0.9590712406331208,
          2.099167474744543,
          1.5250047672517715,
          0.3409294489955075,
          3.081627334555203,
          3.3951454768022513,
          -2.3487692270619362,
          0.006022011018664841,
          1.7016259999335803,
          -1.771980471084575,
          0.9051824310171868,
          -1.0753315401045658,
          2.1282077092072598,
          -0.726281933287038,
          2.6010029250043,
          2.763598810798298,
          2.42324322533457,
          -1.9488681637604006,
          1.8895497233872467,
          -1.7225125742285536,
          -1.1537470087350121,
          -1.9048188934022796,
          0.9412517549701729,
          -1.616323935881689,
          1.477905826522445,
          1.0713408945039151,
          -0.2825533039636108,
          2.773044973544354,
          2.484245664076118,
          3.7481747296319172,
          -2.498610637905349,
          1.1148385270542613,
          -2.7580031765194386,
          -1.740797654177503,
          -2.3859210199403322,
          -0.4941800622779766,
          -1.7130987846870762,
          1.0559362014119449,
          -0.44264531589540246,
          -0.9194516371323274,
          -1.7502013548386381,
          3.8284500965882886,
          1.487705270718621,
          -1.862076907247697,
          2.8994130954813935,
          1.9295012623567045,
          -1.9885823733745238,
          -2.3556529529599737,
          3.206375255411408,
          0.21877877276454427,
          2.8533331541275,
          3.8221456307463955,
          -0.644666593566682,
          0.2955168109745756,
          -2.701263454376418,
          -1.5923121340765387,
          1.2710406931360438,
          4.087728351322402,
          -0.5198275523960945,
          -1.4038176138436667,
          -0.49391775651544245,
          0.8392545107788361
         ],
         "y": [
          2.858271299567426,
          -0.2285845790451475,
          -0.41437891219429446,
          0.17533278199937907,
          0.31555172888999694,
          -2.6276887225785686,
          0.030498012588017875,
          -0.9673152290137152,
          -1.1431231974154514,
          -1.3681380510076795,
          1.361275444443847,
          -1.9589554620547607,
          1.0629110309673262,
          1.1718078733300885,
          0.6088915138480062,
          3.5366880466691644,
          -2.1202837426545935,
          2.6233380761732397,
          1.0202317586656378,
          3.567378015173258,
          3.3938351022116313,
          -0.18583000139358363,
          0.011884590145204488,
          -2.614951149595027,
          -2.1637921464884613,
          -1.979165841533602,
          -2.0361527682213074,
          0.394028728248518,
          1.246915707470417,
          2.1456448420680525,
          -2.089983378342406,
          0.299155047998624,
          2.8782264779331825,
          0.4163122184552268,
          -1.4282662470344611,
          -1.3130780529886452,
          0.4574754149711553,
          2.882218299214281,
          3.8806480175931197,
          1.8402042508522785,
          3.2026839660563367,
          3.270923262628658,
          1.5858581889343153,
          1.2174712281082058,
          3.0042795390346555,
          1.540934893094474,
          1.0306629192794103,
          -2.4846120640261584,
          -0.6399171098710017,
          -0.7774140269127336,
          3.498354429320293,
          -2.578556945642705,
          -1.2503195685762243,
          2.292774337769285,
          0.5034993085647379,
          -0.4099694611184983,
          -0.7418986954834672,
          -1.0355055165084137,
          0.8598566215079742,
          3.376725371623551,
          -2.0088467247081785,
          1.7034005945179977,
          -2.5164632616632066,
          -0.46613553936681695,
          -2.5642283069349356,
          0.49285292758577537,
          -2.003805570828026,
          -0.4958263818268578,
          3.5829231721176384,
          1.1225680701635214,
          -2.4679377262588202,
          2.5146063128465084,
          -0.1458918758086778,
          -0.0762729644248692,
          2.355223299622045,
          -1.1235696465309863,
          1.436112936706336,
          -0.8697966903899312,
          0.015634117680358273,
          3.1274000146021574,
          -0.004795861457805195,
          3.5112934781012015,
          -2.4203585978519127,
          2.046013935971998,
          -2.0585277462453853,
          0.5722823567745894,
          2.083473445162613,
          -2.753539523310403,
          3.763573832308748,
          2.376779394151991,
          -2.1217464479893424,
          0.22240076493986916,
          2.2695962895350243,
          -1.5679778530037356,
          3.2336967603973177,
          3.650946290497072,
          0.44706227768841744,
          -2.7594563037765494,
          -1.8007093611353122,
          -1.8804140410536256
         ],
         "z": [
          14.340322902471952,
          6.102132423219861,
          5.195721864242078,
          7.104072665176831,
          8.357316029726508,
          12.172296582001396,
          13.782939429761893,
          8.155354501681346,
          4.963196925782821,
          2.2513392745212526,
          5.710982888729786,
          14.430796791698985,
          11.050743544294033,
          4.580209651843878,
          6.764167635071685,
          32.74443680643798,
          8.520712031448452,
          18.587114607435062,
          7.722444046816655,
          16.37064240699993,
          14.772674209117667,
          15.293844043930562,
          6.177037724633898,
          8.128312538852065,
          6.204195885344919,
          7.108988725845381,
          8.223000822354855,
          1.2569229792133256,
          10.55775086245758,
          19.706841538806465,
          6.706058333561501,
          1.7687686749152096,
          23.593173218336734,
          3.2655787664912994,
          15.132493276385624,
          12.642417747896609,
          19.633000277192053,
          13.877055831056232,
          18.604320864886635,
          10.72471991532183,
          16.43781551204058,
          14.023823641756993,
          14.430018483302408,
          16.754700161346825,
          17.147511843215636,
          6.138873556972304,
          6.600723107643137,
          9.351306527708013,
          3.724045634147857,
          3.7301461198099943,
          20.265842310649198,
          9.325157715579245,
          9.724120723541281,
          16.846381747223905,
          8.139607002404441,
          5.374448065892494,
          6.583410109274485,
          5.876505220450214,
          5.015094691483553,
          16.163502692583837,
          8.119211039590734,
          5.261201616679922,
          9.987514525981675,
          3.425039803228443,
          9.856057344237657,
          9.853747313698886,
          12.09557527507214,
          17.264203187962867,
          20.349683945947437,
          6.67685175881257,
          15.380263950413285,
          12.715341416903147,
          7.914364501918331,
          0.9263210441725416,
          11.895343231583947,
          5.354867288140509,
          3.8980157146585936,
          3.7701415422198163,
          4.617334623189776,
          27.82607348818732,
          5.115044860291125,
          17.556286956773786,
          14.991262719572232,
          10.404703023625018,
          8.857150739031573,
          8.363862462797318,
          18.32040748086945,
          10.94995034281345,
          27.810350648933415,
          24.621971740741724,
          8.026715792965641,
          1.260220346281471,
          13.27119859809963,
          7.038365537488042,
          15.53629223267101,
          34.39663158906246,
          0.6968740454426487,
          10.553433355880129,
          7.031916454402001,
          5.964874884952427
         ]
        },
        {
         "type": "surface",
         "x": [
          -2.7580031765194386,
          -1.9973663400925674,
          -1.2367295036656962,
          -0.47609266723882504,
          0.28454416918804615,
          1.0451810056149173,
          1.8058178420417885,
          2.56645467846866,
          3.327091514895531,
          4.087728351322402
         ],
         "y": [
          -2.7594563037765494,
          -2.021666934735475,
          -1.2838775656944006,
          -0.5460881966533262,
          0.1917011723877482,
          0.9294905414288226,
          1.667279910469897,
          2.4050692795109714,
          3.1428586485520458,
          3.8806480175931197
         ],
         "z": [
          [
           14.347616666363278,
           6.012406624114332,
           5.2823260940669154,
           7.042056433117208,
           13.104757315450586,
           12.263181514298735,
           13.790719796164153,
           8.228488317882833,
           5.052812061464605,
           2.2290627576468562
          ],
          [
           5.840976110851583,
           14.399745735058927,
           11.057533764146976,
           4.651308370263449,
           6.759494177257833,
           11.235527773402731,
           8.54362427369338,
           18.611300817882835,
           7.474582067882833,
           16.346528550074396
          ],
          [
           14.455619360724212,
           15.315402380382833,
           6.262860774720279,
           8.129879056693566,
           11.221446782700976,
           7.101133655948756,
           8.187377325451193,
           0.9915451921580409,
           10.543308532756013,
           19.68943975175094
          ],
          [
           6.683803561535965,
           1.4947714943511752,
           23.352796069538414,
           3.2753633178828334,
           14.804947420215425,
           12.424496165668783,
           19.772477762034356,
           13.865065958201653,
           11.234669136189547,
           10.794650427257833
          ],
          [
           16.420210366678617,
           14.160134664928732,
           14.348717375850496,
           16.709691397106468,
           17.220675817882835,
           11.235591855637349,
           6.88931541815978,
           9.435519567882833,
           3.887908595185838,
           11.235448455838705
          ],
          [
           20.325627676403343,
           11.235608262170384,
           9.526081270730314,
           11.233403018286843,
           7.224672663986937,
           5.366200527724827,
           11.583472993149122,
           5.880633703625021,
           5.024895898258505,
           16.16706406251174
          ],
          [
           8.119952551281271,
           4.94313606173378,
           9.99149257802051,
           3.4250822828791154,
           9.848100414400646,
           9.843028918217128,
           11.941169968998251,
           17.330376227812394,
           20.591494701063453,
           6.578097692882833
          ],
          [
           15.390597692882833,
           12.755412252447995,
           7.886380068218527,
           1.2053588304726457,
           11.23558996572212,
           5.347628942882833,
           3.87855057879929,
           11.235601404281883,
           11.223560619475112,
           27.812119833385765
          ],
          [
           5.101414270891068,
           18.073418180650293,
           15.088699742412386,
           10.387626736354973,
           8.853671423351583,
           8.345641247188864,
           11.235610830127916,
           10.966400180669693,
           27.434092983331297,
           24.635146728908836
          ],
          [
           8.019923559582052,
           1.4923481263278102,
           13.251844629611837,
           7.033928266918478,
           15.517550817882833,
           34.387571350310424,
           0.6909820318279838,
           10.658175817882833,
           7.106902710354147,
           5.950517849664861
          ]
         ]
        }
       ],
       "layout": {
        "legend": {
         "tracegroupgap": 0
        },
        "margin": {
         "t": 60
        },
        "scene": {
         "domain": {
          "x": [
           0,
           1
          ],
          "y": [
           0,
           1
          ]
         },
         "xaxis": {
          "title": {
           "text": "x"
          }
         },
         "yaxis": {
          "title": {
           "text": "y"
          }
         },
         "zaxis": {
          "range": [
           0,
           35
          ],
          "title": {
           "text": "z"
          }
         }
        },
        "template": {
         "data": {
          "bar": [
           {
            "error_x": {
             "color": "#2a3f5f"
            },
            "error_y": {
             "color": "#2a3f5f"
            },
            "marker": {
             "line": {
              "color": "#E5ECF6",
              "width": 0.5
             }
            },
            "type": "bar"
           }
          ],
          "barpolar": [
           {
            "marker": {
             "line": {
              "color": "#E5ECF6",
              "width": 0.5
             }
            },
            "type": "barpolar"
           }
          ],
          "carpet": [
           {
            "aaxis": {
             "endlinecolor": "#2a3f5f",
             "gridcolor": "white",
             "linecolor": "white",
             "minorgridcolor": "white",
             "startlinecolor": "#2a3f5f"
            },
            "baxis": {
             "endlinecolor": "#2a3f5f",
             "gridcolor": "white",
             "linecolor": "white",
             "minorgridcolor": "white",
             "startlinecolor": "#2a3f5f"
            },
            "type": "carpet"
           }
          ],
          "choropleth": [
           {
            "colorbar": {
             "outlinewidth": 0,
             "ticks": ""
            },
            "type": "choropleth"
           }
          ],
          "contour": [
           {
            "colorbar": {
             "outlinewidth": 0,
             "ticks": ""
            },
            "colorscale": [
             [
              0,
              "#0d0887"
             ],
             [
              0.1111111111111111,
              "#46039f"
             ],
             [
              0.2222222222222222,
              "#7201a8"
             ],
             [
              0.3333333333333333,
              "#9c179e"
             ],
             [
              0.4444444444444444,
              "#bd3786"
             ],
             [
              0.5555555555555556,
              "#d8576b"
             ],
             [
              0.6666666666666666,
              "#ed7953"
             ],
             [
              0.7777777777777778,
              "#fb9f3a"
             ],
             [
              0.8888888888888888,
              "#fdca26"
             ],
             [
              1,
              "#f0f921"
             ]
            ],
            "type": "contour"
           }
          ],
          "contourcarpet": [
           {
            "colorbar": {
             "outlinewidth": 0,
             "ticks": ""
            },
            "type": "contourcarpet"
           }
          ],
          "heatmap": [
           {
            "colorbar": {
             "outlinewidth": 0,
             "ticks": ""
            },
            "colorscale": [
             [
              0,
              "#0d0887"
             ],
             [
              0.1111111111111111,
              "#46039f"
             ],
             [
              0.2222222222222222,
              "#7201a8"
             ],
             [
              0.3333333333333333,
              "#9c179e"
             ],
             [
              0.4444444444444444,
              "#bd3786"
             ],
             [
              0.5555555555555556,
              "#d8576b"
             ],
             [
              0.6666666666666666,
              "#ed7953"
             ],
             [
              0.7777777777777778,
              "#fb9f3a"
             ],
             [
              0.8888888888888888,
              "#fdca26"
             ],
             [
              1,
              "#f0f921"
             ]
            ],
            "type": "heatmap"
           }
          ],
          "heatmapgl": [
           {
            "colorbar": {
             "outlinewidth": 0,
             "ticks": ""
            },
            "colorscale": [
             [
              0,
              "#0d0887"
             ],
             [
              0.1111111111111111,
              "#46039f"
             ],
             [
              0.2222222222222222,
              "#7201a8"
             ],
             [
              0.3333333333333333,
              "#9c179e"
             ],
             [
              0.4444444444444444,
              "#bd3786"
             ],
             [
              0.5555555555555556,
              "#d8576b"
             ],
             [
              0.6666666666666666,
              "#ed7953"
             ],
             [
              0.7777777777777778,
              "#fb9f3a"
             ],
             [
              0.8888888888888888,
              "#fdca26"
             ],
             [
              1,
              "#f0f921"
             ]
            ],
            "type": "heatmapgl"
           }
          ],
          "histogram": [
           {
            "marker": {
             "colorbar": {
              "outlinewidth": 0,
              "ticks": ""
             }
            },
            "type": "histogram"
           }
          ],
          "histogram2d": [
           {
            "colorbar": {
             "outlinewidth": 0,
             "ticks": ""
            },
            "colorscale": [
             [
              0,
              "#0d0887"
             ],
             [
              0.1111111111111111,
              "#46039f"
             ],
             [
              0.2222222222222222,
              "#7201a8"
             ],
             [
              0.3333333333333333,
              "#9c179e"
             ],
             [
              0.4444444444444444,
              "#bd3786"
             ],
             [
              0.5555555555555556,
              "#d8576b"
             ],
             [
              0.6666666666666666,
              "#ed7953"
             ],
             [
              0.7777777777777778,
              "#fb9f3a"
             ],
             [
              0.8888888888888888,
              "#fdca26"
             ],
             [
              1,
              "#f0f921"
             ]
            ],
            "type": "histogram2d"
           }
          ],
          "histogram2dcontour": [
           {
            "colorbar": {
             "outlinewidth": 0,
             "ticks": ""
            },
            "colorscale": [
             [
              0,
              "#0d0887"
             ],
             [
              0.1111111111111111,
              "#46039f"
             ],
             [
              0.2222222222222222,
              "#7201a8"
             ],
             [
              0.3333333333333333,
              "#9c179e"
             ],
             [
              0.4444444444444444,
              "#bd3786"
             ],
             [
              0.5555555555555556,
              "#d8576b"
             ],
             [
              0.6666666666666666,
              "#ed7953"
             ],
             [
              0.7777777777777778,
              "#fb9f3a"
             ],
             [
              0.8888888888888888,
              "#fdca26"
             ],
             [
              1,
              "#f0f921"
             ]
            ],
            "type": "histogram2dcontour"
           }
          ],
          "mesh3d": [
           {
            "colorbar": {
             "outlinewidth": 0,
             "ticks": ""
            },
            "type": "mesh3d"
           }
          ],
          "parcoords": [
           {
            "line": {
             "colorbar": {
              "outlinewidth": 0,
              "ticks": ""
             }
            },
            "type": "parcoords"
           }
          ],
          "pie": [
           {
            "automargin": true,
            "type": "pie"
           }
          ],
          "scatter": [
           {
            "marker": {
             "colorbar": {
              "outlinewidth": 0,
              "ticks": ""
             }
            },
            "type": "scatter"
           }
          ],
          "scatter3d": [
           {
            "line": {
             "colorbar": {
              "outlinewidth": 0,
              "ticks": ""
             }
            },
            "marker": {
             "colorbar": {
              "outlinewidth": 0,
              "ticks": ""
             }
            },
            "type": "scatter3d"
           }
          ],
          "scattercarpet": [
           {
            "marker": {
             "colorbar": {
              "outlinewidth": 0,
              "ticks": ""
             }
            },
            "type": "scattercarpet"
           }
          ],
          "scattergeo": [
           {
            "marker": {
             "colorbar": {
              "outlinewidth": 0,
              "ticks": ""
             }
            },
            "type": "scattergeo"
           }
          ],
          "scattergl": [
           {
            "marker": {
             "colorbar": {
              "outlinewidth": 0,
              "ticks": ""
             }
            },
            "type": "scattergl"
           }
          ],
          "scattermapbox": [
           {
            "marker": {
             "colorbar": {
              "outlinewidth": 0,
              "ticks": ""
             }
            },
            "type": "scattermapbox"
           }
          ],
          "scatterpolar": [
           {
            "marker": {
             "colorbar": {
              "outlinewidth": 0,
              "ticks": ""
             }
            },
            "type": "scatterpolar"
           }
          ],
          "scatterpolargl": [
           {
            "marker": {
             "colorbar": {
              "outlinewidth": 0,
              "ticks": ""
             }
            },
            "type": "scatterpolargl"
           }
          ],
          "scatterternary": [
           {
            "marker": {
             "colorbar": {
              "outlinewidth": 0,
              "ticks": ""
             }
            },
            "type": "scatterternary"
           }
          ],
          "surface": [
           {
            "colorbar": {
             "outlinewidth": 0,
             "ticks": ""
            },
            "colorscale": [
             [
              0,
              "#0d0887"
             ],
             [
              0.1111111111111111,
              "#46039f"
             ],
             [
              0.2222222222222222,
              "#7201a8"
             ],
             [
              0.3333333333333333,
              "#9c179e"
             ],
             [
              0.4444444444444444,
              "#bd3786"
             ],
             [
              0.5555555555555556,
              "#d8576b"
             ],
             [
              0.6666666666666666,
              "#ed7953"
             ],
             [
              0.7777777777777778,
              "#fb9f3a"
             ],
             [
              0.8888888888888888,
              "#fdca26"
             ],
             [
              1,
              "#f0f921"
             ]
            ],
            "type": "surface"
           }
          ],
          "table": [
           {
            "cells": {
             "fill": {
              "color": "#EBF0F8"
             },
             "line": {
              "color": "white"
             }
            },
            "header": {
             "fill": {
              "color": "#C8D4E3"
             },
             "line": {
              "color": "white"
             }
            },
            "type": "table"
           }
          ]
         },
         "layout": {
          "annotationdefaults": {
           "arrowcolor": "#2a3f5f",
           "arrowhead": 0,
           "arrowwidth": 1
          },
          "autotypenumbers": "strict",
          "coloraxis": {
           "colorbar": {
            "outlinewidth": 0,
            "ticks": ""
           }
          },
          "colorscale": {
           "diverging": [
            [
             0,
             "#8e0152"
            ],
            [
             0.1,
             "#c51b7d"
            ],
            [
             0.2,
             "#de77ae"
            ],
            [
             0.3,
             "#f1b6da"
            ],
            [
             0.4,
             "#fde0ef"
            ],
            [
             0.5,
             "#f7f7f7"
            ],
            [
             0.6,
             "#e6f5d0"
            ],
            [
             0.7,
             "#b8e186"
            ],
            [
             0.8,
             "#7fbc41"
            ],
            [
             0.9,
             "#4d9221"
            ],
            [
             1,
             "#276419"
            ]
           ],
           "sequential": [
            [
             0,
             "#0d0887"
            ],
            [
             0.1111111111111111,
             "#46039f"
            ],
            [
             0.2222222222222222,
             "#7201a8"
            ],
            [
             0.3333333333333333,
             "#9c179e"
            ],
            [
             0.4444444444444444,
             "#bd3786"
            ],
            [
             0.5555555555555556,
             "#d8576b"
            ],
            [
             0.6666666666666666,
             "#ed7953"
            ],
            [
             0.7777777777777778,
             "#fb9f3a"
            ],
            [
             0.8888888888888888,
             "#fdca26"
            ],
            [
             1,
             "#f0f921"
            ]
           ],
           "sequentialminus": [
            [
             0,
             "#0d0887"
            ],
            [
             0.1111111111111111,
             "#46039f"
            ],
            [
             0.2222222222222222,
             "#7201a8"
            ],
            [
             0.3333333333333333,
             "#9c179e"
            ],
            [
             0.4444444444444444,
             "#bd3786"
            ],
            [
             0.5555555555555556,
             "#d8576b"
            ],
            [
             0.6666666666666666,
             "#ed7953"
            ],
            [
             0.7777777777777778,
             "#fb9f3a"
            ],
            [
             0.8888888888888888,
             "#fdca26"
            ],
            [
             1,
             "#f0f921"
            ]
           ]
          },
          "colorway": [
           "#636efa",
           "#EF553B",
           "#00cc96",
           "#ab63fa",
           "#FFA15A",
           "#19d3f3",
           "#FF6692",
           "#B6E880",
           "#FF97FF",
           "#FECB52"
          ],
          "font": {
           "color": "#2a3f5f"
          },
          "geo": {
           "bgcolor": "white",
           "lakecolor": "white",
           "landcolor": "#E5ECF6",
           "showlakes": true,
           "showland": true,
           "subunitcolor": "white"
          },
          "hoverlabel": {
           "align": "left"
          },
          "hovermode": "closest",
          "mapbox": {
           "style": "light"
          },
          "paper_bgcolor": "white",
          "plot_bgcolor": "#E5ECF6",
          "polar": {
           "angularaxis": {
            "gridcolor": "white",
            "linecolor": "white",
            "ticks": ""
           },
           "bgcolor": "#E5ECF6",
           "radialaxis": {
            "gridcolor": "white",
            "linecolor": "white",
            "ticks": ""
           }
          },
          "scene": {
           "xaxis": {
            "backgroundcolor": "#E5ECF6",
            "gridcolor": "white",
            "gridwidth": 2,
            "linecolor": "white",
            "showbackground": true,
            "ticks": "",
            "zerolinecolor": "white"
           },
           "yaxis": {
            "backgroundcolor": "#E5ECF6",
            "gridcolor": "white",
            "gridwidth": 2,
            "linecolor": "white",
            "showbackground": true,
            "ticks": "",
            "zerolinecolor": "white"
           },
           "zaxis": {
            "backgroundcolor": "#E5ECF6",
            "gridcolor": "white",
            "gridwidth": 2,
            "linecolor": "white",
            "showbackground": true,
            "ticks": "",
            "zerolinecolor": "white"
           }
          },
          "shapedefaults": {
           "line": {
            "color": "#2a3f5f"
           }
          },
          "ternary": {
           "aaxis": {
            "gridcolor": "white",
            "linecolor": "white",
            "ticks": ""
           },
           "baxis": {
            "gridcolor": "white",
            "linecolor": "white",
            "ticks": ""
           },
           "bgcolor": "#E5ECF6",
           "caxis": {
            "gridcolor": "white",
            "linecolor": "white",
            "ticks": ""
           }
          },
          "title": {
           "x": 0.05
          },
          "xaxis": {
           "automargin": true,
           "gridcolor": "white",
           "linecolor": "white",
           "ticks": "",
           "title": {
            "standoff": 15
           },
           "zerolinecolor": "white",
           "zerolinewidth": 2
          },
          "yaxis": {
           "automargin": true,
           "gridcolor": "white",
           "linecolor": "white",
           "ticks": "",
           "title": {
            "standoff": 15
           },
           "zerolinecolor": "white",
           "zerolinewidth": 2
          }
         }
        }
       }
      },
      "text/html": [
       "<div>                            <div id=\"55c164aa-1217-4d5a-8262-405c5c2d5e06\" class=\"plotly-graph-div\" style=\"height:525px; width:100%;\"></div>            <script type=\"text/javascript\">                require([\"plotly\"], function(Plotly) {                    window.PLOTLYENV=window.PLOTLYENV || {};                                    if (document.getElementById(\"55c164aa-1217-4d5a-8262-405c5c2d5e06\")) {                    Plotly.newPlot(                        \"55c164aa-1217-4d5a-8262-405c5c2d5e06\",                        [{\"hovertemplate\": \"x=%{x}<br>y=%{y}<br>z=%{z}<extra></extra>\", \"legendgroup\": \"\", \"marker\": {\"color\": \"#636efa\", \"symbol\": \"circle\"}, \"mode\": \"markers\", \"name\": \"\", \"scene\": \"scene\", \"showlegend\": false, \"type\": \"scatter3d\", \"x\": [1.893431122037371, 1.5681970484613723, -1.254867188426045, -2.6225995577259873, -2.704871829041259, -2.1349512489043074, 3.2375065201979174, 2.1596951539521134, 1.2957900831126503, -0.6790253147153136, -1.1747146379104187, -2.7033174545857563, 2.2482244854063875, 0.5549535778973844, 2.1099192952671517, 3.9571434045089147, -1.9258568057503798, 2.4740047766337225, -2.739379878425118, 0.2782121148821268, 0.13592441679229061, 3.898836947426809, -1.9513858610100683, 0.5658598936399666, -0.15604076851214943, -1.1836421358324825, 1.6112436669398855, 0.30069095892593056, 2.7225365765078307, 3.190125116163946, 0.29169610143848956, -0.8099435271995752, 3.287006725955796, 0.6939663775656513, 3.2038861948064703, 3.4223661974000112, 4.007980358963083, -1.7492425649385401, -0.9590712406331208, 2.099167474744543, 1.5250047672517715, 0.3409294489955075, 3.081627334555203, 3.3951454768022513, -2.3487692270619362, 0.006022011018664841, 1.7016259999335803, -1.771980471084575, 0.9051824310171868, -1.0753315401045658, 2.1282077092072598, -0.726281933287038, 2.6010029250043, 2.763598810798298, 2.42324322533457, -1.9488681637604006, 1.8895497233872467, -1.7225125742285536, -1.1537470087350121, -1.9048188934022796, 0.9412517549701729, -1.616323935881689, 1.477905826522445, 1.0713408945039151, -0.2825533039636108, 2.773044973544354, 2.484245664076118, 3.7481747296319172, -2.498610637905349, 1.1148385270542613, -2.7580031765194386, -1.740797654177503, -2.3859210199403322, -0.4941800622779766, -1.7130987846870762, 1.0559362014119449, -0.44264531589540246, -0.9194516371323274, -1.7502013548386381, 3.8284500965882886, 1.487705270718621, -1.862076907247697, 2.8994130954813935, 1.9295012623567045, -1.9885823733745238, -2.3556529529599737, 3.206375255411408, 0.21877877276454427, 2.8533331541275, 3.8221456307463955, -0.644666593566682, 0.2955168109745756, -2.701263454376418, -1.5923121340765387, 1.2710406931360438, 4.087728351322402, -0.5198275523960945, -1.4038176138436667, -0.49391775651544245, 0.8392545107788361], \"y\": [2.858271299567426, -0.2285845790451475, -0.41437891219429446, 0.17533278199937907, 0.31555172888999694, -2.6276887225785686, 0.030498012588017875, -0.9673152290137152, -1.1431231974154514, -1.3681380510076795, 1.361275444443847, -1.9589554620547607, 1.0629110309673262, 1.1718078733300885, 0.6088915138480062, 3.5366880466691644, -2.1202837426545935, 2.6233380761732397, 1.0202317586656378, 3.567378015173258, 3.3938351022116313, -0.18583000139358363, 0.011884590145204488, -2.614951149595027, -2.1637921464884613, -1.979165841533602, -2.0361527682213074, 0.394028728248518, 1.246915707470417, 2.1456448420680525, -2.089983378342406, 0.299155047998624, 2.8782264779331825, 0.4163122184552268, -1.4282662470344611, -1.3130780529886452, 0.4574754149711553, 2.882218299214281, 3.8806480175931197, 1.8402042508522785, 3.2026839660563367, 3.270923262628658, 1.5858581889343153, 1.2174712281082058, 3.0042795390346555, 1.540934893094474, 1.0306629192794103, -2.4846120640261584, -0.6399171098710017, -0.7774140269127336, 3.498354429320293, -2.578556945642705, -1.2503195685762243, 2.292774337769285, 0.5034993085647379, -0.4099694611184983, -0.7418986954834672, -1.0355055165084137, 0.8598566215079742, 3.376725371623551, -2.0088467247081785, 1.7034005945179977, -2.5164632616632066, -0.46613553936681695, -2.5642283069349356, 0.49285292758577537, -2.003805570828026, -0.4958263818268578, 3.5829231721176384, 1.1225680701635214, -2.4679377262588202, 2.5146063128465084, -0.1458918758086778, -0.0762729644248692, 2.355223299622045, -1.1235696465309863, 1.436112936706336, -0.8697966903899312, 0.015634117680358273, 3.1274000146021574, -0.004795861457805195, 3.5112934781012015, -2.4203585978519127, 2.046013935971998, -2.0585277462453853, 0.5722823567745894, 2.083473445162613, -2.753539523310403, 3.763573832308748, 2.376779394151991, -2.1217464479893424, 0.22240076493986916, 2.2695962895350243, -1.5679778530037356, 3.2336967603973177, 3.650946290497072, 0.44706227768841744, -2.7594563037765494, -1.8007093611353122, -1.8804140410536256], \"z\": [14.340322902471952, 6.102132423219861, 5.195721864242078, 7.104072665176831, 8.357316029726508, 12.172296582001396, 13.782939429761893, 8.155354501681346, 4.963196925782821, 2.2513392745212526, 5.710982888729786, 14.430796791698985, 11.050743544294033, 4.580209651843878, 6.764167635071685, 32.74443680643798, 8.520712031448452, 18.587114607435062, 7.722444046816655, 16.37064240699993, 14.772674209117667, 15.293844043930562, 6.177037724633898, 8.128312538852065, 6.204195885344919, 7.108988725845381, 8.223000822354855, 1.2569229792133256, 10.55775086245758, 19.706841538806465, 6.706058333561501, 1.7687686749152096, 23.593173218336734, 3.2655787664912994, 15.132493276385624, 12.642417747896609, 19.633000277192053, 13.877055831056232, 18.604320864886635, 10.72471991532183, 16.43781551204058, 14.023823641756993, 14.430018483302408, 16.754700161346825, 17.147511843215636, 6.138873556972304, 6.600723107643137, 9.351306527708013, 3.724045634147857, 3.7301461198099943, 20.265842310649198, 9.325157715579245, 9.724120723541281, 16.846381747223905, 8.139607002404441, 5.374448065892494, 6.583410109274485, 5.876505220450214, 5.015094691483553, 16.163502692583837, 8.119211039590734, 5.261201616679922, 9.987514525981675, 3.425039803228443, 9.856057344237657, 9.853747313698886, 12.09557527507214, 17.264203187962867, 20.349683945947437, 6.67685175881257, 15.380263950413285, 12.715341416903147, 7.914364501918331, 0.9263210441725416, 11.895343231583947, 5.354867288140509, 3.8980157146585936, 3.7701415422198163, 4.617334623189776, 27.82607348818732, 5.115044860291125, 17.556286956773786, 14.991262719572232, 10.404703023625018, 8.857150739031573, 8.363862462797318, 18.32040748086945, 10.94995034281345, 27.810350648933415, 24.621971740741724, 8.026715792965641, 1.260220346281471, 13.27119859809963, 7.038365537488042, 15.53629223267101, 34.39663158906246, 0.6968740454426487, 10.553433355880129, 7.031916454402001, 5.964874884952427]}, {\"type\": \"surface\", \"x\": [-2.7580031765194386, -1.9973663400925674, -1.2367295036656962, -0.47609266723882504, 0.28454416918804615, 1.0451810056149173, 1.8058178420417885, 2.56645467846866, 3.327091514895531, 4.087728351322402], \"y\": [-2.7594563037765494, -2.021666934735475, -1.2838775656944006, -0.5460881966533262, 0.1917011723877482, 0.9294905414288226, 1.667279910469897, 2.4050692795109714, 3.1428586485520458, 3.8806480175931197], \"z\": [[14.347616666363278, 6.012406624114332, 5.2823260940669154, 7.042056433117208, 13.104757315450586, 12.263181514298735, 13.790719796164153, 8.228488317882833, 5.052812061464605, 2.2290627576468562], [5.840976110851583, 14.399745735058927, 11.057533764146976, 4.651308370263449, 6.759494177257833, 11.235527773402731, 8.54362427369338, 18.611300817882835, 7.474582067882833, 16.346528550074396], [14.455619360724212, 15.315402380382833, 6.262860774720279, 8.129879056693566, 11.221446782700976, 7.101133655948756, 8.187377325451193, 0.9915451921580409, 10.543308532756013, 19.68943975175094], [6.683803561535965, 1.4947714943511752, 23.352796069538414, 3.2753633178828334, 14.804947420215425, 12.424496165668783, 19.772477762034356, 13.865065958201653, 11.234669136189547, 10.794650427257833], [16.420210366678617, 14.160134664928732, 14.348717375850496, 16.709691397106468, 17.220675817882835, 11.235591855637349, 6.88931541815978, 9.435519567882833, 3.887908595185838, 11.235448455838705], [20.325627676403343, 11.235608262170384, 9.526081270730314, 11.233403018286843, 7.224672663986937, 5.366200527724827, 11.583472993149122, 5.880633703625021, 5.024895898258505, 16.16706406251174], [8.119952551281271, 4.94313606173378, 9.99149257802051, 3.4250822828791154, 9.848100414400646, 9.843028918217128, 11.941169968998251, 17.330376227812394, 20.591494701063453, 6.578097692882833], [15.390597692882833, 12.755412252447995, 7.886380068218527, 1.2053588304726457, 11.23558996572212, 5.347628942882833, 3.87855057879929, 11.235601404281883, 11.223560619475112, 27.812119833385765], [5.101414270891068, 18.073418180650293, 15.088699742412386, 10.387626736354973, 8.853671423351583, 8.345641247188864, 11.235610830127916, 10.966400180669693, 27.434092983331297, 24.635146728908836], [8.019923559582052, 1.4923481263278102, 13.251844629611837, 7.033928266918478, 15.517550817882833, 34.387571350310424, 0.6909820318279838, 10.658175817882833, 7.106902710354147, 5.950517849664861]]}],                        {\"legend\": {\"tracegroupgap\": 0}, \"margin\": {\"t\": 60}, \"scene\": {\"domain\": {\"x\": [0.0, 1.0], \"y\": [0.0, 1.0]}, \"xaxis\": {\"title\": {\"text\": \"x\"}}, \"yaxis\": {\"title\": {\"text\": \"y\"}}, \"zaxis\": {\"range\": [0, 35], \"title\": {\"text\": \"z\"}}}, \"template\": {\"data\": {\"bar\": [{\"error_x\": {\"color\": \"#2a3f5f\"}, \"error_y\": {\"color\": \"#2a3f5f\"}, \"marker\": {\"line\": {\"color\": \"#E5ECF6\", \"width\": 0.5}}, \"type\": \"bar\"}], \"barpolar\": [{\"marker\": {\"line\": {\"color\": \"#E5ECF6\", \"width\": 0.5}}, \"type\": \"barpolar\"}], \"carpet\": [{\"aaxis\": {\"endlinecolor\": \"#2a3f5f\", \"gridcolor\": \"white\", \"linecolor\": \"white\", \"minorgridcolor\": \"white\", \"startlinecolor\": \"#2a3f5f\"}, \"baxis\": {\"endlinecolor\": \"#2a3f5f\", \"gridcolor\": \"white\", \"linecolor\": \"white\", \"minorgridcolor\": \"white\", \"startlinecolor\": \"#2a3f5f\"}, \"type\": \"carpet\"}], \"choropleth\": [{\"colorbar\": {\"outlinewidth\": 0, \"ticks\": \"\"}, \"type\": \"choropleth\"}], \"contour\": [{\"colorbar\": {\"outlinewidth\": 0, \"ticks\": \"\"}, \"colorscale\": [[0.0, \"#0d0887\"], [0.1111111111111111, \"#46039f\"], [0.2222222222222222, \"#7201a8\"], [0.3333333333333333, \"#9c179e\"], [0.4444444444444444, \"#bd3786\"], [0.5555555555555556, \"#d8576b\"], [0.6666666666666666, \"#ed7953\"], [0.7777777777777778, \"#fb9f3a\"], [0.8888888888888888, \"#fdca26\"], [1.0, \"#f0f921\"]], \"type\": \"contour\"}], \"contourcarpet\": [{\"colorbar\": {\"outlinewidth\": 0, \"ticks\": \"\"}, \"type\": \"contourcarpet\"}], \"heatmap\": [{\"colorbar\": {\"outlinewidth\": 0, \"ticks\": \"\"}, \"colorscale\": [[0.0, \"#0d0887\"], [0.1111111111111111, \"#46039f\"], [0.2222222222222222, \"#7201a8\"], [0.3333333333333333, \"#9c179e\"], [0.4444444444444444, \"#bd3786\"], [0.5555555555555556, \"#d8576b\"], [0.6666666666666666, \"#ed7953\"], [0.7777777777777778, \"#fb9f3a\"], [0.8888888888888888, \"#fdca26\"], [1.0, \"#f0f921\"]], \"type\": \"heatmap\"}], \"heatmapgl\": [{\"colorbar\": {\"outlinewidth\": 0, \"ticks\": \"\"}, \"colorscale\": [[0.0, \"#0d0887\"], [0.1111111111111111, \"#46039f\"], [0.2222222222222222, \"#7201a8\"], [0.3333333333333333, \"#9c179e\"], [0.4444444444444444, \"#bd3786\"], [0.5555555555555556, \"#d8576b\"], [0.6666666666666666, \"#ed7953\"], [0.7777777777777778, \"#fb9f3a\"], [0.8888888888888888, \"#fdca26\"], [1.0, \"#f0f921\"]], \"type\": \"heatmapgl\"}], \"histogram\": [{\"marker\": {\"colorbar\": {\"outlinewidth\": 0, \"ticks\": \"\"}}, \"type\": \"histogram\"}], \"histogram2d\": [{\"colorbar\": {\"outlinewidth\": 0, \"ticks\": \"\"}, \"colorscale\": [[0.0, \"#0d0887\"], [0.1111111111111111, \"#46039f\"], [0.2222222222222222, \"#7201a8\"], [0.3333333333333333, \"#9c179e\"], [0.4444444444444444, \"#bd3786\"], [0.5555555555555556, \"#d8576b\"], [0.6666666666666666, \"#ed7953\"], [0.7777777777777778, \"#fb9f3a\"], [0.8888888888888888, \"#fdca26\"], [1.0, \"#f0f921\"]], \"type\": \"histogram2d\"}], \"histogram2dcontour\": [{\"colorbar\": {\"outlinewidth\": 0, \"ticks\": \"\"}, \"colorscale\": [[0.0, \"#0d0887\"], [0.1111111111111111, \"#46039f\"], [0.2222222222222222, \"#7201a8\"], [0.3333333333333333, \"#9c179e\"], [0.4444444444444444, \"#bd3786\"], [0.5555555555555556, \"#d8576b\"], [0.6666666666666666, \"#ed7953\"], [0.7777777777777778, \"#fb9f3a\"], [0.8888888888888888, \"#fdca26\"], [1.0, \"#f0f921\"]], \"type\": \"histogram2dcontour\"}], \"mesh3d\": [{\"colorbar\": {\"outlinewidth\": 0, \"ticks\": \"\"}, \"type\": \"mesh3d\"}], \"parcoords\": [{\"line\": {\"colorbar\": {\"outlinewidth\": 0, \"ticks\": \"\"}}, \"type\": \"parcoords\"}], \"pie\": [{\"automargin\": true, \"type\": \"pie\"}], \"scatter\": [{\"marker\": {\"colorbar\": {\"outlinewidth\": 0, \"ticks\": \"\"}}, \"type\": \"scatter\"}], \"scatter3d\": [{\"line\": {\"colorbar\": {\"outlinewidth\": 0, \"ticks\": \"\"}}, \"marker\": {\"colorbar\": {\"outlinewidth\": 0, \"ticks\": \"\"}}, \"type\": \"scatter3d\"}], \"scattercarpet\": [{\"marker\": {\"colorbar\": {\"outlinewidth\": 0, \"ticks\": \"\"}}, \"type\": \"scattercarpet\"}], \"scattergeo\": [{\"marker\": {\"colorbar\": {\"outlinewidth\": 0, \"ticks\": \"\"}}, \"type\": \"scattergeo\"}], \"scattergl\": [{\"marker\": {\"colorbar\": {\"outlinewidth\": 0, \"ticks\": \"\"}}, \"type\": \"scattergl\"}], \"scattermapbox\": [{\"marker\": {\"colorbar\": {\"outlinewidth\": 0, \"ticks\": \"\"}}, \"type\": \"scattermapbox\"}], \"scatterpolar\": [{\"marker\": {\"colorbar\": {\"outlinewidth\": 0, \"ticks\": \"\"}}, \"type\": \"scatterpolar\"}], \"scatterpolargl\": [{\"marker\": {\"colorbar\": {\"outlinewidth\": 0, \"ticks\": \"\"}}, \"type\": \"scatterpolargl\"}], \"scatterternary\": [{\"marker\": {\"colorbar\": {\"outlinewidth\": 0, \"ticks\": \"\"}}, \"type\": \"scatterternary\"}], \"surface\": [{\"colorbar\": {\"outlinewidth\": 0, \"ticks\": \"\"}, \"colorscale\": [[0.0, \"#0d0887\"], [0.1111111111111111, \"#46039f\"], [0.2222222222222222, \"#7201a8\"], [0.3333333333333333, \"#9c179e\"], [0.4444444444444444, \"#bd3786\"], [0.5555555555555556, \"#d8576b\"], [0.6666666666666666, \"#ed7953\"], [0.7777777777777778, \"#fb9f3a\"], [0.8888888888888888, \"#fdca26\"], [1.0, \"#f0f921\"]], \"type\": \"surface\"}], \"table\": [{\"cells\": {\"fill\": {\"color\": \"#EBF0F8\"}, \"line\": {\"color\": \"white\"}}, \"header\": {\"fill\": {\"color\": \"#C8D4E3\"}, \"line\": {\"color\": \"white\"}}, \"type\": \"table\"}]}, \"layout\": {\"annotationdefaults\": {\"arrowcolor\": \"#2a3f5f\", \"arrowhead\": 0, \"arrowwidth\": 1}, \"autotypenumbers\": \"strict\", \"coloraxis\": {\"colorbar\": {\"outlinewidth\": 0, \"ticks\": \"\"}}, \"colorscale\": {\"diverging\": [[0, \"#8e0152\"], [0.1, \"#c51b7d\"], [0.2, \"#de77ae\"], [0.3, \"#f1b6da\"], [0.4, \"#fde0ef\"], [0.5, \"#f7f7f7\"], [0.6, \"#e6f5d0\"], [0.7, \"#b8e186\"], [0.8, \"#7fbc41\"], [0.9, \"#4d9221\"], [1, \"#276419\"]], \"sequential\": [[0.0, \"#0d0887\"], [0.1111111111111111, \"#46039f\"], [0.2222222222222222, \"#7201a8\"], [0.3333333333333333, \"#9c179e\"], [0.4444444444444444, \"#bd3786\"], [0.5555555555555556, \"#d8576b\"], [0.6666666666666666, \"#ed7953\"], [0.7777777777777778, \"#fb9f3a\"], [0.8888888888888888, \"#fdca26\"], [1.0, \"#f0f921\"]], \"sequentialminus\": [[0.0, \"#0d0887\"], [0.1111111111111111, \"#46039f\"], [0.2222222222222222, \"#7201a8\"], [0.3333333333333333, \"#9c179e\"], [0.4444444444444444, \"#bd3786\"], [0.5555555555555556, \"#d8576b\"], [0.6666666666666666, \"#ed7953\"], [0.7777777777777778, \"#fb9f3a\"], [0.8888888888888888, \"#fdca26\"], [1.0, \"#f0f921\"]]}, \"colorway\": [\"#636efa\", \"#EF553B\", \"#00cc96\", \"#ab63fa\", \"#FFA15A\", \"#19d3f3\", \"#FF6692\", \"#B6E880\", \"#FF97FF\", \"#FECB52\"], \"font\": {\"color\": \"#2a3f5f\"}, \"geo\": {\"bgcolor\": \"white\", \"lakecolor\": \"white\", \"landcolor\": \"#E5ECF6\", \"showlakes\": true, \"showland\": true, \"subunitcolor\": \"white\"}, \"hoverlabel\": {\"align\": \"left\"}, \"hovermode\": \"closest\", \"mapbox\": {\"style\": \"light\"}, \"paper_bgcolor\": \"white\", \"plot_bgcolor\": \"#E5ECF6\", \"polar\": {\"angularaxis\": {\"gridcolor\": \"white\", \"linecolor\": \"white\", \"ticks\": \"\"}, \"bgcolor\": \"#E5ECF6\", \"radialaxis\": {\"gridcolor\": \"white\", \"linecolor\": \"white\", \"ticks\": \"\"}}, \"scene\": {\"xaxis\": {\"backgroundcolor\": \"#E5ECF6\", \"gridcolor\": \"white\", \"gridwidth\": 2, \"linecolor\": \"white\", \"showbackground\": true, \"ticks\": \"\", \"zerolinecolor\": \"white\"}, \"yaxis\": {\"backgroundcolor\": \"#E5ECF6\", \"gridcolor\": \"white\", \"gridwidth\": 2, \"linecolor\": \"white\", \"showbackground\": true, \"ticks\": \"\", \"zerolinecolor\": \"white\"}, \"zaxis\": {\"backgroundcolor\": \"#E5ECF6\", \"gridcolor\": \"white\", \"gridwidth\": 2, \"linecolor\": \"white\", \"showbackground\": true, \"ticks\": \"\", \"zerolinecolor\": \"white\"}}, \"shapedefaults\": {\"line\": {\"color\": \"#2a3f5f\"}}, \"ternary\": {\"aaxis\": {\"gridcolor\": \"white\", \"linecolor\": \"white\", \"ticks\": \"\"}, \"baxis\": {\"gridcolor\": \"white\", \"linecolor\": \"white\", \"ticks\": \"\"}, \"bgcolor\": \"#E5ECF6\", \"caxis\": {\"gridcolor\": \"white\", \"linecolor\": \"white\", \"ticks\": \"\"}}, \"title\": {\"x\": 0.05}, \"xaxis\": {\"automargin\": true, \"gridcolor\": \"white\", \"linecolor\": \"white\", \"ticks\": \"\", \"title\": {\"standoff\": 15}, \"zerolinecolor\": \"white\", \"zerolinewidth\": 2}, \"yaxis\": {\"automargin\": true, \"gridcolor\": \"white\", \"linecolor\": \"white\", \"ticks\": \"\", \"title\": {\"standoff\": 15}, \"zerolinecolor\": \"white\", \"zerolinewidth\": 2}}}},                        {\"responsive\": true}                    ).then(function(){\n",
       "                            \n",
       "var gd = document.getElementById('55c164aa-1217-4d5a-8262-405c5c2d5e06');\n",
       "var x = new MutationObserver(function (mutations, observer) {{\n",
       "        var display = window.getComputedStyle(gd).display;\n",
       "        if (!display || display === 'none') {{\n",
       "            console.log([gd, 'removed!']);\n",
       "            Plotly.purge(gd);\n",
       "            observer.disconnect();\n",
       "        }}\n",
       "}});\n",
       "\n",
       "// Listen for the removal of the full notebook cells\n",
       "var notebookContainer = gd.closest('#notebook-container');\n",
       "if (notebookContainer) {{\n",
       "    x.observe(notebookContainer, {childList: true});\n",
       "}}\n",
       "\n",
       "// Listen for the clearing of the current output cell\n",
       "var outputEl = gd.closest('.output');\n",
       "if (outputEl) {{\n",
       "    x.observe(outputEl, {childList: true});\n",
       "}}\n",
       "\n",
       "                        })                };                });            </script>        </div>"
      ]
     },
     "metadata": {},
     "output_type": "display_data"
    }
   ],
   "source": [
    "fig = px.scatter_3d(x=x.ravel(), y=y.ravel(), z=z.ravel())\n",
    "\n",
    "fig.add_trace(go.Surface(x = x_input, y = y_input, z =z_final))\n",
    "\n",
    "fig.update_layout(scene = dict(zaxis = dict(range=[0,35])))\n",
    "\n",
    "fig.show()"
   ]
  },
  {
   "cell_type": "code",
   "execution_count": null,
   "id": "82187d83",
   "metadata": {},
   "outputs": [],
   "source": []
  }
 ],
 "metadata": {
  "kernelspec": {
   "display_name": "Python 3 (ipykernel)",
   "language": "python",
   "name": "python3"
  },
  "language_info": {
   "codemirror_mode": {
    "name": "ipython",
    "version": 3
   },
   "file_extension": ".py",
   "mimetype": "text/x-python",
   "name": "python",
   "nbconvert_exporter": "python",
   "pygments_lexer": "ipython3",
   "version": "3.9.7"
  }
 },
 "nbformat": 4,
 "nbformat_minor": 5
}
